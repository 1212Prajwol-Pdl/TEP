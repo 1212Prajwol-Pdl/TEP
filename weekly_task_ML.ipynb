{
  "nbformat": 4,
  "nbformat_minor": 0,
  "metadata": {
    "colab": {
      "name": "weekly_task_ML.ipynb",
      "provenance": [],
      "collapsed_sections": [],
      "authorship_tag": "ABX9TyOoMO29SNQCqKdvRsZY1RMH",
      "include_colab_link": true
    },
    "kernelspec": {
      "name": "python3",
      "display_name": "Python 3"
    },
    "language_info": {
      "name": "python"
    },
    "widgets": {
      "application/vnd.jupyter.widget-state+json": {
        "2f0bf80073c6414891a294e134558d86": {
          "model_module": "@jupyter-widgets/controls",
          "model_name": "HBoxModel",
          "model_module_version": "1.5.0",
          "state": {
            "_dom_classes": [],
            "_model_module": "@jupyter-widgets/controls",
            "_model_module_version": "1.5.0",
            "_model_name": "HBoxModel",
            "_view_count": null,
            "_view_module": "@jupyter-widgets/controls",
            "_view_module_version": "1.5.0",
            "_view_name": "HBoxView",
            "box_style": "",
            "children": [
              "IPY_MODEL_41d1c4917ed44a70a6d5ddc0ca4ae1c7",
              "IPY_MODEL_c6fbabf09952444fafcc9e3967dc1ad4",
              "IPY_MODEL_690380cd61864649b130d32adbf973bf"
            ],
            "layout": "IPY_MODEL_cb832b61a8dd4f888d90179366336e41"
          }
        },
        "41d1c4917ed44a70a6d5ddc0ca4ae1c7": {
          "model_module": "@jupyter-widgets/controls",
          "model_name": "HTMLModel",
          "model_module_version": "1.5.0",
          "state": {
            "_dom_classes": [],
            "_model_module": "@jupyter-widgets/controls",
            "_model_module_version": "1.5.0",
            "_model_name": "HTMLModel",
            "_view_count": null,
            "_view_module": "@jupyter-widgets/controls",
            "_view_module_version": "1.5.0",
            "_view_name": "HTMLView",
            "description": "",
            "description_tooltip": null,
            "layout": "IPY_MODEL_4ab1bca4d41b455d8165e104b63b5d3d",
            "placeholder": "​",
            "style": "IPY_MODEL_5d93f99cacbd4bc9b6d4ffa74f9ac79e",
            "value": ""
          }
        },
        "c6fbabf09952444fafcc9e3967dc1ad4": {
          "model_module": "@jupyter-widgets/controls",
          "model_name": "FloatProgressModel",
          "model_module_version": "1.5.0",
          "state": {
            "_dom_classes": [],
            "_model_module": "@jupyter-widgets/controls",
            "_model_module_version": "1.5.0",
            "_model_name": "FloatProgressModel",
            "_view_count": null,
            "_view_module": "@jupyter-widgets/controls",
            "_view_module_version": "1.5.0",
            "_view_name": "ProgressView",
            "bar_style": "success",
            "description": "",
            "description_tooltip": null,
            "layout": "IPY_MODEL_92cbc39c29af49d68f02ed811c24554d",
            "max": 9912422,
            "min": 0,
            "orientation": "horizontal",
            "style": "IPY_MODEL_b5e505bab85f485bb4b95c164370edde",
            "value": 9912422
          }
        },
        "690380cd61864649b130d32adbf973bf": {
          "model_module": "@jupyter-widgets/controls",
          "model_name": "HTMLModel",
          "model_module_version": "1.5.0",
          "state": {
            "_dom_classes": [],
            "_model_module": "@jupyter-widgets/controls",
            "_model_module_version": "1.5.0",
            "_model_name": "HTMLModel",
            "_view_count": null,
            "_view_module": "@jupyter-widgets/controls",
            "_view_module_version": "1.5.0",
            "_view_name": "HTMLView",
            "description": "",
            "description_tooltip": null,
            "layout": "IPY_MODEL_ecd3df7c07ea4503b0eb0af811d9cd42",
            "placeholder": "​",
            "style": "IPY_MODEL_4494931ab97240859e31dc9ab9e3e52d",
            "value": " 9913344/? [00:00&lt;00:00, 25558781.17it/s]"
          }
        },
        "cb832b61a8dd4f888d90179366336e41": {
          "model_module": "@jupyter-widgets/base",
          "model_name": "LayoutModel",
          "model_module_version": "1.2.0",
          "state": {
            "_model_module": "@jupyter-widgets/base",
            "_model_module_version": "1.2.0",
            "_model_name": "LayoutModel",
            "_view_count": null,
            "_view_module": "@jupyter-widgets/base",
            "_view_module_version": "1.2.0",
            "_view_name": "LayoutView",
            "align_content": null,
            "align_items": null,
            "align_self": null,
            "border": null,
            "bottom": null,
            "display": null,
            "flex": null,
            "flex_flow": null,
            "grid_area": null,
            "grid_auto_columns": null,
            "grid_auto_flow": null,
            "grid_auto_rows": null,
            "grid_column": null,
            "grid_gap": null,
            "grid_row": null,
            "grid_template_areas": null,
            "grid_template_columns": null,
            "grid_template_rows": null,
            "height": null,
            "justify_content": null,
            "justify_items": null,
            "left": null,
            "margin": null,
            "max_height": null,
            "max_width": null,
            "min_height": null,
            "min_width": null,
            "object_fit": null,
            "object_position": null,
            "order": null,
            "overflow": null,
            "overflow_x": null,
            "overflow_y": null,
            "padding": null,
            "right": null,
            "top": null,
            "visibility": null,
            "width": null
          }
        },
        "4ab1bca4d41b455d8165e104b63b5d3d": {
          "model_module": "@jupyter-widgets/base",
          "model_name": "LayoutModel",
          "model_module_version": "1.2.0",
          "state": {
            "_model_module": "@jupyter-widgets/base",
            "_model_module_version": "1.2.0",
            "_model_name": "LayoutModel",
            "_view_count": null,
            "_view_module": "@jupyter-widgets/base",
            "_view_module_version": "1.2.0",
            "_view_name": "LayoutView",
            "align_content": null,
            "align_items": null,
            "align_self": null,
            "border": null,
            "bottom": null,
            "display": null,
            "flex": null,
            "flex_flow": null,
            "grid_area": null,
            "grid_auto_columns": null,
            "grid_auto_flow": null,
            "grid_auto_rows": null,
            "grid_column": null,
            "grid_gap": null,
            "grid_row": null,
            "grid_template_areas": null,
            "grid_template_columns": null,
            "grid_template_rows": null,
            "height": null,
            "justify_content": null,
            "justify_items": null,
            "left": null,
            "margin": null,
            "max_height": null,
            "max_width": null,
            "min_height": null,
            "min_width": null,
            "object_fit": null,
            "object_position": null,
            "order": null,
            "overflow": null,
            "overflow_x": null,
            "overflow_y": null,
            "padding": null,
            "right": null,
            "top": null,
            "visibility": null,
            "width": null
          }
        },
        "5d93f99cacbd4bc9b6d4ffa74f9ac79e": {
          "model_module": "@jupyter-widgets/controls",
          "model_name": "DescriptionStyleModel",
          "model_module_version": "1.5.0",
          "state": {
            "_model_module": "@jupyter-widgets/controls",
            "_model_module_version": "1.5.0",
            "_model_name": "DescriptionStyleModel",
            "_view_count": null,
            "_view_module": "@jupyter-widgets/base",
            "_view_module_version": "1.2.0",
            "_view_name": "StyleView",
            "description_width": ""
          }
        },
        "92cbc39c29af49d68f02ed811c24554d": {
          "model_module": "@jupyter-widgets/base",
          "model_name": "LayoutModel",
          "model_module_version": "1.2.0",
          "state": {
            "_model_module": "@jupyter-widgets/base",
            "_model_module_version": "1.2.0",
            "_model_name": "LayoutModel",
            "_view_count": null,
            "_view_module": "@jupyter-widgets/base",
            "_view_module_version": "1.2.0",
            "_view_name": "LayoutView",
            "align_content": null,
            "align_items": null,
            "align_self": null,
            "border": null,
            "bottom": null,
            "display": null,
            "flex": null,
            "flex_flow": null,
            "grid_area": null,
            "grid_auto_columns": null,
            "grid_auto_flow": null,
            "grid_auto_rows": null,
            "grid_column": null,
            "grid_gap": null,
            "grid_row": null,
            "grid_template_areas": null,
            "grid_template_columns": null,
            "grid_template_rows": null,
            "height": null,
            "justify_content": null,
            "justify_items": null,
            "left": null,
            "margin": null,
            "max_height": null,
            "max_width": null,
            "min_height": null,
            "min_width": null,
            "object_fit": null,
            "object_position": null,
            "order": null,
            "overflow": null,
            "overflow_x": null,
            "overflow_y": null,
            "padding": null,
            "right": null,
            "top": null,
            "visibility": null,
            "width": null
          }
        },
        "b5e505bab85f485bb4b95c164370edde": {
          "model_module": "@jupyter-widgets/controls",
          "model_name": "ProgressStyleModel",
          "model_module_version": "1.5.0",
          "state": {
            "_model_module": "@jupyter-widgets/controls",
            "_model_module_version": "1.5.0",
            "_model_name": "ProgressStyleModel",
            "_view_count": null,
            "_view_module": "@jupyter-widgets/base",
            "_view_module_version": "1.2.0",
            "_view_name": "StyleView",
            "bar_color": null,
            "description_width": ""
          }
        },
        "ecd3df7c07ea4503b0eb0af811d9cd42": {
          "model_module": "@jupyter-widgets/base",
          "model_name": "LayoutModel",
          "model_module_version": "1.2.0",
          "state": {
            "_model_module": "@jupyter-widgets/base",
            "_model_module_version": "1.2.0",
            "_model_name": "LayoutModel",
            "_view_count": null,
            "_view_module": "@jupyter-widgets/base",
            "_view_module_version": "1.2.0",
            "_view_name": "LayoutView",
            "align_content": null,
            "align_items": null,
            "align_self": null,
            "border": null,
            "bottom": null,
            "display": null,
            "flex": null,
            "flex_flow": null,
            "grid_area": null,
            "grid_auto_columns": null,
            "grid_auto_flow": null,
            "grid_auto_rows": null,
            "grid_column": null,
            "grid_gap": null,
            "grid_row": null,
            "grid_template_areas": null,
            "grid_template_columns": null,
            "grid_template_rows": null,
            "height": null,
            "justify_content": null,
            "justify_items": null,
            "left": null,
            "margin": null,
            "max_height": null,
            "max_width": null,
            "min_height": null,
            "min_width": null,
            "object_fit": null,
            "object_position": null,
            "order": null,
            "overflow": null,
            "overflow_x": null,
            "overflow_y": null,
            "padding": null,
            "right": null,
            "top": null,
            "visibility": null,
            "width": null
          }
        },
        "4494931ab97240859e31dc9ab9e3e52d": {
          "model_module": "@jupyter-widgets/controls",
          "model_name": "DescriptionStyleModel",
          "model_module_version": "1.5.0",
          "state": {
            "_model_module": "@jupyter-widgets/controls",
            "_model_module_version": "1.5.0",
            "_model_name": "DescriptionStyleModel",
            "_view_count": null,
            "_view_module": "@jupyter-widgets/base",
            "_view_module_version": "1.2.0",
            "_view_name": "StyleView",
            "description_width": ""
          }
        },
        "b938f2a6528f42eba923c102e8c86335": {
          "model_module": "@jupyter-widgets/controls",
          "model_name": "HBoxModel",
          "model_module_version": "1.5.0",
          "state": {
            "_dom_classes": [],
            "_model_module": "@jupyter-widgets/controls",
            "_model_module_version": "1.5.0",
            "_model_name": "HBoxModel",
            "_view_count": null,
            "_view_module": "@jupyter-widgets/controls",
            "_view_module_version": "1.5.0",
            "_view_name": "HBoxView",
            "box_style": "",
            "children": [
              "IPY_MODEL_f4a344fcbd2f49d59dfff7543c03d1a7",
              "IPY_MODEL_468bc55c2c0c4c129138c24a6aff69b6",
              "IPY_MODEL_6515a1f6f6f4495abdcdc0aaf3658f62"
            ],
            "layout": "IPY_MODEL_3ae13b9d34dc46d09040d78ea2a22330"
          }
        },
        "f4a344fcbd2f49d59dfff7543c03d1a7": {
          "model_module": "@jupyter-widgets/controls",
          "model_name": "HTMLModel",
          "model_module_version": "1.5.0",
          "state": {
            "_dom_classes": [],
            "_model_module": "@jupyter-widgets/controls",
            "_model_module_version": "1.5.0",
            "_model_name": "HTMLModel",
            "_view_count": null,
            "_view_module": "@jupyter-widgets/controls",
            "_view_module_version": "1.5.0",
            "_view_name": "HTMLView",
            "description": "",
            "description_tooltip": null,
            "layout": "IPY_MODEL_b39fe61d725946d5ade37a17b67d368f",
            "placeholder": "​",
            "style": "IPY_MODEL_34f9ce4b2c084bfe8dba5f57838deb12",
            "value": ""
          }
        },
        "468bc55c2c0c4c129138c24a6aff69b6": {
          "model_module": "@jupyter-widgets/controls",
          "model_name": "FloatProgressModel",
          "model_module_version": "1.5.0",
          "state": {
            "_dom_classes": [],
            "_model_module": "@jupyter-widgets/controls",
            "_model_module_version": "1.5.0",
            "_model_name": "FloatProgressModel",
            "_view_count": null,
            "_view_module": "@jupyter-widgets/controls",
            "_view_module_version": "1.5.0",
            "_view_name": "ProgressView",
            "bar_style": "success",
            "description": "",
            "description_tooltip": null,
            "layout": "IPY_MODEL_dca3e45de393477fbcb94b7452b8411f",
            "max": 28881,
            "min": 0,
            "orientation": "horizontal",
            "style": "IPY_MODEL_341566765410490c89cfd2aa3cfb5e81",
            "value": 28881
          }
        },
        "6515a1f6f6f4495abdcdc0aaf3658f62": {
          "model_module": "@jupyter-widgets/controls",
          "model_name": "HTMLModel",
          "model_module_version": "1.5.0",
          "state": {
            "_dom_classes": [],
            "_model_module": "@jupyter-widgets/controls",
            "_model_module_version": "1.5.0",
            "_model_name": "HTMLModel",
            "_view_count": null,
            "_view_module": "@jupyter-widgets/controls",
            "_view_module_version": "1.5.0",
            "_view_name": "HTMLView",
            "description": "",
            "description_tooltip": null,
            "layout": "IPY_MODEL_ba1d3d76ce5748a48a3b2373aafc0357",
            "placeholder": "​",
            "style": "IPY_MODEL_1ff658b04b0649ee819145c9b2ee8e98",
            "value": " 29696/? [00:00&lt;00:00, 9153.95it/s]"
          }
        },
        "3ae13b9d34dc46d09040d78ea2a22330": {
          "model_module": "@jupyter-widgets/base",
          "model_name": "LayoutModel",
          "model_module_version": "1.2.0",
          "state": {
            "_model_module": "@jupyter-widgets/base",
            "_model_module_version": "1.2.0",
            "_model_name": "LayoutModel",
            "_view_count": null,
            "_view_module": "@jupyter-widgets/base",
            "_view_module_version": "1.2.0",
            "_view_name": "LayoutView",
            "align_content": null,
            "align_items": null,
            "align_self": null,
            "border": null,
            "bottom": null,
            "display": null,
            "flex": null,
            "flex_flow": null,
            "grid_area": null,
            "grid_auto_columns": null,
            "grid_auto_flow": null,
            "grid_auto_rows": null,
            "grid_column": null,
            "grid_gap": null,
            "grid_row": null,
            "grid_template_areas": null,
            "grid_template_columns": null,
            "grid_template_rows": null,
            "height": null,
            "justify_content": null,
            "justify_items": null,
            "left": null,
            "margin": null,
            "max_height": null,
            "max_width": null,
            "min_height": null,
            "min_width": null,
            "object_fit": null,
            "object_position": null,
            "order": null,
            "overflow": null,
            "overflow_x": null,
            "overflow_y": null,
            "padding": null,
            "right": null,
            "top": null,
            "visibility": null,
            "width": null
          }
        },
        "b39fe61d725946d5ade37a17b67d368f": {
          "model_module": "@jupyter-widgets/base",
          "model_name": "LayoutModel",
          "model_module_version": "1.2.0",
          "state": {
            "_model_module": "@jupyter-widgets/base",
            "_model_module_version": "1.2.0",
            "_model_name": "LayoutModel",
            "_view_count": null,
            "_view_module": "@jupyter-widgets/base",
            "_view_module_version": "1.2.0",
            "_view_name": "LayoutView",
            "align_content": null,
            "align_items": null,
            "align_self": null,
            "border": null,
            "bottom": null,
            "display": null,
            "flex": null,
            "flex_flow": null,
            "grid_area": null,
            "grid_auto_columns": null,
            "grid_auto_flow": null,
            "grid_auto_rows": null,
            "grid_column": null,
            "grid_gap": null,
            "grid_row": null,
            "grid_template_areas": null,
            "grid_template_columns": null,
            "grid_template_rows": null,
            "height": null,
            "justify_content": null,
            "justify_items": null,
            "left": null,
            "margin": null,
            "max_height": null,
            "max_width": null,
            "min_height": null,
            "min_width": null,
            "object_fit": null,
            "object_position": null,
            "order": null,
            "overflow": null,
            "overflow_x": null,
            "overflow_y": null,
            "padding": null,
            "right": null,
            "top": null,
            "visibility": null,
            "width": null
          }
        },
        "34f9ce4b2c084bfe8dba5f57838deb12": {
          "model_module": "@jupyter-widgets/controls",
          "model_name": "DescriptionStyleModel",
          "model_module_version": "1.5.0",
          "state": {
            "_model_module": "@jupyter-widgets/controls",
            "_model_module_version": "1.5.0",
            "_model_name": "DescriptionStyleModel",
            "_view_count": null,
            "_view_module": "@jupyter-widgets/base",
            "_view_module_version": "1.2.0",
            "_view_name": "StyleView",
            "description_width": ""
          }
        },
        "dca3e45de393477fbcb94b7452b8411f": {
          "model_module": "@jupyter-widgets/base",
          "model_name": "LayoutModel",
          "model_module_version": "1.2.0",
          "state": {
            "_model_module": "@jupyter-widgets/base",
            "_model_module_version": "1.2.0",
            "_model_name": "LayoutModel",
            "_view_count": null,
            "_view_module": "@jupyter-widgets/base",
            "_view_module_version": "1.2.0",
            "_view_name": "LayoutView",
            "align_content": null,
            "align_items": null,
            "align_self": null,
            "border": null,
            "bottom": null,
            "display": null,
            "flex": null,
            "flex_flow": null,
            "grid_area": null,
            "grid_auto_columns": null,
            "grid_auto_flow": null,
            "grid_auto_rows": null,
            "grid_column": null,
            "grid_gap": null,
            "grid_row": null,
            "grid_template_areas": null,
            "grid_template_columns": null,
            "grid_template_rows": null,
            "height": null,
            "justify_content": null,
            "justify_items": null,
            "left": null,
            "margin": null,
            "max_height": null,
            "max_width": null,
            "min_height": null,
            "min_width": null,
            "object_fit": null,
            "object_position": null,
            "order": null,
            "overflow": null,
            "overflow_x": null,
            "overflow_y": null,
            "padding": null,
            "right": null,
            "top": null,
            "visibility": null,
            "width": null
          }
        },
        "341566765410490c89cfd2aa3cfb5e81": {
          "model_module": "@jupyter-widgets/controls",
          "model_name": "ProgressStyleModel",
          "model_module_version": "1.5.0",
          "state": {
            "_model_module": "@jupyter-widgets/controls",
            "_model_module_version": "1.5.0",
            "_model_name": "ProgressStyleModel",
            "_view_count": null,
            "_view_module": "@jupyter-widgets/base",
            "_view_module_version": "1.2.0",
            "_view_name": "StyleView",
            "bar_color": null,
            "description_width": ""
          }
        },
        "ba1d3d76ce5748a48a3b2373aafc0357": {
          "model_module": "@jupyter-widgets/base",
          "model_name": "LayoutModel",
          "model_module_version": "1.2.0",
          "state": {
            "_model_module": "@jupyter-widgets/base",
            "_model_module_version": "1.2.0",
            "_model_name": "LayoutModel",
            "_view_count": null,
            "_view_module": "@jupyter-widgets/base",
            "_view_module_version": "1.2.0",
            "_view_name": "LayoutView",
            "align_content": null,
            "align_items": null,
            "align_self": null,
            "border": null,
            "bottom": null,
            "display": null,
            "flex": null,
            "flex_flow": null,
            "grid_area": null,
            "grid_auto_columns": null,
            "grid_auto_flow": null,
            "grid_auto_rows": null,
            "grid_column": null,
            "grid_gap": null,
            "grid_row": null,
            "grid_template_areas": null,
            "grid_template_columns": null,
            "grid_template_rows": null,
            "height": null,
            "justify_content": null,
            "justify_items": null,
            "left": null,
            "margin": null,
            "max_height": null,
            "max_width": null,
            "min_height": null,
            "min_width": null,
            "object_fit": null,
            "object_position": null,
            "order": null,
            "overflow": null,
            "overflow_x": null,
            "overflow_y": null,
            "padding": null,
            "right": null,
            "top": null,
            "visibility": null,
            "width": null
          }
        },
        "1ff658b04b0649ee819145c9b2ee8e98": {
          "model_module": "@jupyter-widgets/controls",
          "model_name": "DescriptionStyleModel",
          "model_module_version": "1.5.0",
          "state": {
            "_model_module": "@jupyter-widgets/controls",
            "_model_module_version": "1.5.0",
            "_model_name": "DescriptionStyleModel",
            "_view_count": null,
            "_view_module": "@jupyter-widgets/base",
            "_view_module_version": "1.2.0",
            "_view_name": "StyleView",
            "description_width": ""
          }
        },
        "a6aae722cded4fe2ab0e6a979f512d38": {
          "model_module": "@jupyter-widgets/controls",
          "model_name": "HBoxModel",
          "model_module_version": "1.5.0",
          "state": {
            "_dom_classes": [],
            "_model_module": "@jupyter-widgets/controls",
            "_model_module_version": "1.5.0",
            "_model_name": "HBoxModel",
            "_view_count": null,
            "_view_module": "@jupyter-widgets/controls",
            "_view_module_version": "1.5.0",
            "_view_name": "HBoxView",
            "box_style": "",
            "children": [
              "IPY_MODEL_393784c1244f4f0ebe67b799da820a8f",
              "IPY_MODEL_659457be87644eae8734ef18dfe22c2b",
              "IPY_MODEL_cf9f136b670f478d8d726e2e59de7de2"
            ],
            "layout": "IPY_MODEL_0a5dc4b264124f79bd9a7ee711e2bf77"
          }
        },
        "393784c1244f4f0ebe67b799da820a8f": {
          "model_module": "@jupyter-widgets/controls",
          "model_name": "HTMLModel",
          "model_module_version": "1.5.0",
          "state": {
            "_dom_classes": [],
            "_model_module": "@jupyter-widgets/controls",
            "_model_module_version": "1.5.0",
            "_model_name": "HTMLModel",
            "_view_count": null,
            "_view_module": "@jupyter-widgets/controls",
            "_view_module_version": "1.5.0",
            "_view_name": "HTMLView",
            "description": "",
            "description_tooltip": null,
            "layout": "IPY_MODEL_0f912343dfcf4ab09d552f9a50162b74",
            "placeholder": "​",
            "style": "IPY_MODEL_3fb69a7dc03e4bbbaf78e1add80fb06f",
            "value": ""
          }
        },
        "659457be87644eae8734ef18dfe22c2b": {
          "model_module": "@jupyter-widgets/controls",
          "model_name": "FloatProgressModel",
          "model_module_version": "1.5.0",
          "state": {
            "_dom_classes": [],
            "_model_module": "@jupyter-widgets/controls",
            "_model_module_version": "1.5.0",
            "_model_name": "FloatProgressModel",
            "_view_count": null,
            "_view_module": "@jupyter-widgets/controls",
            "_view_module_version": "1.5.0",
            "_view_name": "ProgressView",
            "bar_style": "success",
            "description": "",
            "description_tooltip": null,
            "layout": "IPY_MODEL_d345a823e62e40c68f3bd2efaab37653",
            "max": 1648877,
            "min": 0,
            "orientation": "horizontal",
            "style": "IPY_MODEL_d017ad90ee8e44e8ade77ed006ecf727",
            "value": 1648877
          }
        },
        "cf9f136b670f478d8d726e2e59de7de2": {
          "model_module": "@jupyter-widgets/controls",
          "model_name": "HTMLModel",
          "model_module_version": "1.5.0",
          "state": {
            "_dom_classes": [],
            "_model_module": "@jupyter-widgets/controls",
            "_model_module_version": "1.5.0",
            "_model_name": "HTMLModel",
            "_view_count": null,
            "_view_module": "@jupyter-widgets/controls",
            "_view_module_version": "1.5.0",
            "_view_name": "HTMLView",
            "description": "",
            "description_tooltip": null,
            "layout": "IPY_MODEL_0dc5b53a8cc541e6802a3429920a31c3",
            "placeholder": "​",
            "style": "IPY_MODEL_cc6a954fe35c4eb68a4bfca58b94dd1a",
            "value": " 1649664/? [00:00&lt;00:00, 3391418.71it/s]"
          }
        },
        "0a5dc4b264124f79bd9a7ee711e2bf77": {
          "model_module": "@jupyter-widgets/base",
          "model_name": "LayoutModel",
          "model_module_version": "1.2.0",
          "state": {
            "_model_module": "@jupyter-widgets/base",
            "_model_module_version": "1.2.0",
            "_model_name": "LayoutModel",
            "_view_count": null,
            "_view_module": "@jupyter-widgets/base",
            "_view_module_version": "1.2.0",
            "_view_name": "LayoutView",
            "align_content": null,
            "align_items": null,
            "align_self": null,
            "border": null,
            "bottom": null,
            "display": null,
            "flex": null,
            "flex_flow": null,
            "grid_area": null,
            "grid_auto_columns": null,
            "grid_auto_flow": null,
            "grid_auto_rows": null,
            "grid_column": null,
            "grid_gap": null,
            "grid_row": null,
            "grid_template_areas": null,
            "grid_template_columns": null,
            "grid_template_rows": null,
            "height": null,
            "justify_content": null,
            "justify_items": null,
            "left": null,
            "margin": null,
            "max_height": null,
            "max_width": null,
            "min_height": null,
            "min_width": null,
            "object_fit": null,
            "object_position": null,
            "order": null,
            "overflow": null,
            "overflow_x": null,
            "overflow_y": null,
            "padding": null,
            "right": null,
            "top": null,
            "visibility": null,
            "width": null
          }
        },
        "0f912343dfcf4ab09d552f9a50162b74": {
          "model_module": "@jupyter-widgets/base",
          "model_name": "LayoutModel",
          "model_module_version": "1.2.0",
          "state": {
            "_model_module": "@jupyter-widgets/base",
            "_model_module_version": "1.2.0",
            "_model_name": "LayoutModel",
            "_view_count": null,
            "_view_module": "@jupyter-widgets/base",
            "_view_module_version": "1.2.0",
            "_view_name": "LayoutView",
            "align_content": null,
            "align_items": null,
            "align_self": null,
            "border": null,
            "bottom": null,
            "display": null,
            "flex": null,
            "flex_flow": null,
            "grid_area": null,
            "grid_auto_columns": null,
            "grid_auto_flow": null,
            "grid_auto_rows": null,
            "grid_column": null,
            "grid_gap": null,
            "grid_row": null,
            "grid_template_areas": null,
            "grid_template_columns": null,
            "grid_template_rows": null,
            "height": null,
            "justify_content": null,
            "justify_items": null,
            "left": null,
            "margin": null,
            "max_height": null,
            "max_width": null,
            "min_height": null,
            "min_width": null,
            "object_fit": null,
            "object_position": null,
            "order": null,
            "overflow": null,
            "overflow_x": null,
            "overflow_y": null,
            "padding": null,
            "right": null,
            "top": null,
            "visibility": null,
            "width": null
          }
        },
        "3fb69a7dc03e4bbbaf78e1add80fb06f": {
          "model_module": "@jupyter-widgets/controls",
          "model_name": "DescriptionStyleModel",
          "model_module_version": "1.5.0",
          "state": {
            "_model_module": "@jupyter-widgets/controls",
            "_model_module_version": "1.5.0",
            "_model_name": "DescriptionStyleModel",
            "_view_count": null,
            "_view_module": "@jupyter-widgets/base",
            "_view_module_version": "1.2.0",
            "_view_name": "StyleView",
            "description_width": ""
          }
        },
        "d345a823e62e40c68f3bd2efaab37653": {
          "model_module": "@jupyter-widgets/base",
          "model_name": "LayoutModel",
          "model_module_version": "1.2.0",
          "state": {
            "_model_module": "@jupyter-widgets/base",
            "_model_module_version": "1.2.0",
            "_model_name": "LayoutModel",
            "_view_count": null,
            "_view_module": "@jupyter-widgets/base",
            "_view_module_version": "1.2.0",
            "_view_name": "LayoutView",
            "align_content": null,
            "align_items": null,
            "align_self": null,
            "border": null,
            "bottom": null,
            "display": null,
            "flex": null,
            "flex_flow": null,
            "grid_area": null,
            "grid_auto_columns": null,
            "grid_auto_flow": null,
            "grid_auto_rows": null,
            "grid_column": null,
            "grid_gap": null,
            "grid_row": null,
            "grid_template_areas": null,
            "grid_template_columns": null,
            "grid_template_rows": null,
            "height": null,
            "justify_content": null,
            "justify_items": null,
            "left": null,
            "margin": null,
            "max_height": null,
            "max_width": null,
            "min_height": null,
            "min_width": null,
            "object_fit": null,
            "object_position": null,
            "order": null,
            "overflow": null,
            "overflow_x": null,
            "overflow_y": null,
            "padding": null,
            "right": null,
            "top": null,
            "visibility": null,
            "width": null
          }
        },
        "d017ad90ee8e44e8ade77ed006ecf727": {
          "model_module": "@jupyter-widgets/controls",
          "model_name": "ProgressStyleModel",
          "model_module_version": "1.5.0",
          "state": {
            "_model_module": "@jupyter-widgets/controls",
            "_model_module_version": "1.5.0",
            "_model_name": "ProgressStyleModel",
            "_view_count": null,
            "_view_module": "@jupyter-widgets/base",
            "_view_module_version": "1.2.0",
            "_view_name": "StyleView",
            "bar_color": null,
            "description_width": ""
          }
        },
        "0dc5b53a8cc541e6802a3429920a31c3": {
          "model_module": "@jupyter-widgets/base",
          "model_name": "LayoutModel",
          "model_module_version": "1.2.0",
          "state": {
            "_model_module": "@jupyter-widgets/base",
            "_model_module_version": "1.2.0",
            "_model_name": "LayoutModel",
            "_view_count": null,
            "_view_module": "@jupyter-widgets/base",
            "_view_module_version": "1.2.0",
            "_view_name": "LayoutView",
            "align_content": null,
            "align_items": null,
            "align_self": null,
            "border": null,
            "bottom": null,
            "display": null,
            "flex": null,
            "flex_flow": null,
            "grid_area": null,
            "grid_auto_columns": null,
            "grid_auto_flow": null,
            "grid_auto_rows": null,
            "grid_column": null,
            "grid_gap": null,
            "grid_row": null,
            "grid_template_areas": null,
            "grid_template_columns": null,
            "grid_template_rows": null,
            "height": null,
            "justify_content": null,
            "justify_items": null,
            "left": null,
            "margin": null,
            "max_height": null,
            "max_width": null,
            "min_height": null,
            "min_width": null,
            "object_fit": null,
            "object_position": null,
            "order": null,
            "overflow": null,
            "overflow_x": null,
            "overflow_y": null,
            "padding": null,
            "right": null,
            "top": null,
            "visibility": null,
            "width": null
          }
        },
        "cc6a954fe35c4eb68a4bfca58b94dd1a": {
          "model_module": "@jupyter-widgets/controls",
          "model_name": "DescriptionStyleModel",
          "model_module_version": "1.5.0",
          "state": {
            "_model_module": "@jupyter-widgets/controls",
            "_model_module_version": "1.5.0",
            "_model_name": "DescriptionStyleModel",
            "_view_count": null,
            "_view_module": "@jupyter-widgets/base",
            "_view_module_version": "1.2.0",
            "_view_name": "StyleView",
            "description_width": ""
          }
        },
        "f836b0a3edc9474282c9ba9db12f2dcc": {
          "model_module": "@jupyter-widgets/controls",
          "model_name": "HBoxModel",
          "model_module_version": "1.5.0",
          "state": {
            "_dom_classes": [],
            "_model_module": "@jupyter-widgets/controls",
            "_model_module_version": "1.5.0",
            "_model_name": "HBoxModel",
            "_view_count": null,
            "_view_module": "@jupyter-widgets/controls",
            "_view_module_version": "1.5.0",
            "_view_name": "HBoxView",
            "box_style": "",
            "children": [
              "IPY_MODEL_972a9652b28a44b9a4f64bda20777c13",
              "IPY_MODEL_92b68cfed05e4bdf9cb1c02635da2f93",
              "IPY_MODEL_3d789e91f81d4c359693288f83143d7a"
            ],
            "layout": "IPY_MODEL_8e672a57e89e4fc4919c5ec231d8c27a"
          }
        },
        "972a9652b28a44b9a4f64bda20777c13": {
          "model_module": "@jupyter-widgets/controls",
          "model_name": "HTMLModel",
          "model_module_version": "1.5.0",
          "state": {
            "_dom_classes": [],
            "_model_module": "@jupyter-widgets/controls",
            "_model_module_version": "1.5.0",
            "_model_name": "HTMLModel",
            "_view_count": null,
            "_view_module": "@jupyter-widgets/controls",
            "_view_module_version": "1.5.0",
            "_view_name": "HTMLView",
            "description": "",
            "description_tooltip": null,
            "layout": "IPY_MODEL_308b2d218dbd419da2cf2bfada607083",
            "placeholder": "​",
            "style": "IPY_MODEL_4723693ee07344a1a6fa74c14b1251ca",
            "value": ""
          }
        },
        "92b68cfed05e4bdf9cb1c02635da2f93": {
          "model_module": "@jupyter-widgets/controls",
          "model_name": "FloatProgressModel",
          "model_module_version": "1.5.0",
          "state": {
            "_dom_classes": [],
            "_model_module": "@jupyter-widgets/controls",
            "_model_module_version": "1.5.0",
            "_model_name": "FloatProgressModel",
            "_view_count": null,
            "_view_module": "@jupyter-widgets/controls",
            "_view_module_version": "1.5.0",
            "_view_name": "ProgressView",
            "bar_style": "success",
            "description": "",
            "description_tooltip": null,
            "layout": "IPY_MODEL_f2895a81c0044753bf8883ec5cead4ca",
            "max": 4542,
            "min": 0,
            "orientation": "horizontal",
            "style": "IPY_MODEL_ce38ec1d15364d2b8dcc57446483e076",
            "value": 4542
          }
        },
        "3d789e91f81d4c359693288f83143d7a": {
          "model_module": "@jupyter-widgets/controls",
          "model_name": "HTMLModel",
          "model_module_version": "1.5.0",
          "state": {
            "_dom_classes": [],
            "_model_module": "@jupyter-widgets/controls",
            "_model_module_version": "1.5.0",
            "_model_name": "HTMLModel",
            "_view_count": null,
            "_view_module": "@jupyter-widgets/controls",
            "_view_module_version": "1.5.0",
            "_view_name": "HTMLView",
            "description": "",
            "description_tooltip": null,
            "layout": "IPY_MODEL_d04c975a222145b1ac63dc17e497739c",
            "placeholder": "​",
            "style": "IPY_MODEL_ede58762c82448e89077ae7db2cbadd5",
            "value": " 5120/? [00:00&lt;00:00, 56809.93it/s]"
          }
        },
        "8e672a57e89e4fc4919c5ec231d8c27a": {
          "model_module": "@jupyter-widgets/base",
          "model_name": "LayoutModel",
          "model_module_version": "1.2.0",
          "state": {
            "_model_module": "@jupyter-widgets/base",
            "_model_module_version": "1.2.0",
            "_model_name": "LayoutModel",
            "_view_count": null,
            "_view_module": "@jupyter-widgets/base",
            "_view_module_version": "1.2.0",
            "_view_name": "LayoutView",
            "align_content": null,
            "align_items": null,
            "align_self": null,
            "border": null,
            "bottom": null,
            "display": null,
            "flex": null,
            "flex_flow": null,
            "grid_area": null,
            "grid_auto_columns": null,
            "grid_auto_flow": null,
            "grid_auto_rows": null,
            "grid_column": null,
            "grid_gap": null,
            "grid_row": null,
            "grid_template_areas": null,
            "grid_template_columns": null,
            "grid_template_rows": null,
            "height": null,
            "justify_content": null,
            "justify_items": null,
            "left": null,
            "margin": null,
            "max_height": null,
            "max_width": null,
            "min_height": null,
            "min_width": null,
            "object_fit": null,
            "object_position": null,
            "order": null,
            "overflow": null,
            "overflow_x": null,
            "overflow_y": null,
            "padding": null,
            "right": null,
            "top": null,
            "visibility": null,
            "width": null
          }
        },
        "308b2d218dbd419da2cf2bfada607083": {
          "model_module": "@jupyter-widgets/base",
          "model_name": "LayoutModel",
          "model_module_version": "1.2.0",
          "state": {
            "_model_module": "@jupyter-widgets/base",
            "_model_module_version": "1.2.0",
            "_model_name": "LayoutModel",
            "_view_count": null,
            "_view_module": "@jupyter-widgets/base",
            "_view_module_version": "1.2.0",
            "_view_name": "LayoutView",
            "align_content": null,
            "align_items": null,
            "align_self": null,
            "border": null,
            "bottom": null,
            "display": null,
            "flex": null,
            "flex_flow": null,
            "grid_area": null,
            "grid_auto_columns": null,
            "grid_auto_flow": null,
            "grid_auto_rows": null,
            "grid_column": null,
            "grid_gap": null,
            "grid_row": null,
            "grid_template_areas": null,
            "grid_template_columns": null,
            "grid_template_rows": null,
            "height": null,
            "justify_content": null,
            "justify_items": null,
            "left": null,
            "margin": null,
            "max_height": null,
            "max_width": null,
            "min_height": null,
            "min_width": null,
            "object_fit": null,
            "object_position": null,
            "order": null,
            "overflow": null,
            "overflow_x": null,
            "overflow_y": null,
            "padding": null,
            "right": null,
            "top": null,
            "visibility": null,
            "width": null
          }
        },
        "4723693ee07344a1a6fa74c14b1251ca": {
          "model_module": "@jupyter-widgets/controls",
          "model_name": "DescriptionStyleModel",
          "model_module_version": "1.5.0",
          "state": {
            "_model_module": "@jupyter-widgets/controls",
            "_model_module_version": "1.5.0",
            "_model_name": "DescriptionStyleModel",
            "_view_count": null,
            "_view_module": "@jupyter-widgets/base",
            "_view_module_version": "1.2.0",
            "_view_name": "StyleView",
            "description_width": ""
          }
        },
        "f2895a81c0044753bf8883ec5cead4ca": {
          "model_module": "@jupyter-widgets/base",
          "model_name": "LayoutModel",
          "model_module_version": "1.2.0",
          "state": {
            "_model_module": "@jupyter-widgets/base",
            "_model_module_version": "1.2.0",
            "_model_name": "LayoutModel",
            "_view_count": null,
            "_view_module": "@jupyter-widgets/base",
            "_view_module_version": "1.2.0",
            "_view_name": "LayoutView",
            "align_content": null,
            "align_items": null,
            "align_self": null,
            "border": null,
            "bottom": null,
            "display": null,
            "flex": null,
            "flex_flow": null,
            "grid_area": null,
            "grid_auto_columns": null,
            "grid_auto_flow": null,
            "grid_auto_rows": null,
            "grid_column": null,
            "grid_gap": null,
            "grid_row": null,
            "grid_template_areas": null,
            "grid_template_columns": null,
            "grid_template_rows": null,
            "height": null,
            "justify_content": null,
            "justify_items": null,
            "left": null,
            "margin": null,
            "max_height": null,
            "max_width": null,
            "min_height": null,
            "min_width": null,
            "object_fit": null,
            "object_position": null,
            "order": null,
            "overflow": null,
            "overflow_x": null,
            "overflow_y": null,
            "padding": null,
            "right": null,
            "top": null,
            "visibility": null,
            "width": null
          }
        },
        "ce38ec1d15364d2b8dcc57446483e076": {
          "model_module": "@jupyter-widgets/controls",
          "model_name": "ProgressStyleModel",
          "model_module_version": "1.5.0",
          "state": {
            "_model_module": "@jupyter-widgets/controls",
            "_model_module_version": "1.5.0",
            "_model_name": "ProgressStyleModel",
            "_view_count": null,
            "_view_module": "@jupyter-widgets/base",
            "_view_module_version": "1.2.0",
            "_view_name": "StyleView",
            "bar_color": null,
            "description_width": ""
          }
        },
        "d04c975a222145b1ac63dc17e497739c": {
          "model_module": "@jupyter-widgets/base",
          "model_name": "LayoutModel",
          "model_module_version": "1.2.0",
          "state": {
            "_model_module": "@jupyter-widgets/base",
            "_model_module_version": "1.2.0",
            "_model_name": "LayoutModel",
            "_view_count": null,
            "_view_module": "@jupyter-widgets/base",
            "_view_module_version": "1.2.0",
            "_view_name": "LayoutView",
            "align_content": null,
            "align_items": null,
            "align_self": null,
            "border": null,
            "bottom": null,
            "display": null,
            "flex": null,
            "flex_flow": null,
            "grid_area": null,
            "grid_auto_columns": null,
            "grid_auto_flow": null,
            "grid_auto_rows": null,
            "grid_column": null,
            "grid_gap": null,
            "grid_row": null,
            "grid_template_areas": null,
            "grid_template_columns": null,
            "grid_template_rows": null,
            "height": null,
            "justify_content": null,
            "justify_items": null,
            "left": null,
            "margin": null,
            "max_height": null,
            "max_width": null,
            "min_height": null,
            "min_width": null,
            "object_fit": null,
            "object_position": null,
            "order": null,
            "overflow": null,
            "overflow_x": null,
            "overflow_y": null,
            "padding": null,
            "right": null,
            "top": null,
            "visibility": null,
            "width": null
          }
        },
        "ede58762c82448e89077ae7db2cbadd5": {
          "model_module": "@jupyter-widgets/controls",
          "model_name": "DescriptionStyleModel",
          "model_module_version": "1.5.0",
          "state": {
            "_model_module": "@jupyter-widgets/controls",
            "_model_module_version": "1.5.0",
            "_model_name": "DescriptionStyleModel",
            "_view_count": null,
            "_view_module": "@jupyter-widgets/base",
            "_view_module_version": "1.2.0",
            "_view_name": "StyleView",
            "description_width": ""
          }
        }
      }
    }
  },
  "cells": [
    {
      "cell_type": "markdown",
      "metadata": {
        "id": "view-in-github",
        "colab_type": "text"
      },
      "source": [
        "<a href=\"https://colab.research.google.com/github/phantom-balance/TEP/blob/master/weekly_task_ML.ipynb\" target=\"_parent\"><img src=\"https://colab.research.google.com/assets/colab-badge.svg\" alt=\"Open In Colab\"/></a>"
      ]
    },
    {
      "cell_type": "markdown",
      "source": [
        "#LSTM classification"
      ],
      "metadata": {
        "id": "5ac5FOOHkBkj"
      }
    },
    {
      "cell_type": "code",
      "execution_count": null,
      "metadata": {
        "id": "oe8KQacWj6hY"
      },
      "outputs": [],
      "source": [
        "# Imports\n",
        "import torch\n",
        "import torch.nn as nn\n",
        "import torch.optim as optim\n",
        "import torch.nn.functional as F\n",
        "from torch.utils.data import DataLoader\n",
        "import torchvision.datasets as datasets\n",
        "import torchvision.transforms as transforms\n",
        "import matplotlib.pyplot as plt"
      ]
    },
    {
      "cell_type": "code",
      "source": [
        "# Setting up the device\n",
        "device = torch.device('cuda' if torch.cuda.is_available() else 'cpu')"
      ],
      "metadata": {
        "id": "FPNGqxeqlmtb"
      },
      "execution_count": null,
      "outputs": []
    },
    {
      "cell_type": "code",
      "source": [
        "batch_size=10"
      ],
      "metadata": {
        "id": "3G0gLCBM3LS3"
      },
      "execution_count": null,
      "outputs": []
    },
    {
      "cell_type": "code",
      "source": [
        "train_dataset=datasets.MNIST(root='dataset/',train=True,transform=transforms.ToTensor(),download=True)\n",
        "train_loader=DataLoader(dataset=train_dataset,batch_size=batch_size,shuffle=True)"
      ],
      "metadata": {
        "id": "w4Fejo1Xi0fk",
        "colab": {
          "base_uri": "https://localhost:8080/",
          "height": 443,
          "referenced_widgets": [
            "2f0bf80073c6414891a294e134558d86",
            "41d1c4917ed44a70a6d5ddc0ca4ae1c7",
            "c6fbabf09952444fafcc9e3967dc1ad4",
            "690380cd61864649b130d32adbf973bf",
            "cb832b61a8dd4f888d90179366336e41",
            "4ab1bca4d41b455d8165e104b63b5d3d",
            "5d93f99cacbd4bc9b6d4ffa74f9ac79e",
            "92cbc39c29af49d68f02ed811c24554d",
            "b5e505bab85f485bb4b95c164370edde",
            "ecd3df7c07ea4503b0eb0af811d9cd42",
            "4494931ab97240859e31dc9ab9e3e52d",
            "b938f2a6528f42eba923c102e8c86335",
            "f4a344fcbd2f49d59dfff7543c03d1a7",
            "468bc55c2c0c4c129138c24a6aff69b6",
            "6515a1f6f6f4495abdcdc0aaf3658f62",
            "3ae13b9d34dc46d09040d78ea2a22330",
            "b39fe61d725946d5ade37a17b67d368f",
            "34f9ce4b2c084bfe8dba5f57838deb12",
            "dca3e45de393477fbcb94b7452b8411f",
            "341566765410490c89cfd2aa3cfb5e81",
            "ba1d3d76ce5748a48a3b2373aafc0357",
            "1ff658b04b0649ee819145c9b2ee8e98",
            "a6aae722cded4fe2ab0e6a979f512d38",
            "393784c1244f4f0ebe67b799da820a8f",
            "659457be87644eae8734ef18dfe22c2b",
            "cf9f136b670f478d8d726e2e59de7de2",
            "0a5dc4b264124f79bd9a7ee711e2bf77",
            "0f912343dfcf4ab09d552f9a50162b74",
            "3fb69a7dc03e4bbbaf78e1add80fb06f",
            "d345a823e62e40c68f3bd2efaab37653",
            "d017ad90ee8e44e8ade77ed006ecf727",
            "0dc5b53a8cc541e6802a3429920a31c3",
            "cc6a954fe35c4eb68a4bfca58b94dd1a",
            "f836b0a3edc9474282c9ba9db12f2dcc",
            "972a9652b28a44b9a4f64bda20777c13",
            "92b68cfed05e4bdf9cb1c02635da2f93",
            "3d789e91f81d4c359693288f83143d7a",
            "8e672a57e89e4fc4919c5ec231d8c27a",
            "308b2d218dbd419da2cf2bfada607083",
            "4723693ee07344a1a6fa74c14b1251ca",
            "f2895a81c0044753bf8883ec5cead4ca",
            "ce38ec1d15364d2b8dcc57446483e076",
            "d04c975a222145b1ac63dc17e497739c",
            "ede58762c82448e89077ae7db2cbadd5"
          ]
        },
        "outputId": "a436502e-6cfa-4c13-eba6-9e2c3c273c95"
      },
      "execution_count": null,
      "outputs": [
        {
          "output_type": "stream",
          "name": "stdout",
          "text": [
            "Downloading http://yann.lecun.com/exdb/mnist/train-images-idx3-ubyte.gz\n",
            "Downloading http://yann.lecun.com/exdb/mnist/train-images-idx3-ubyte.gz to dataset/MNIST/raw/train-images-idx3-ubyte.gz\n"
          ]
        },
        {
          "output_type": "display_data",
          "data": {
            "text/plain": [
              "  0%|          | 0/9912422 [00:00<?, ?it/s]"
            ],
            "application/vnd.jupyter.widget-view+json": {
              "version_major": 2,
              "version_minor": 0,
              "model_id": "2f0bf80073c6414891a294e134558d86"
            }
          },
          "metadata": {}
        },
        {
          "output_type": "stream",
          "name": "stdout",
          "text": [
            "Extracting dataset/MNIST/raw/train-images-idx3-ubyte.gz to dataset/MNIST/raw\n",
            "\n",
            "Downloading http://yann.lecun.com/exdb/mnist/train-labels-idx1-ubyte.gz\n",
            "Downloading http://yann.lecun.com/exdb/mnist/train-labels-idx1-ubyte.gz to dataset/MNIST/raw/train-labels-idx1-ubyte.gz\n"
          ]
        },
        {
          "output_type": "display_data",
          "data": {
            "text/plain": [
              "  0%|          | 0/28881 [00:00<?, ?it/s]"
            ],
            "application/vnd.jupyter.widget-view+json": {
              "version_major": 2,
              "version_minor": 0,
              "model_id": "b938f2a6528f42eba923c102e8c86335"
            }
          },
          "metadata": {}
        },
        {
          "output_type": "stream",
          "name": "stdout",
          "text": [
            "Extracting dataset/MNIST/raw/train-labels-idx1-ubyte.gz to dataset/MNIST/raw\n",
            "\n",
            "Downloading http://yann.lecun.com/exdb/mnist/t10k-images-idx3-ubyte.gz\n",
            "Downloading http://yann.lecun.com/exdb/mnist/t10k-images-idx3-ubyte.gz to dataset/MNIST/raw/t10k-images-idx3-ubyte.gz\n"
          ]
        },
        {
          "output_type": "display_data",
          "data": {
            "text/plain": [
              "  0%|          | 0/1648877 [00:00<?, ?it/s]"
            ],
            "application/vnd.jupyter.widget-view+json": {
              "version_major": 2,
              "version_minor": 0,
              "model_id": "a6aae722cded4fe2ab0e6a979f512d38"
            }
          },
          "metadata": {}
        },
        {
          "output_type": "stream",
          "name": "stdout",
          "text": [
            "Extracting dataset/MNIST/raw/t10k-images-idx3-ubyte.gz to dataset/MNIST/raw\n",
            "\n",
            "Downloading http://yann.lecun.com/exdb/mnist/t10k-labels-idx1-ubyte.gz\n",
            "Downloading http://yann.lecun.com/exdb/mnist/t10k-labels-idx1-ubyte.gz to dataset/MNIST/raw/t10k-labels-idx1-ubyte.gz\n"
          ]
        },
        {
          "output_type": "display_data",
          "data": {
            "text/plain": [
              "  0%|          | 0/4542 [00:00<?, ?it/s]"
            ],
            "application/vnd.jupyter.widget-view+json": {
              "version_major": 2,
              "version_minor": 0,
              "model_id": "f836b0a3edc9474282c9ba9db12f2dcc"
            }
          },
          "metadata": {}
        },
        {
          "output_type": "stream",
          "name": "stdout",
          "text": [
            "Extracting dataset/MNIST/raw/t10k-labels-idx1-ubyte.gz to dataset/MNIST/raw\n",
            "\n"
          ]
        }
      ]
    },
    {
      "cell_type": "code",
      "source": [
        "print(\"training_data's_shape:\",train_dataset[1][0][0].shape) # Each data to be classified has 28 rows and 28 columns"
      ],
      "metadata": {
        "colab": {
          "base_uri": "https://localhost:8080/"
        },
        "id": "1CudvHPfoZZl",
        "outputId": "93b80e27-0773-4767-f45f-191212591f28"
      },
      "execution_count": null,
      "outputs": [
        {
          "output_type": "stream",
          "name": "stdout",
          "text": [
            "training_data's_shape: torch.Size([28, 28])\n"
          ]
        }
      ]
    },
    {
      "cell_type": "code",
      "source": [
        "test_dataset=datasets.MNIST(root='dataset/',train=False,transform=transforms.ToTensor(),download=True)\n",
        "test_loader=DataLoader(dataset=test_dataset,batch_size=batch_size,shuffle=True)"
      ],
      "metadata": {
        "id": "ix7d0l_UpSSc"
      },
      "execution_count": null,
      "outputs": []
    },
    {
      "cell_type": "code",
      "source": [
        "print(\"testing_data's_shape:\",test_dataset[1][0][0].shape) # Each data to be classified has 28 rows and 28 columns"
      ],
      "metadata": {
        "colab": {
          "base_uri": "https://localhost:8080/"
        },
        "id": "Wvx8ZSHxpdKx",
        "outputId": "4370caa0-d17d-4e6f-b525-15733e408d96"
      },
      "execution_count": null,
      "outputs": [
        {
          "output_type": "stream",
          "name": "stdout",
          "text": [
            "testing_data's_shape: torch.Size([28, 28])\n"
          ]
        }
      ]
    },
    {
      "cell_type": "code",
      "source": [
        "plt.figure(figsize=(10,5))\n",
        "label = []\n",
        "for i in range(10):\n",
        "  plt.subplot(2, 5, i+1)\n",
        "  image, target = train_loader.dataset.__getitem__(i)\n",
        "  label.append(target)\n",
        "  plt.imshow(image.squeeze().numpy())\n",
        "  plt.axis('off')\n",
        "print(\"labels:\",label)"
      ],
      "metadata": {
        "colab": {
          "base_uri": "https://localhost:8080/",
          "height": 292
        },
        "id": "BodANgQEpoIQ",
        "outputId": "19b74c93-ed32-400b-db5a-561ce9936803"
      },
      "execution_count": null,
      "outputs": [
        {
          "output_type": "stream",
          "name": "stdout",
          "text": [
            "labels: [5, 0, 4, 1, 9, 2, 1, 3, 1, 4]\n"
          ]
        },
        {
          "output_type": "display_data",
          "data": {
            "text/plain": [
              "<Figure size 720x360 with 10 Axes>"
            ],
            "image/png": "[encoded data removed]"
          },
          "metadata": {}
        }
      ]
    },
    {
      "cell_type": "markdown",
      "source": [
        "# We will be assuming that each row from the 28 rows represents a unique time stamp. And each column of the 28 columns represents a unique feature. {FOR OUR LSTM MODEL}"
      ],
      "metadata": {
        "id": "wkSc_rJ7qVyp"
      }
    },
    {
      "cell_type": "code",
      "source": [
        "# Parameters\n",
        "feature_size = 28\n",
        "num_classes = 10\n",
        "sequence_length = 28\n",
        "num_hidden_layers = 2\n",
        "hidden_units = 200\n",
        "num_epochs = 2\n",
        "learning_rate = 0.001"
      ],
      "metadata": {
        "id": "h41ADaVjq1dw"
      },
      "execution_count": null,
      "outputs": []
    },
    {
      "cell_type": "code",
      "source": [
        "# Model\n",
        "class LSTM(nn.Module):\n",
        "  def __init__(self, feature_size, sequence_length, hidden_units, num_hidden_layers, num_classes):\n",
        "    super().__init__()\n",
        "    self.sequence_length = sequence_length\n",
        "    self.hidden_units = hidden_units\n",
        "    self.num_hidden_layers = num_hidden_layers\n",
        "    self.lstm = nn.LSTM(feature_size, hidden_units, num_hidden_layers, batch_first=True)\n",
        "    self.fc = nn.Linear(hidden_units*sequence_length, num_classes)\n",
        "#    self.fc = nn.Linear(hidden_units, num_classes) # only training on the step -1 state\n",
        "\n",
        "  def forward(self, x):\n",
        "    h0 = torch.zeros(self.num_hidden_layers,x.size(0),self.hidden_units).to(device=device)\n",
        "    c0=torch.zeros(self.num_hidden_layers,x.size(0),self.hidden_units).to(device=device)\n",
        "\n",
        "    out, _ = self.lstm(x,(h0, c0))\n",
        "    out = out.reshape(out.shape[0],-1)\n",
        "    out= self.fc(out)\n",
        "    return out"
      ],
      "metadata": {
        "id": "AmgrbQ4iuRuy"
      },
      "execution_count": null,
      "outputs": []
    },
    {
      "cell_type": "code",
      "source": [
        "# Initializing model\n",
        "model = LSTM(feature_size=feature_size,\n",
        "             sequence_length=sequence_length,\n",
        "             hidden_units=hidden_units,\n",
        "             num_hidden_layers=num_hidden_layers,\n",
        "             num_classes=num_classes).to(device)"
      ],
      "metadata": {
        "id": "F9A1qlpsyS4a"
      },
      "execution_count": null,
      "outputs": []
    },
    {
      "cell_type": "code",
      "source": [
        "# Loss and Optimization\n",
        "criterion = nn.CrossEntropyLoss()\n",
        "optimizer = optim.Adam(model.parameters(), learning_rate)"
      ],
      "metadata": {
        "id": "ZsfO84F_rf5G"
      },
      "execution_count": null,
      "outputs": []
    },
    {
      "cell_type": "code",
      "source": [
        "k=0\n",
        "for i in enumerate(train_loader):\n",
        "  k+=1\n",
        "print(\"training data instances:\",k*batch_size)\n",
        "k=0\n",
        "for i in enumerate(test_loader):\n",
        "  k+=1\n",
        "print(\"testing data instances:\",k*batch_size)"
      ],
      "metadata": {
        "colab": {
          "base_uri": "https://localhost:8080/"
        },
        "id": "fT8drK-NkpUn",
        "outputId": "34869fcf-5497-4b46-af26-5102e7672122"
      },
      "execution_count": null,
      "outputs": [
        {
          "output_type": "stream",
          "name": "stdout",
          "text": [
            "training data instances: 60000\n",
            "testing data instances: 10000\n"
          ]
        }
      ]
    },
    {
      "cell_type": "code",
      "source": [
        "# Training entire training data in each epochs\n",
        "num_epochs = 1\n",
        "for epochs in range(num_epochs):\n",
        "  for batch_idx, (data, targets) in enumerate(train_loader):\n",
        "    data = data.to(device).squeeze(1) # changing the shape to 28x28\n",
        "    targets = targets.to(device)\n",
        "    scores = model(data)\n",
        "    loss = criterion(scores, targets)\n",
        "    optimizer.zero_grad()\n",
        "    loss.backward()\n",
        "    optimizer.step()"
      ],
      "metadata": {
        "id": "oZWCKWL2rxE8"
      },
      "execution_count": null,
      "outputs": []
    },
    {
      "cell_type": "code",
      "source": [
        "# # changing the shape to 28x28 in  #Training\n",
        "# for batch_idx, (data, targets) in enumerate(train_loader):\n",
        "#   if batch_idx==0:\n",
        "#     print(data[1].shape)\n",
        "#     data = data.to(device).squeeze(1)\n",
        "#     print(data[1].shape)"
      ],
      "metadata": {
        "id": "ga7FMeqws3-k"
      },
      "execution_count": null,
      "outputs": []
    },
    {
      "cell_type": "code",
      "source": [
        "# Training in small chuncks(batch_size)\n",
        "for i in range(50):\n",
        "  data, targets = next(iter(train_loader))\n",
        "  print('targets',targets)\n",
        "  num_epochs = 3\n",
        "  for epochs in range(num_epochs):\n",
        "  #  for batch_idx, (data, targets) in enumerate(train_loader):\n",
        "    data = data.to(device).squeeze(1) # changing the shape to 28x28\n",
        "    targets = targets.to(device)\n",
        "    scores = model(data)\n",
        "    loss = criterion(scores, targets)\n",
        "    optimizer.zero_grad()\n",
        "    loss.backward()\n",
        "    optimizer.step()"
      ],
      "metadata": {
        "id": "1woA2eO8AZEj",
        "colab": {
          "base_uri": "https://localhost:8080/"
        },
        "outputId": "c8b872a8-32d1-43f3-ea0b-cdb69b5c697e"
      },
      "execution_count": null,
      "outputs": [
        {
          "output_type": "stream",
          "name": "stdout",
          "text": [
            "targets tensor([3, 8, 4, 8, 6, 0, 1, 0, 0, 1])\n",
            "targets tensor([2, 6, 9, 8, 7, 5, 8, 1, 0, 3])\n",
            "targets tensor([2, 8, 2, 0, 5, 5, 1, 4, 4, 2])\n",
            "targets tensor([1, 1, 5, 0, 6, 6, 5, 8, 1, 6])\n",
            "targets tensor([7, 6, 1, 4, 5, 1, 3, 0, 1, 6])\n",
            "targets tensor([7, 0, 9, 5, 3, 1, 3, 9, 9, 8])\n",
            "targets tensor([5, 4, 4, 4, 2, 2, 1, 7, 9, 7])\n",
            "targets tensor([9, 2, 0, 1, 2, 3, 0, 1, 5, 1])\n",
            "targets tensor([3, 8, 0, 1, 4, 0, 4, 5, 5, 5])\n",
            "targets tensor([1, 5, 5, 2, 8, 4, 8, 4, 7, 8])\n",
            "targets tensor([8, 1, 0, 3, 9, 1, 8, 5, 5, 9])\n",
            "targets tensor([7, 1, 3, 8, 3, 8, 5, 8, 4, 0])\n",
            "targets tensor([7, 2, 5, 8, 4, 7, 0, 2, 5, 0])\n",
            "targets tensor([5, 9, 9, 1, 0, 7, 4, 4, 7, 4])\n",
            "targets tensor([7, 6, 5, 2, 0, 1, 5, 3, 2, 2])\n",
            "targets tensor([7, 2, 2, 6, 6, 7, 9, 2, 8, 4])\n",
            "targets tensor([8, 5, 2, 3, 7, 1, 9, 5, 5, 2])\n",
            "targets tensor([1, 0, 7, 2, 7, 8, 2, 8, 7, 1])\n",
            "targets tensor([8, 1, 1, 6, 7, 1, 3, 4, 0, 7])\n",
            "targets tensor([1, 1, 0, 5, 9, 9, 7, 1, 3, 1])\n",
            "targets tensor([5, 2, 6, 7, 7, 6, 7, 5, 5, 8])\n",
            "targets tensor([0, 7, 0, 2, 9, 4, 2, 9, 0, 4])\n",
            "targets tensor([6, 3, 1, 7, 3, 2, 2, 2, 9, 3])\n",
            "targets tensor([0, 3, 9, 8, 0, 6, 7, 8, 2, 4])\n",
            "targets tensor([6, 0, 2, 6, 4, 0, 6, 4, 3, 6])\n",
            "targets tensor([7, 9, 7, 9, 9, 8, 9, 4, 3, 0])\n",
            "targets tensor([5, 6, 7, 6, 2, 1, 2, 5, 4, 1])\n",
            "targets tensor([0, 6, 2, 9, 4, 2, 0, 2, 3, 4])\n",
            "targets tensor([5, 7, 3, 1, 7, 2, 6, 5, 7, 7])\n",
            "targets tensor([0, 7, 4, 0, 6, 0, 5, 9, 4, 0])\n",
            "targets tensor([5, 0, 4, 3, 7, 0, 3, 6, 9, 0])\n",
            "targets tensor([5, 2, 7, 0, 8, 1, 9, 3, 7, 4])\n",
            "targets tensor([9, 1, 8, 1, 1, 0, 1, 8, 0, 3])\n",
            "targets tensor([0, 9, 0, 9, 8, 7, 3, 1, 9, 6])\n",
            "targets tensor([9, 1, 6, 0, 2, 6, 3, 5, 0, 2])\n",
            "targets tensor([5, 6, 2, 9, 1, 1, 7, 2, 0, 5])\n",
            "targets tensor([9, 3, 6, 7, 8, 6, 4, 6, 1, 6])\n",
            "targets tensor([2, 2, 9, 7, 3, 5, 9, 7, 3, 1])\n",
            "targets tensor([7, 9, 5, 7, 2, 7, 4, 0, 3, 3])\n",
            "targets tensor([1, 1, 2, 3, 6, 1, 3, 0, 0, 0])\n",
            "targets tensor([2, 3, 4, 5, 8, 4, 0, 3, 5, 6])\n",
            "targets tensor([8, 9, 1, 3, 7, 2, 5, 6, 9, 9])\n",
            "targets tensor([8, 2, 4, 5, 6, 0, 0, 3, 1, 2])\n",
            "targets tensor([7, 9, 7, 4, 2, 0, 7, 1, 4, 9])\n",
            "targets tensor([5, 7, 3, 1, 3, 7, 1, 5, 8, 3])\n",
            "targets tensor([5, 3, 3, 9, 7, 9, 5, 3, 7, 2])\n",
            "targets tensor([8, 1, 3, 6, 3, 6, 2, 6, 7, 7])\n",
            "targets tensor([7, 4, 1, 5, 4, 7, 9, 9, 9, 1])\n",
            "targets tensor([3, 6, 7, 4, 8, 5, 7, 7, 6, 5])\n",
            "targets tensor([2, 6, 6, 3, 2, 4, 9, 5, 8, 2])\n"
          ]
        }
      ]
    },
    {
      "cell_type": "code",
      "source": [
        "# Accuracy testing\n",
        "data, labelss = next(iter(test_loader))\n",
        "print(\"actual_labels\",labelss)\n",
        "Predictions = []\n",
        "def check_accuracy(data, targets, model):\n",
        "    num_correct = 0\n",
        "    num_samples = 0\n",
        "    model.eval()\n",
        "    with torch.no_grad():\n",
        "      x=data\n",
        "      y=targets\n",
        "      x=x.to(device=device).squeeze(1)\n",
        "      y=y.to(device=device)\n",
        "      scores=model(x)\n",
        "\n",
        "      _, prediction= scores.max(1)\n",
        "      Predictions.append(prediction)\n",
        "      num_correct+=(prediction==y).sum()\n",
        "      num_samples+=prediction.size(0)\n",
        "\n",
        "    print(f'Got {num_correct}/{num_samples} correct, prediction rate={float(num_correct)/float(num_samples)*100:.3f}')\n",
        "    model.train()\n",
        "\n",
        "check_accuracy(data, labelss, model)\n",
        "label = []\n",
        "print(\"our_network's_prediction\",Predictions)\n",
        "\n",
        "plt.figure(figsize=(10,5))\n",
        "for i in range(batch_size):\n",
        "  plt.subplot(2, int(batch_size/2), i+1)\n",
        "  plt.imshow(data[i].squeeze().numpy())\n",
        "  label.append(targets)\n",
        "  plt.axis('off')\n",
        "\n"
      ],
      "metadata": {
        "colab": {
          "base_uri": "https://localhost:8080/",
          "height": 327
        },
        "id": "tLmnueBh0nmh",
        "outputId": "9dac7fc8-8a30-4d73-f7ce-215e3f6d708a"
      },
      "execution_count": null,
      "outputs": [
        {
          "output_type": "stream",
          "name": "stdout",
          "text": [
            "actual_labels tensor([3, 4, 2, 6, 3, 3, 1, 8, 6, 2])\n",
            "Got 9/10 correct, prediction rate=90.000\n",
            "our_network's_prediction [tensor([3, 4, 2, 6, 3, 3, 1, 0, 6, 2])]\n"
          ]
        },
        {
          "output_type": "display_data",
          "data": {
            "text/plain": [
              "<Figure size 720x360 with 10 Axes>"
            ],
            "image/png": "[encoded data removed]"
          },
          "metadata": {}
        }
      ]
    },
    {
      "cell_type": "markdown",
      "source": [
        "#Performance metrics"
      ],
      "metadata": {
        "id": "paxXGyUf_EJx"
      }
    },
    {
      "cell_type": "markdown",
      "source": [
        "1.1 confusion matrix"
      ],
      "metadata": {
        "id": "B4AhwjpDlbs_"
      }
    },
    {
      "cell_type": "code",
      "source": [
        "from sklearn.metrics import confusion_matrix\n",
        "import seaborn as sn\n",
        "import pandas as pd\n",
        "import numpy as np\n",
        "\n",
        "y_pred = []\n",
        "y_true = []\n",
        "\n",
        "with torch.no_grad():\n",
        "  for data, labels in test_loader:\n",
        "    scores = model(data.squeeze(1))\n",
        "    _, prediction = scores.max(1)\n",
        "    y_pred.extend(prediction)\n",
        "    y_true.extend(labels)\n",
        "print(y_pred)\n",
        "print(y_true)\n",
        "\n",
        "# classes = ('NOC',\n",
        "#            'fault_type-1', \n",
        "#            'fault_type-2', \n",
        "#            'fault_type-3',\n",
        "#            'fault_type-4',\n",
        "#            'fault_type-5',\n",
        "#            'fault_type-6',\n",
        "#            'fault_type-7',\n",
        "#            'fault_type-8',\n",
        "#            'fault_type-9',\n",
        "#            'fault_type-10',\n",
        "#            'fault_type-11',\n",
        "#            'fault_type-12',\n",
        "#            'fault_type-13',\n",
        "#            'fault_type-14',\n",
        "#            'fault_type-15',\n",
        "#            'fault_type-16',\n",
        "#            'fault_type-17',\n",
        "#            'fault_type-18',\n",
        "#            'fault_type-19',\n",
        "#            'fault_type-20',\n",
        "#            'fault_type-21'\n",
        "#            )\n",
        "\n",
        "\n",
        "\n"
      ],
      "metadata": {
        "id": "kOYAuBPY_C9o",
        "colab": {
          "base_uri": "https://localhost:8080/"
        },
        "outputId": "96c0e127-a0b9-47ad-d6f8-e518b3a38bd5"
      },
      "execution_count": null,
      "outputs": [
        {
          "output_type": "stream",
          "name": "stdout",
          "text": [
            "[tensor(8), tensor(1), tensor(5), tensor(9), tensor(3), tensor(7), tensor(8), tensor(2), tensor(5), tensor(5), tensor(7), tensor(0), tensor(1), tensor(4), tensor(7), tensor(9), tensor(4), tensor(5), tensor(3), tensor(5), tensor(7), tensor(4), tensor(9), tensor(0), tensor(7), tensor(0), tensor(7), tensor(1), tensor(0), tensor(1), tensor(1), tensor(6), tensor(5), tensor(6), tensor(2), tensor(6), tensor(0), tensor(8), tensor(3), tensor(4), tensor(7), tensor(6), tensor(5), tensor(7), tensor(9), tensor(4), tensor(9), tensor(2), tensor(2), tensor(8), tensor(5), tensor(2), tensor(6), tensor(0), tensor(9), tensor(4), tensor(1), tensor(9), tensor(2), tensor(9), tensor(7), tensor(3), tensor(8), tensor(1), tensor(2), tensor(8), tensor(0), tensor(6), tensor(8), tensor(4), tensor(2), tensor(3), tensor(6), tensor(9), tensor(3), tensor(5), tensor(7), tensor(6), tensor(6), tensor(8), tensor(5), tensor(0), tensor(9), tensor(6), tensor(6), tensor(2), tensor(7), tensor(0), tensor(0), tensor(1), tensor(5), tensor(9), tensor(1), tensor(9), tensor(1), tensor(2), tensor(9), tensor(1), tensor(7), tensor(3), tensor(8), tensor(5), tensor(6), tensor(1), tensor(6), tensor(1), tensor(3), tensor(2), tensor(5), tensor(2), tensor(2), tensor(2), tensor(8), tensor(2), tensor(1), tensor(2), tensor(0), tensor(0), tensor(1), tensor(5), tensor(1), tensor(0), tensor(2), tensor(4), tensor(7), tensor(8), tensor(2), tensor(4), tensor(1), tensor(5), tensor(0), tensor(6), tensor(0), tensor(5), tensor(7), tensor(3), tensor(0), tensor(9), tensor(0), tensor(0), tensor(5), tensor(6), tensor(0), tensor(1), tensor(8), tensor(4), tensor(2), tensor(5), tensor(0), tensor(4), tensor(9), tensor(3), tensor(6), tensor(3), tensor(5), tensor(6), tensor(0), tensor(0), tensor(0), tensor(4), tensor(8), tensor(3), tensor(7), tensor(8), tensor(3), tensor(0), tensor(6), tensor(8), tensor(2), tensor(8), tensor(5), tensor(5), tensor(1), tensor(9), tensor(9), tensor(9), tensor(7), tensor(6), tensor(9), tensor(9), tensor(5), tensor(2), tensor(4), tensor(4), tensor(3), tensor(1), tensor(1), tensor(2), tensor(8), tensor(4), tensor(6), tensor(9), tensor(1), tensor(3), tensor(4), tensor(3), tensor(0), tensor(6), tensor(1), tensor(0), tensor(7), tensor(8), tensor(2), tensor(1), tensor(4), tensor(7), tensor(4), tensor(9), tensor(8), tensor(2), tensor(3), tensor(9), tensor(8), tensor(7), tensor(4), tensor(3), tensor(8), tensor(6), tensor(2), tensor(1), tensor(2), tensor(0), tensor(6), tensor(2), tensor(1), tensor(9), tensor(3), tensor(6), tensor(1), tensor(9), tensor(7), tensor(3), tensor(0), tensor(8), tensor(5), tensor(0), tensor(8), tensor(4), tensor(9), tensor(5), tensor(7), tensor(5), tensor(7), tensor(2), tensor(9), tensor(4), tensor(6), tensor(6), tensor(9), tensor(6), tensor(0), tensor(4), tensor(9), tensor(8), tensor(7), tensor(8), tensor(3), tensor(5), tensor(7), tensor(7), tensor(4), tensor(8), tensor(6), tensor(3), tensor(3), tensor(9), tensor(9), tensor(7), tensor(1), tensor(3), tensor(6), tensor(2), tensor(9), tensor(1), tensor(0), tensor(8), tensor(9), tensor(1), tensor(0), tensor(6), tensor(9), tensor(0), tensor(7), tensor(7), tensor(6), tensor(1), tensor(7), tensor(0), tensor(8), tensor(7), tensor(7), tensor(2), tensor(4), tensor(7), tensor(4), tensor(8), tensor(7), tensor(3), tensor(0), tensor(0), tensor(3), tensor(8), tensor(1), tensor(6), tensor(1), tensor(3), tensor(6), tensor(5), tensor(3), tensor(4), tensor(8), tensor(5), tensor(1), tensor(6), tensor(3), tensor(9), tensor(7), tensor(0), tensor(3), tensor(4), tensor(1), tensor(4), tensor(8), tensor(7), tensor(7), tensor(1), tensor(1), tensor(3), tensor(3), tensor(2), tensor(6), tensor(2), tensor(5), tensor(5), tensor(6), tensor(3), tensor(6), tensor(6), tensor(9), tensor(7), tensor(6), tensor(7), tensor(9), tensor(6), tensor(6), tensor(8), tensor(7), tensor(3), tensor(3), tensor(4), tensor(9), tensor(8), tensor(7), tensor(7), tensor(8), tensor(4), tensor(4), tensor(4), tensor(3), tensor(0), tensor(6), tensor(3), tensor(1), tensor(5), tensor(0), tensor(0), tensor(2), tensor(2), tensor(8), tensor(3), tensor(3), tensor(4), tensor(0), tensor(2), tensor(6), tensor(9), tensor(9), tensor(8), tensor(4), tensor(6), tensor(8), tensor(6), tensor(4), tensor(0), tensor(3), tensor(7), tensor(9), tensor(9), tensor(5), tensor(3), tensor(7), tensor(9), tensor(1), tensor(8), tensor(0), tensor(4), tensor(9), tensor(9), tensor(5), tensor(6), tensor(6), tensor(3), tensor(1), tensor(1), tensor(8), tensor(9), tensor(8), tensor(5), tensor(6), tensor(9), tensor(0), tensor(6), tensor(0), tensor(3), tensor(2), tensor(5), tensor(9), tensor(9), tensor(4), tensor(2), tensor(9), tensor(5), tensor(0), tensor(8), tensor(0), tensor(6), tensor(2), tensor(1), tensor(4), tensor(1), tensor(5), tensor(9), tensor(6), tensor(2), tensor(9), tensor(7), tensor(0), tensor(9), tensor(6), tensor(9), tensor(0), tensor(2), tensor(0), tensor(3), tensor(7), tensor(7), tensor(7), tensor(4), tensor(3), tensor(3), tensor(6), tensor(9), tensor(5), tensor(5), tensor(4), tensor(8), tensor(6), tensor(7), tensor(9), tensor(1), tensor(3), tensor(4), tensor(2), tensor(1), tensor(3), tensor(5), tensor(2), tensor(1), tensor(2), tensor(9), tensor(6), tensor(7), tensor(1), tensor(2), tensor(8), tensor(8), tensor(9), tensor(4), tensor(9), tensor(2), tensor(5), tensor(6), tensor(2), tensor(8), tensor(0), tensor(8), tensor(0), tensor(6), tensor(8), tensor(4), tensor(0), tensor(7), tensor(9), tensor(0), tensor(8), tensor(0), tensor(4), tensor(7), tensor(6), tensor(8), tensor(6), tensor(6), tensor(2), tensor(0), tensor(1), tensor(5), tensor(5), tensor(2), tensor(5), tensor(0), tensor(7), tensor(9), tensor(4), tensor(4), tensor(9), tensor(2), tensor(7), tensor(8), tensor(7), tensor(0), tensor(3), tensor(9), tensor(7), tensor(2), tensor(9), tensor(0), tensor(1), tensor(9), tensor(2), tensor(7), tensor(9), tensor(0), tensor(5), tensor(0), tensor(7), tensor(5), tensor(2), tensor(8), tensor(7), tensor(0), tensor(3), tensor(6), tensor(2), tensor(9), tensor(5), tensor(5), tensor(3), tensor(7), tensor(9), tensor(7), tensor(3), tensor(0), tensor(5), tensor(4), tensor(8), tensor(1), tensor(9), tensor(8), tensor(0), tensor(3), tensor(4), tensor(1), tensor(2), tensor(9), tensor(0), tensor(0), tensor(7), tensor(3), tensor(0), tensor(5), tensor(8), tensor(4), tensor(3), tensor(2), tensor(2), tensor(4), tensor(4), tensor(9), tensor(1), tensor(6), tensor(2), tensor(8), tensor(5), tensor(3), tensor(0), tensor(7), tensor(6), tensor(2), tensor(4), tensor(5), tensor(5), tensor(3), tensor(5), tensor(7), tensor(7), tensor(0), tensor(2), tensor(1), tensor(8), tensor(2), tensor(3), tensor(7), tensor(0), tensor(7), tensor(6), tensor(8), tensor(7), tensor(1), tensor(8), tensor(5), tensor(1), tensor(3), tensor(7), tensor(9), tensor(6), tensor(4), tensor(7), tensor(8), tensor(7), tensor(9), tensor(5), tensor(9), tensor(1), tensor(9), tensor(5), tensor(5), tensor(9), tensor(9), tensor(3), tensor(4), tensor(2), tensor(2), tensor(5), tensor(8), tensor(6), tensor(5), tensor(4), tensor(5), tensor(4), tensor(3), tensor(8), tensor(8), tensor(5), tensor(4), tensor(2), tensor(3), tensor(2), tensor(0), tensor(3), tensor(7), tensor(6), tensor(3), tensor(7), tensor(3), tensor(7), tensor(7), tensor(2), tensor(8), tensor(8), tensor(9), tensor(2), tensor(9), tensor(9), tensor(3), tensor(8), tensor(7), tensor(1), tensor(5), tensor(1), tensor(8), tensor(7), tensor(9), tensor(0), tensor(0), tensor(1), tensor(7), tensor(5), tensor(0), tensor(7), tensor(5), tensor(8), tensor(3), tensor(2), tensor(6), tensor(9), tensor(2), tensor(0), tensor(4), tensor(9), tensor(2), tensor(4), tensor(3), tensor(2), tensor(5), tensor(9), tensor(9), tensor(8), tensor(7), tensor(5), tensor(1), tensor(8), tensor(2), tensor(8), tensor(3), tensor(1), tensor(3), tensor(2), tensor(1), tensor(7), tensor(9), tensor(4), tensor(1), tensor(4), tensor(1), tensor(9), tensor(7), tensor(5), tensor(0), tensor(2), tensor(8), tensor(4), tensor(0), tensor(2), tensor(0), tensor(8), tensor(0), tensor(7), tensor(4), tensor(3), tensor(0), tensor(7), tensor(2), tensor(3), tensor(0), tensor(5), tensor(7), tensor(2), tensor(7), tensor(1), tensor(1), tensor(1), tensor(5), tensor(1), tensor(3), tensor(1), tensor(7), tensor(0), tensor(9), tensor(7), tensor(7), tensor(9), tensor(1), tensor(3), tensor(4), tensor(9), tensor(2), tensor(1), tensor(0), tensor(8), tensor(2), tensor(3), tensor(9), tensor(7), tensor(1), tensor(2), tensor(4), tensor(3), tensor(6), tensor(7), tensor(6), tensor(8), tensor(1), tensor(5), tensor(9), tensor(4), tensor(7), tensor(2), tensor(8), tensor(9), tensor(8), tensor(8), tensor(2), tensor(5), tensor(3), tensor(0), tensor(3), tensor(9), tensor(9), tensor(5), tensor(4), tensor(5), tensor(7), tensor(6), tensor(5), tensor(6), tensor(0), tensor(3), tensor(8), tensor(2), tensor(6), tensor(2), tensor(6), tensor(2), tensor(5), tensor(8), tensor(0), tensor(8), tensor(4), tensor(0), tensor(1), tensor(1), tensor(5), tensor(3), tensor(4), tensor(6), tensor(6), tensor(8), tensor(9), tensor(6), tensor(9), tensor(3), tensor(4), tensor(2), tensor(3), tensor(6), tensor(4), tensor(7), tensor(7), tensor(0), tensor(9), tensor(3), tensor(5), tensor(0), tensor(6), tensor(8), tensor(1), tensor(0), tensor(5), tensor(8), tensor(3), tensor(4), tensor(7), tensor(2), tensor(5), tensor(4), tensor(1), tensor(7), tensor(9), tensor(8), tensor(9), tensor(3), tensor(9), tensor(4), tensor(5), tensor(7), tensor(6), tensor(0), tensor(9), tensor(3), tensor(5), tensor(8), tensor(1), tensor(9), tensor(1), tensor(1), tensor(6), tensor(7), tensor(6), tensor(9), tensor(6), tensor(9), tensor(7), tensor(5), tensor(1), tensor(5), tensor(8), tensor(3), tensor(9), tensor(0), tensor(7), tensor(1), tensor(0), tensor(9), tensor(3), tensor(1), tensor(8), tensor(4), tensor(9), tensor(7), tensor(9), tensor(9), tensor(0), tensor(9), tensor(8), tensor(8), tensor(5), tensor(1), tensor(0), tensor(5), tensor(0), tensor(7), tensor(4), tensor(7), tensor(8), tensor(9), tensor(8), tensor(7), tensor(1), tensor(2), tensor(4), tensor(4), tensor(0), tensor(9), tensor(4), tensor(2), tensor(3), tensor(1), tensor(3), tensor(4), tensor(4), tensor(8), tensor(0), tensor(6), tensor(4), tensor(3), tensor(5), tensor(3), tensor(2), tensor(7), tensor(6), tensor(3), tensor(7), tensor(7), tensor(4), tensor(8), tensor(0), tensor(1), tensor(3), tensor(0), tensor(0), tensor(3), tensor(5), tensor(5), tensor(4), tensor(2), tensor(8), tensor(1), tensor(1), tensor(2), tensor(5), tensor(7), tensor(2), tensor(2), tensor(1), tensor(9), tensor(6), tensor(1), tensor(5), tensor(3), tensor(3), tensor(5), tensor(8), tensor(1), tensor(8), tensor(6), tensor(5), tensor(9), tensor(3), tensor(6), tensor(1), tensor(9), tensor(5), tensor(4), tensor(5), tensor(7), tensor(3), tensor(6), tensor(6), tensor(5), tensor(5), tensor(4), tensor(9), tensor(6), tensor(6), tensor(6), tensor(4), tensor(0), tensor(1), tensor(6), tensor(3), tensor(7), tensor(7), tensor(5), tensor(3), tensor(1), tensor(4), tensor(6), tensor(3), tensor(9), tensor(0), tensor(0), tensor(0), tensor(0), tensor(6), tensor(7), tensor(5), tensor(6), tensor(9), tensor(2), tensor(4), tensor(4), tensor(3), tensor(6), tensor(0), tensor(1), tensor(8), tensor(1), tensor(1), tensor(1), tensor(2), tensor(9), tensor(8), tensor(0), tensor(2), tensor(3), tensor(5), tensor(4), tensor(3), tensor(7), tensor(0), tensor(9), tensor(3), tensor(9), tensor(5), tensor(5), tensor(4), tensor(3), tensor(1), tensor(1), tensor(8), tensor(2), tensor(4), tensor(0), tensor(8), tensor(2), tensor(6), tensor(2), tensor(5), tensor(9), tensor(8), tensor(2), tensor(5), tensor(4), tensor(2), tensor(9), tensor(4), tensor(7), tensor(0), tensor(4), tensor(6), tensor(5), tensor(5), tensor(8), tensor(3), tensor(1), tensor(6), tensor(6), tensor(1), tensor(2), tensor(2), tensor(7), tensor(0), tensor(0), tensor(0), tensor(7), tensor(6), tensor(7), tensor(4), tensor(8), tensor(1), tensor(0), tensor(1), tensor(2), tensor(4), tensor(4), tensor(5), tensor(2), tensor(1), tensor(9), tensor(3), tensor(2), tensor(0), tensor(7), tensor(5), tensor(4), tensor(3), tensor(3), tensor(3), tensor(1), tensor(1), tensor(1), tensor(4), tensor(8), tensor(9), tensor(9), tensor(4), tensor(3), tensor(7), tensor(2), tensor(8), tensor(8), tensor(9), tensor(1), tensor(5), tensor(6), tensor(4), tensor(6), tensor(3), tensor(5), tensor(6), tensor(0), tensor(0), tensor(5), tensor(7), tensor(1), tensor(9), tensor(2), tensor(1), tensor(1), tensor(8), tensor(7), tensor(2), tensor(7), tensor(1), tensor(5), tensor(4), tensor(5), tensor(7), tensor(2), tensor(2), tensor(2), tensor(0), tensor(8), tensor(4), tensor(9), tensor(5), tensor(3), tensor(2), tensor(9), tensor(7), tensor(8), tensor(3), tensor(2), tensor(7), tensor(4), tensor(0), tensor(8), tensor(4), tensor(0), tensor(1), tensor(5), tensor(3), tensor(2), tensor(2), tensor(0), tensor(1), tensor(4), tensor(6), tensor(9), tensor(3), tensor(3), tensor(1), tensor(2), tensor(1), tensor(0), tensor(2), tensor(7), tensor(8), tensor(9), tensor(2), tensor(2), tensor(4), tensor(4), tensor(2), tensor(4), tensor(7), tensor(2), tensor(7), tensor(2), tensor(5), tensor(6), tensor(1), tensor(2), tensor(2), tensor(3), tensor(7), tensor(8), tensor(5), tensor(5), tensor(1), tensor(9), tensor(9), tensor(3), tensor(2), tensor(7), tensor(2), tensor(7), tensor(1), tensor(9), tensor(6), tensor(9), tensor(3), tensor(5), tensor(6), tensor(8), tensor(6), tensor(6), tensor(4), tensor(0), tensor(5), tensor(4), tensor(8), tensor(7), tensor(2), tensor(4), tensor(5), tensor(4), tensor(7), tensor(4), tensor(9), tensor(1), tensor(2), tensor(0), tensor(5), tensor(5), tensor(5), tensor(5), tensor(7), tensor(0), tensor(2), tensor(1), tensor(9), tensor(4), tensor(8), tensor(7), tensor(7), tensor(6), tensor(2), tensor(5), tensor(0), tensor(1), tensor(4), tensor(2), tensor(0), tensor(8), tensor(1), tensor(5), tensor(5), tensor(6), tensor(6), tensor(9), tensor(1), tensor(3), tensor(2), tensor(8), tensor(0), tensor(0), tensor(4), tensor(6), tensor(8), tensor(6), tensor(2), tensor(2), tensor(3), tensor(4), tensor(6), tensor(9), tensor(9), tensor(3), tensor(0), tensor(7), tensor(0), tensor(0), tensor(8), tensor(5), tensor(8), tensor(3), tensor(9), tensor(6), tensor(7), tensor(9), tensor(0), tensor(1), tensor(6), tensor(5), tensor(9), tensor(0), tensor(6), tensor(7), tensor(2), tensor(8), tensor(6), tensor(0), tensor(5), tensor(0), tensor(8), tensor(7), tensor(7), tensor(3), tensor(8), tensor(3), tensor(2), tensor(7), tensor(7), tensor(4), tensor(2), tensor(1), tensor(2), tensor(6), tensor(5), tensor(0), tensor(2), tensor(2), tensor(1), tensor(5), tensor(4), tensor(6), tensor(0), tensor(9), tensor(2), tensor(1), tensor(1), tensor(6), tensor(7), tensor(2), tensor(3), tensor(7), tensor(0), tensor(9), tensor(9), tensor(8), tensor(4), tensor(4), tensor(5), tensor(4), tensor(9), tensor(4), tensor(4), tensor(2), tensor(2), tensor(8), tensor(5), tensor(9), tensor(7), tensor(1), tensor(1), tensor(4), tensor(2), tensor(9), tensor(5), tensor(1), tensor(5), tensor(3), tensor(8), tensor(4), tensor(0), tensor(6), tensor(7), tensor(9), tensor(5), tensor(7), tensor(4), tensor(2), tensor(6), tensor(2), tensor(6), tensor(1), tensor(4), tensor(6), tensor(2), tensor(0), tensor(1), tensor(0), tensor(3), tensor(4), tensor(9), tensor(6), tensor(3), tensor(5), tensor(6), tensor(3), tensor(6), tensor(2), tensor(7), tensor(2), tensor(3), tensor(0), tensor(2), tensor(3), tensor(9), tensor(8), tensor(2), tensor(3), tensor(9), tensor(5), tensor(4), tensor(7), tensor(7), tensor(1), tensor(5), tensor(5), tensor(2), tensor(8), tensor(5), tensor(6), tensor(3), tensor(0), tensor(4), tensor(0), tensor(5), tensor(1), tensor(9), tensor(0), tensor(2), tensor(2), tensor(6), tensor(7), tensor(7), tensor(3), tensor(7), tensor(1), tensor(0), tensor(5), tensor(4), tensor(7), tensor(4), tensor(6), tensor(0), tensor(0), tensor(3), tensor(3), tensor(0), tensor(9), tensor(0), tensor(2), tensor(2), tensor(7), tensor(0), tensor(3), tensor(4), tensor(3), tensor(7), tensor(9), tensor(0), tensor(2), tensor(2), tensor(7), tensor(7), tensor(0), tensor(0), tensor(0), tensor(3), tensor(0), tensor(2), tensor(1), tensor(6), tensor(5), tensor(4), tensor(7), tensor(3), tensor(4), tensor(2), tensor(6), tensor(1), tensor(5), tensor(7), tensor(2), tensor(4), tensor(1), tensor(8), tensor(8), tensor(1), tensor(3), tensor(5), tensor(5), tensor(1), tensor(7), tensor(4), tensor(0), tensor(8), tensor(5), tensor(4), tensor(3), tensor(5), tensor(6), tensor(5), tensor(5), tensor(2), tensor(1), tensor(4), tensor(8), tensor(4), tensor(4), tensor(7), tensor(5), tensor(4), tensor(8), tensor(3), tensor(2), tensor(8), tensor(9), tensor(4), tensor(1), tensor(4), tensor(0), tensor(9), tensor(6), tensor(6), tensor(4), tensor(2), tensor(0), tensor(1), tensor(3), tensor(9), tensor(3), tensor(7), tensor(7), tensor(9), tensor(4), tensor(6), tensor(8), tensor(7), tensor(4), tensor(7), tensor(6), tensor(3), tensor(1), tensor(9), tensor(1), tensor(6), tensor(1), tensor(0), tensor(7), tensor(1), tensor(0), tensor(2), tensor(2), tensor(0), tensor(7), tensor(0), tensor(8), tensor(9), tensor(9), tensor(7), tensor(0), tensor(2), tensor(9), tensor(1), tensor(6), tensor(4), tensor(8), tensor(1), tensor(5), tensor(8), tensor(0), tensor(4), tensor(5), tensor(1), tensor(8), tensor(1), tensor(3), tensor(9), tensor(2), tensor(6), tensor(1), tensor(1), tensor(5), tensor(0), tensor(6), tensor(5), tensor(1), tensor(4), tensor(3), tensor(1), tensor(3), tensor(7), tensor(0), tensor(1), tensor(3), tensor(1), tensor(1), tensor(8), tensor(0), tensor(0), tensor(4), tensor(2), tensor(0), tensor(0), tensor(9), tensor(2), tensor(5), tensor(1), tensor(2), tensor(5), tensor(5), tensor(2), tensor(2), tensor(5), tensor(0), tensor(0), tensor(6), tensor(4), tensor(7), tensor(2), tensor(7), tensor(8), tensor(5), tensor(6), tensor(8), tensor(3), tensor(8), tensor(7), tensor(4), tensor(3), tensor(9), tensor(1), tensor(0), tensor(7), tensor(9), tensor(5), tensor(4), tensor(0), tensor(3), tensor(5), tensor(3), tensor(8), tensor(9), tensor(1), tensor(4), tensor(0), tensor(4), tensor(8), tensor(9), tensor(3), tensor(9), tensor(6), tensor(9), tensor(3), tensor(6), tensor(8), tensor(6), tensor(4), tensor(4), tensor(4), tensor(0), tensor(0), tensor(2), tensor(3), tensor(7), tensor(6), tensor(6), tensor(6), tensor(6), tensor(7), tensor(4), tensor(9), tensor(9), tensor(4), tensor(0), tensor(2), tensor(6), tensor(2), tensor(7), tensor(9), tensor(4), tensor(1), tensor(7), tensor(5), tensor(8), tensor(2), tensor(7), tensor(9), tensor(8), tensor(8), tensor(2), tensor(4), tensor(1), tensor(5), tensor(6), tensor(7), tensor(1), tensor(4), tensor(4), tensor(7), tensor(1), tensor(1), tensor(6), tensor(5), tensor(7), tensor(7), tensor(3), tensor(1), tensor(1), tensor(1), tensor(7), tensor(5), tensor(2), tensor(2), tensor(7), tensor(7), tensor(7), tensor(6), tensor(8), tensor(2), tensor(0), tensor(7), tensor(4), tensor(7), tensor(0), tensor(8), tensor(3), tensor(0), tensor(6), tensor(8), tensor(6), tensor(4), tensor(3), tensor(9), tensor(6), tensor(8), tensor(8), tensor(6), tensor(5), tensor(1), tensor(1), tensor(1), tensor(8), tensor(1), tensor(9), tensor(5), tensor(1), tensor(3), tensor(6), tensor(7), tensor(2), tensor(7), tensor(9), tensor(8), tensor(2), tensor(9), tensor(8), tensor(1), tensor(4), tensor(5), tensor(4), tensor(8), tensor(1), tensor(3), tensor(3), tensor(0), tensor(8), tensor(7), tensor(6), tensor(1), tensor(0), tensor(3), tensor(4), tensor(8), tensor(3), tensor(9), tensor(1), tensor(0), tensor(1), tensor(1), tensor(8), tensor(0), tensor(1), tensor(0), tensor(3), tensor(1), tensor(5), tensor(5), tensor(8), tensor(7), tensor(7), tensor(9), tensor(2), tensor(0), tensor(5), tensor(9), tensor(1), tensor(2), tensor(5), tensor(2), tensor(2), tensor(4), tensor(5), tensor(8), tensor(0), tensor(6), tensor(3), tensor(8), tensor(6), tensor(3), tensor(1), tensor(2), tensor(7), tensor(2), tensor(3), tensor(9), tensor(3), tensor(5), tensor(6), tensor(5), tensor(5), tensor(7), tensor(0), tensor(6), tensor(9), tensor(7), tensor(0), tensor(2), tensor(2), tensor(8), tensor(7), tensor(2), tensor(0), tensor(1), tensor(0), tensor(5), tensor(8), tensor(0), tensor(7), tensor(1), tensor(0), tensor(6), tensor(3), tensor(6), tensor(4), tensor(1), tensor(2), tensor(7), tensor(1), tensor(7), tensor(3), tensor(9), tensor(1), tensor(3), tensor(7), tensor(8), tensor(6), tensor(5), tensor(3), tensor(8), tensor(4), tensor(5), tensor(0), tensor(6), tensor(1), tensor(1), tensor(7), tensor(5), tensor(4), tensor(3), tensor(1), tensor(3), tensor(0), tensor(4), tensor(9), tensor(6), tensor(9), tensor(4), tensor(8), tensor(8), tensor(7), tensor(2), tensor(8), tensor(0), tensor(7), tensor(2), tensor(0), tensor(5), tensor(8), tensor(5), tensor(5), tensor(0), tensor(9), tensor(0), tensor(9), tensor(3), tensor(7), tensor(1), tensor(7), tensor(7), tensor(5), tensor(8), tensor(5), tensor(2), tensor(1), tensor(2), tensor(3), tensor(5), tensor(6), tensor(2), tensor(1), tensor(9), tensor(6), tensor(6), tensor(4), tensor(3), tensor(3), tensor(2), tensor(4), tensor(7), tensor(4), tensor(0), tensor(7), tensor(4), tensor(4), tensor(4), tensor(6), tensor(0), tensor(3), tensor(2), tensor(0), tensor(6), tensor(4), tensor(0), tensor(1), tensor(5), tensor(3), tensor(1), tensor(9), tensor(8), tensor(3), tensor(5), tensor(1), tensor(1), tensor(9), tensor(9), tensor(8), tensor(3), tensor(9), tensor(0), tensor(5), tensor(3), tensor(1), tensor(7), tensor(4), tensor(1), tensor(2), tensor(5), tensor(4), tensor(2), tensor(7), tensor(5), tensor(6), tensor(1), tensor(2), tensor(8), tensor(3), tensor(7), tensor(0), tensor(0), tensor(8), tensor(5), tensor(3), tensor(0), tensor(0), tensor(1), tensor(3), tensor(9), tensor(3), tensor(2), tensor(2), tensor(7), tensor(6), tensor(3), tensor(1), tensor(1), tensor(8), tensor(6), tensor(5), tensor(4), tensor(0), tensor(1), tensor(3), tensor(8), tensor(6), tensor(5), tensor(3), tensor(2), tensor(3), tensor(6), tensor(4), tensor(5), tensor(0), tensor(4), tensor(3), tensor(0), tensor(1), tensor(3), tensor(9), tensor(6), tensor(4), tensor(8), tensor(6), tensor(9), tensor(4), tensor(4), tensor(9), tensor(9), tensor(1), tensor(3), tensor(3), tensor(5), tensor(1), tensor(9), tensor(2), tensor(6), tensor(6), tensor(9), tensor(3), tensor(1), tensor(1), tensor(7), tensor(6), tensor(2), tensor(3), tensor(9), tensor(0), tensor(7), tensor(0), tensor(4), tensor(3), tensor(8), tensor(2), tensor(5), tensor(8), tensor(7), tensor(0), tensor(3), tensor(8), tensor(8), tensor(1), tensor(1), tensor(3), tensor(6), tensor(8), tensor(4), tensor(7), tensor(6), tensor(3), tensor(6), tensor(1), tensor(8), tensor(4), tensor(1), tensor(1), tensor(6), tensor(1), tensor(4), tensor(5), tensor(9), tensor(6), tensor(2), tensor(7), tensor(3), tensor(4), tensor(2), tensor(2), tensor(6), tensor(8), tensor(1), tensor(1), tensor(7), tensor(2), tensor(6), tensor(7), tensor(1), tensor(0), tensor(9), tensor(1), tensor(5), tensor(7), tensor(7), tensor(7), tensor(4), tensor(3), tensor(0), tensor(0), tensor(5), tensor(0), tensor(7), tensor(2), tensor(5), tensor(0), tensor(4), tensor(6), tensor(0), tensor(5), tensor(2), tensor(9), tensor(7), tensor(3), tensor(3), tensor(5), tensor(1), tensor(2), tensor(4), tensor(0), tensor(8), tensor(3), tensor(3), tensor(0), tensor(7), tensor(1), tensor(7), tensor(3), tensor(4), tensor(4), tensor(7), tensor(4), tensor(6), tensor(5), tensor(0), tensor(6), tensor(9), tensor(1), tensor(6), tensor(8), tensor(1), tensor(5), tensor(0), tensor(1), tensor(7), tensor(7), tensor(5), tensor(1), tensor(1), tensor(2), tensor(3), tensor(9), tensor(9), tensor(9), tensor(5), tensor(2), tensor(6), tensor(9), tensor(3), tensor(2), tensor(1), tensor(9), tensor(2), tensor(4), tensor(8), tensor(4), tensor(4), tensor(1), tensor(8), tensor(2), tensor(1), tensor(0), tensor(6), tensor(7), tensor(9), tensor(0), tensor(7), tensor(3), tensor(3), tensor(6), tensor(9), tensor(7), tensor(1), tensor(0), tensor(0), tensor(5), tensor(1), tensor(5), tensor(6), tensor(8), tensor(4), tensor(9), tensor(5), tensor(1), tensor(9), tensor(1), tensor(8), tensor(3), tensor(4), tensor(3), tensor(5), tensor(9), tensor(1), tensor(8), tensor(1), tensor(3), tensor(4), tensor(3), tensor(2), tensor(1), tensor(7), tensor(6), tensor(6), tensor(2), tensor(1), tensor(9), tensor(5), tensor(2), tensor(0), tensor(4), tensor(3), tensor(9), tensor(3), tensor(8), tensor(7), tensor(6), tensor(1), tensor(3), tensor(9), tensor(6), tensor(0), tensor(2), tensor(7), tensor(8), tensor(1), tensor(9), tensor(5), tensor(5), tensor(7), tensor(6), tensor(4), tensor(0), tensor(4), tensor(7), tensor(9), tensor(7), tensor(6), tensor(5), tensor(3), tensor(5), tensor(4), tensor(0), tensor(0), tensor(5), tensor(8), tensor(6), tensor(8), tensor(3), tensor(0), tensor(1), tensor(6), tensor(9), tensor(7), tensor(1), tensor(7), tensor(0), tensor(6), tensor(1), tensor(0), tensor(8), tensor(0), tensor(8), tensor(5), tensor(8), tensor(9), tensor(0), tensor(0), tensor(3), tensor(5), tensor(0), tensor(1), tensor(7), tensor(6), tensor(6), tensor(2), tensor(8), tensor(0), tensor(5), tensor(8), tensor(8), tensor(9), tensor(9), tensor(5), tensor(8), tensor(9), tensor(1), tensor(8), tensor(2), tensor(4), tensor(8), tensor(4), tensor(5), tensor(9), tensor(2), tensor(0), tensor(9), tensor(2), tensor(6), tensor(0), tensor(3), tensor(1), tensor(6), tensor(0), tensor(5), tensor(1), tensor(2), tensor(2), tensor(1), tensor(5), tensor(3), tensor(2), tensor(0), tensor(9), tensor(7), tensor(4), tensor(4), tensor(2), tensor(7), tensor(4), tensor(6), tensor(0), tensor(1), tensor(0), tensor(4), tensor(6), tensor(1), tensor(8), tensor(8), tensor(7), tensor(6), tensor(6), tensor(0), tensor(4), tensor(1), tensor(8), tensor(8), tensor(1), tensor(0), tensor(5), tensor(1), tensor(2), tensor(0), tensor(0), tensor(2), tensor(0), tensor(6), tensor(2), tensor(2), tensor(2), tensor(6), tensor(6), tensor(6), tensor(6), tensor(2), tensor(5), tensor(9), tensor(8), tensor(7), tensor(6), tensor(0), tensor(0), tensor(9), tensor(1), tensor(5), tensor(3), tensor(2), tensor(2), tensor(7), tensor(9), tensor(9), tensor(6), tensor(0), tensor(1), tensor(8), tensor(5), tensor(1), tensor(2), tensor(8), tensor(7), tensor(9), tensor(5), tensor(1), tensor(9), tensor(1), tensor(6), tensor(1), tensor(4), tensor(9), tensor(9), tensor(6), tensor(9), tensor(1), tensor(8), tensor(1), tensor(3), tensor(3), tensor(2), tensor(5), tensor(2), tensor(6), tensor(2), tensor(3), tensor(8), tensor(5), tensor(1), tensor(1), tensor(4), tensor(7), tensor(5), tensor(9), tensor(3), tensor(4), tensor(9), tensor(0), tensor(0), tensor(9), tensor(3), tensor(5), tensor(9), tensor(9), tensor(2), tensor(3), tensor(3), tensor(0), tensor(0), tensor(4), tensor(3), tensor(4), tensor(9), tensor(4), tensor(0), tensor(8), tensor(6), tensor(5), tensor(0), tensor(7), tensor(0), tensor(5), tensor(6), tensor(4), tensor(3), tensor(3), tensor(2), tensor(3), tensor(5), tensor(4), tensor(3), tensor(3), tensor(7), tensor(8), tensor(8), tensor(8), tensor(3), tensor(9), tensor(8), tensor(1), tensor(3), tensor(7), tensor(7), tensor(5), tensor(8), tensor(3), tensor(2), tensor(2), tensor(5), tensor(1), tensor(2), tensor(9), tensor(1), tensor(8), tensor(2), tensor(1), tensor(3), tensor(9), tensor(8), tensor(0), tensor(6), tensor(8), tensor(0), tensor(5), tensor(5), tensor(9), tensor(8), tensor(5), tensor(5), tensor(6), tensor(1), tensor(7), tensor(3), tensor(9), tensor(8), tensor(0), tensor(7), tensor(3), tensor(4), tensor(0), tensor(4), tensor(6), tensor(9), tensor(2), tensor(7), tensor(5), tensor(3), tensor(3), tensor(1), tensor(1), tensor(2), tensor(6), tensor(8), tensor(1), tensor(4), tensor(9), tensor(3), tensor(2), tensor(1), tensor(5), tensor(1), tensor(9), tensor(0), tensor(9), tensor(5), tensor(3), tensor(8), tensor(7), tensor(9), tensor(5), tensor(7), tensor(5), tensor(8), tensor(2), tensor(3), tensor(1), tensor(1), tensor(3), tensor(2), tensor(9), tensor(0), tensor(3), tensor(8), tensor(4), tensor(3), tensor(1), tensor(3), tensor(6), tensor(4), tensor(9), tensor(8), tensor(0), tensor(7), tensor(6), tensor(2), tensor(3), tensor(3), tensor(3), tensor(3), tensor(1), tensor(6), tensor(3), tensor(2), tensor(1), tensor(8), tensor(6), tensor(9), tensor(9), tensor(5), tensor(9), tensor(6), tensor(3), tensor(6), tensor(8), tensor(0), tensor(7), tensor(3), tensor(9), tensor(6), tensor(9), tensor(0), tensor(1), tensor(4), tensor(4), tensor(2), tensor(9), tensor(8), tensor(3), tensor(6), tensor(3), tensor(2), tensor(7), tensor(9), tensor(2), tensor(1), tensor(7), tensor(8), tensor(0), tensor(5), tensor(7), tensor(1), tensor(7), tensor(2), tensor(1), tensor(7), tensor(4), tensor(7), tensor(3), tensor(5), tensor(1), tensor(3), tensor(5), tensor(6), tensor(5), tensor(8), tensor(5), tensor(2), tensor(2), tensor(4), tensor(0), tensor(3), tensor(6), tensor(9), tensor(7), tensor(2), tensor(3), tensor(3), tensor(8), tensor(5), tensor(3), tensor(9), tensor(3), tensor(3), tensor(0), tensor(1), tensor(9), tensor(0), tensor(8), tensor(0), tensor(0), tensor(8), tensor(5), tensor(6), tensor(0), tensor(1), tensor(2), tensor(8), tensor(4), tensor(9), tensor(7), tensor(6), tensor(1), tensor(4), tensor(8), tensor(0), tensor(1), tensor(1), tensor(8), tensor(2), tensor(2), tensor(3), tensor(0), tensor(9), tensor(2), tensor(4), tensor(9), tensor(3), tensor(9), tensor(2), tensor(5), tensor(4), tensor(0), tensor(8), tensor(3), tensor(7), tensor(2), tensor(2), tensor(1), tensor(7), tensor(9), tensor(5), tensor(1), tensor(8), tensor(2), tensor(6), tensor(8), tensor(5), tensor(6), tensor(0), tensor(4), tensor(3), tensor(2), tensor(5), tensor(6), tensor(3), tensor(5), tensor(1), tensor(2), tensor(4), tensor(6), tensor(7), tensor(0), tensor(5), tensor(9), tensor(2), tensor(7), tensor(6), tensor(7), tensor(8), tensor(9), tensor(4), tensor(1), tensor(3), tensor(3), tensor(4), tensor(6), tensor(4), tensor(8), tensor(6), tensor(4), tensor(9), tensor(8), tensor(2), tensor(8), tensor(5), tensor(7), tensor(8), tensor(4), tensor(2), tensor(2), tensor(9), tensor(0), tensor(9), tensor(7), tensor(4), tensor(1), tensor(8), tensor(7), tensor(1), tensor(5), tensor(8), tensor(1), tensor(2), tensor(4), tensor(3), tensor(2), tensor(9), tensor(5), tensor(9), tensor(2), tensor(4), tensor(0), tensor(1), tensor(1), tensor(9), tensor(3), tensor(5), tensor(2), tensor(7), tensor(5), tensor(2), tensor(0), tensor(2), tensor(2), tensor(6), tensor(0), tensor(6), tensor(1), tensor(2), tensor(8), tensor(6), tensor(5), tensor(4), tensor(1), tensor(3), tensor(8), tensor(2), tensor(9), tensor(6), tensor(8), tensor(5), tensor(3), tensor(7), tensor(3), tensor(8), tensor(4), tensor(4), tensor(5), tensor(0), tensor(1), tensor(7), tensor(3), tensor(0), tensor(6), tensor(2), tensor(1), tensor(1), tensor(2), tensor(4), tensor(3), tensor(8), tensor(2), tensor(4), tensor(3), tensor(7), tensor(5), tensor(0), tensor(9), tensor(4), tensor(8), tensor(3), tensor(5), tensor(3), tensor(0), tensor(8), tensor(3), tensor(1), tensor(6), tensor(1), tensor(3), tensor(9), tensor(8), tensor(4), tensor(5), tensor(1), tensor(0), tensor(6), tensor(9), tensor(0), tensor(2), tensor(1), tensor(1), tensor(1), tensor(4), tensor(8), tensor(8), tensor(7), tensor(7), tensor(3), tensor(3), tensor(1), tensor(2), tensor(6), tensor(4), tensor(3), tensor(8), tensor(6), tensor(4), tensor(7), tensor(1), tensor(7), tensor(0), tensor(1), tensor(0), tensor(4), tensor(5), tensor(0), tensor(0), tensor(4), tensor(8), tensor(3), tensor(0), tensor(9), tensor(7), tensor(1), tensor(3), tensor(5), tensor(8), tensor(3), tensor(7), tensor(9), tensor(4), tensor(6), tensor(8), tensor(2), tensor(8), tensor(9), tensor(1), tensor(8), tensor(5), tensor(7), tensor(8), tensor(4), tensor(3), tensor(1), tensor(0), tensor(9), tensor(3), tensor(3), tensor(9), tensor(1), tensor(2), tensor(1), tensor(9), tensor(2), tensor(3), tensor(0), tensor(7), tensor(7), tensor(8), tensor(1), tensor(0), tensor(6), tensor(1), tensor(3), tensor(2), tensor(8), tensor(7), tensor(0), tensor(1), tensor(8), tensor(1), tensor(3), tensor(1), tensor(7), tensor(1), tensor(9), tensor(5), tensor(7), tensor(1), tensor(1), tensor(2), tensor(1), tensor(1), tensor(1), tensor(4), tensor(4), tensor(2), tensor(9), tensor(3), tensor(3), tensor(2), tensor(1), tensor(6), tensor(1), tensor(9), tensor(1), tensor(0), tensor(7), tensor(2), tensor(3), tensor(8), tensor(7), tensor(1), tensor(4), tensor(1), tensor(3), tensor(2), tensor(8), tensor(3), tensor(2), tensor(2), tensor(9), tensor(0), tensor(8), tensor(5), tensor(4), tensor(9), tensor(0), tensor(5), tensor(4), tensor(5), tensor(0), tensor(4), tensor(3), tensor(1), tensor(5), tensor(8), tensor(8), tensor(0), tensor(1), tensor(7), tensor(7), tensor(9), tensor(5), tensor(0), tensor(7), tensor(8), tensor(8), tensor(4), tensor(8), tensor(7), tensor(3), tensor(2), tensor(8), tensor(1), tensor(9), tensor(5), tensor(0), tensor(2), tensor(9), tensor(1), tensor(1), tensor(7), tensor(6), tensor(3), tensor(1), tensor(0), tensor(1), tensor(4), tensor(8), tensor(2), tensor(2), tensor(0), tensor(2), tensor(0), tensor(0), tensor(3), tensor(9), tensor(4), tensor(6), tensor(5), tensor(8), tensor(8), tensor(7), tensor(0), tensor(5), tensor(3), tensor(2), tensor(7), tensor(1), tensor(1), tensor(7), tensor(3), tensor(6), tensor(9), tensor(6), tensor(1), tensor(8), tensor(1), tensor(9), tensor(7), tensor(5), tensor(5), tensor(7), tensor(1), tensor(1), tensor(8), tensor(6), tensor(0), tensor(2), tensor(1), tensor(6), tensor(7), tensor(9), tensor(1), tensor(6), tensor(8), tensor(3), tensor(7), tensor(3), tensor(0), tensor(1), tensor(4), tensor(9), tensor(9), tensor(8), tensor(3), tensor(5), tensor(7), tensor(2), tensor(4), tensor(5), tensor(9), tensor(5), tensor(8), tensor(2), tensor(8), tensor(0), tensor(1), tensor(5), tensor(1), tensor(1), tensor(5), tensor(5), tensor(5), tensor(8), tensor(3), tensor(0), tensor(4), tensor(1), tensor(8), tensor(3), tensor(0), tensor(9), tensor(1), tensor(9), tensor(3), tensor(1), tensor(7), tensor(9), tensor(8), tensor(0), tensor(6), tensor(4), tensor(3), tensor(7), tensor(7), tensor(1), tensor(1), tensor(6), tensor(3), tensor(3), tensor(3), tensor(9), tensor(5), tensor(8), tensor(8), tensor(9), tensor(1), tensor(7), tensor(5), tensor(4), tensor(3), tensor(6), tensor(9), tensor(9), tensor(0), tensor(3), tensor(2), tensor(7), tensor(1), tensor(1), tensor(1), tensor(6), tensor(4), tensor(5), tensor(4), tensor(5), tensor(9), tensor(0), tensor(0), tensor(5), tensor(2), tensor(2), tensor(3), tensor(7), tensor(4), tensor(5), tensor(6), tensor(5), tensor(7), tensor(0), tensor(7), tensor(9), tensor(9), tensor(9), tensor(1), tensor(8), tensor(4), tensor(8), tensor(0), tensor(9), tensor(5), tensor(1), tensor(0), tensor(0), tensor(5), tensor(1), tensor(9), tensor(9), tensor(0), tensor(9), tensor(3), tensor(5), tensor(4), tensor(5), tensor(3), tensor(1), tensor(4), tensor(4), tensor(7), tensor(2), tensor(4), tensor(4), tensor(6), tensor(4), tensor(2), tensor(7), tensor(1), tensor(9), tensor(5), tensor(7), tensor(6), tensor(8), tensor(3), tensor(4), tensor(7), tensor(1), tensor(6), tensor(0), tensor(2), tensor(1), tensor(3), tensor(2), tensor(9), tensor(5), tensor(3), tensor(9), tensor(2), tensor(1), tensor(7), tensor(1), tensor(7), tensor(8), tensor(5), tensor(6), tensor(8), tensor(7), tensor(9), tensor(2), tensor(2), tensor(3), tensor(5), tensor(1), tensor(2), tensor(2), tensor(6), tensor(2), tensor(6), tensor(6), tensor(8), tensor(7), tensor(8), tensor(0), tensor(4), tensor(0), tensor(9), tensor(5), tensor(4), tensor(6), tensor(8), tensor(2), tensor(8), tensor(5), tensor(4), tensor(1), tensor(2), tensor(8), tensor(7), tensor(0), tensor(6), tensor(6), tensor(8), tensor(5), tensor(5), tensor(0), tensor(7), tensor(7), tensor(1), tensor(5), tensor(0), tensor(0), tensor(2), tensor(9), tensor(3), tensor(2), tensor(8), tensor(3), tensor(9), tensor(0), tensor(2), tensor(4), tensor(5), tensor(0), tensor(4), tensor(5), tensor(4), tensor(1), tensor(9), tensor(1), tensor(4), tensor(6), tensor(3), tensor(2), tensor(7), tensor(5), tensor(5), tensor(5), tensor(3), tensor(5), tensor(9), tensor(9), tensor(2), tensor(7), tensor(2), tensor(9), tensor(6), tensor(1), tensor(9), tensor(0), tensor(0), tensor(4), tensor(2), tensor(4), tensor(9), tensor(6), tensor(5), tensor(8), tensor(3), tensor(8), tensor(2), tensor(0), tensor(5), tensor(2), tensor(7), tensor(0), tensor(2), tensor(6), tensor(4), tensor(4), tensor(5), tensor(0), tensor(7), tensor(9), tensor(1), tensor(3), tensor(6), tensor(3), tensor(3), tensor(3), tensor(1), tensor(9), tensor(1), tensor(3), tensor(8), tensor(1), tensor(7), tensor(3), tensor(9), tensor(5), tensor(3), tensor(8), tensor(6), tensor(7), tensor(4), tensor(7), tensor(7), tensor(2), tensor(8), tensor(6), tensor(3), tensor(6), tensor(4), tensor(7), tensor(6), tensor(9), tensor(7), tensor(1), tensor(1), tensor(5), tensor(9), tensor(5), tensor(5), tensor(5), tensor(2), tensor(1), tensor(0), tensor(6), tensor(0), tensor(6), tensor(0), tensor(8), tensor(3), tensor(6), tensor(6), tensor(5), tensor(5), tensor(7), tensor(4), tensor(8), tensor(1), tensor(2), tensor(5), tensor(2), tensor(1), tensor(5), tensor(2), tensor(7), tensor(2), tensor(4), tensor(0), tensor(1), tensor(2), tensor(3), tensor(9), tensor(7), tensor(0), tensor(3), tensor(6), tensor(2), tensor(4), tensor(7), tensor(4), tensor(1), tensor(1), tensor(6), tensor(3), tensor(2), tensor(2), tensor(4), tensor(1), tensor(8), tensor(2), tensor(3), tensor(0), tensor(3), tensor(7), tensor(6), tensor(8), tensor(3), tensor(7), tensor(9), tensor(3), tensor(9), tensor(7), tensor(8), tensor(8), tensor(3), tensor(2), tensor(7), tensor(1), tensor(3), tensor(4), tensor(0), tensor(8), tensor(8), tensor(8), tensor(8), tensor(2), tensor(4), tensor(6), tensor(8), tensor(9), tensor(0), tensor(2), tensor(0), tensor(7), tensor(4), tensor(5), tensor(6), tensor(4), tensor(1), tensor(2), tensor(4), tensor(0), tensor(9), tensor(1), tensor(6), tensor(8), tensor(2), tensor(5), tensor(7), tensor(6), tensor(7), tensor(1), tensor(6), tensor(3), tensor(5), tensor(1), tensor(0), tensor(7), tensor(2), tensor(2), tensor(1), tensor(4), tensor(5), tensor(5), tensor(7), tensor(8), tensor(0), tensor(4), tensor(6), tensor(6), tensor(9), tensor(5), tensor(0), tensor(7), tensor(1), tensor(3), tensor(1), tensor(7), tensor(4), tensor(3), tensor(3), tensor(1), tensor(2), tensor(9), tensor(6), tensor(9), tensor(4), tensor(1), tensor(8), tensor(1), tensor(8), tensor(3), tensor(6), tensor(5), tensor(0), tensor(7), tensor(3), tensor(4), tensor(6), tensor(6), tensor(6), tensor(2), tensor(9), tensor(3), tensor(5), tensor(4), tensor(9), tensor(8), tensor(1), tensor(6), tensor(7), tensor(5), tensor(4), tensor(4), tensor(2), tensor(9), tensor(9), tensor(7), tensor(2), tensor(9), tensor(1), tensor(1), tensor(1), tensor(6), tensor(2), tensor(0), tensor(8), tensor(1), tensor(5), tensor(3), tensor(2), tensor(3), tensor(1), tensor(6), tensor(2), tensor(4), tensor(0), tensor(1), tensor(6), tensor(4), tensor(9), tensor(1), tensor(0), tensor(2), tensor(9), tensor(3), tensor(0), tensor(4), tensor(6), tensor(1), tensor(8), tensor(9), tensor(9), tensor(0), tensor(9), tensor(6), tensor(6), tensor(4), tensor(9), tensor(1), tensor(0), tensor(4), tensor(4), tensor(6), tensor(3), tensor(0), tensor(6), tensor(0), tensor(6), tensor(0), tensor(8), tensor(5), tensor(8), tensor(1), tensor(5), tensor(1), tensor(3), tensor(4), tensor(7), tensor(7), tensor(8), tensor(0), tensor(1), tensor(1), tensor(0), tensor(2), tensor(0), tensor(1), tensor(6), tensor(9), tensor(4), tensor(3), tensor(0), tensor(4), tensor(6), tensor(1), tensor(5), tensor(1), tensor(4), tensor(3), tensor(6), tensor(2), tensor(5), tensor(4), tensor(3), tensor(2), tensor(1), tensor(8), tensor(7), tensor(3), tensor(9), tensor(7), tensor(2), tensor(1), tensor(1), tensor(0), tensor(8), tensor(4), tensor(4), tensor(0), tensor(3), tensor(9), tensor(8), tensor(6), tensor(0), tensor(6), tensor(7), tensor(1), tensor(6), tensor(6), tensor(3), tensor(1), tensor(3), tensor(8), tensor(8), tensor(7), tensor(0), tensor(1), tensor(4), tensor(4), tensor(9), tensor(7), tensor(2), tensor(9), tensor(4), tensor(9), tensor(7), tensor(2), tensor(6), tensor(1), tensor(0), tensor(7), tensor(8), tensor(1), tensor(8), tensor(4), tensor(0), tensor(5), tensor(2), tensor(5), tensor(2), tensor(0), tensor(5), tensor(9), tensor(5), tensor(1), tensor(8), tensor(6), tensor(8), tensor(8), tensor(3), tensor(8), tensor(3), tensor(1), tensor(5), tensor(6), tensor(0), tensor(6), tensor(3), tensor(4), tensor(1), tensor(0), tensor(9), tensor(4), tensor(7), tensor(1), tensor(0), tensor(0), tensor(3), tensor(8), tensor(4), tensor(9), tensor(0), tensor(1), tensor(9), tensor(7), tensor(2), tensor(3), tensor(9), tensor(8), tensor(1), tensor(9), tensor(0), tensor(8), tensor(0), tensor(8), tensor(6), tensor(0), tensor(5), tensor(7), tensor(7), tensor(3), tensor(3), tensor(3), tensor(0), tensor(7), tensor(2), tensor(1), tensor(0), tensor(2), tensor(8), tensor(9), tensor(9), tensor(2), tensor(7), tensor(1), tensor(2), tensor(5), tensor(9), tensor(1), tensor(2), tensor(8), tensor(9), tensor(1), tensor(9), tensor(4), tensor(1), tensor(6), tensor(4), tensor(7), tensor(5), tensor(1), tensor(7), tensor(4), tensor(9), tensor(4), tensor(6), tensor(3), tensor(5), tensor(1), tensor(0), tensor(7), tensor(4), tensor(6), tensor(9), tensor(3), tensor(7), tensor(2), tensor(2), tensor(9), tensor(0), tensor(5), tensor(6), tensor(6), tensor(6), tensor(9), tensor(5), tensor(5), tensor(1), tensor(7), tensor(5), tensor(4), tensor(9), tensor(8), tensor(5), tensor(3), tensor(6), tensor(4), tensor(7), tensor(0), tensor(6), tensor(4), tensor(2), tensor(6), tensor(1), tensor(4), tensor(9), tensor(8), tensor(3), tensor(7), tensor(8), tensor(3), tensor(7), tensor(5), tensor(1), tensor(1), tensor(1), tensor(5), tensor(3), tensor(0), tensor(7), tensor(2), tensor(3), tensor(6), tensor(4), tensor(3), tensor(7), tensor(5), tensor(8), tensor(7), tensor(9), tensor(2), tensor(0), tensor(2), tensor(1), tensor(0), tensor(2), tensor(2), tensor(7), tensor(0), tensor(8), tensor(2), tensor(0), tensor(7), tensor(9), tensor(7), tensor(4), tensor(9), tensor(1), tensor(7), tensor(5), tensor(8), tensor(4), tensor(2), tensor(4), tensor(4), tensor(5), tensor(9), tensor(1), tensor(5), tensor(9), tensor(4), tensor(5), tensor(4), tensor(3), tensor(0), tensor(3), tensor(8), tensor(3), tensor(4), tensor(4), tensor(4), tensor(9), tensor(5), tensor(9), tensor(8), tensor(3), tensor(8), tensor(9), tensor(7), tensor(7), tensor(4), tensor(7), tensor(7), tensor(0), tensor(5), tensor(8), tensor(3), tensor(6), tensor(3), tensor(9), tensor(2), tensor(8), tensor(2), tensor(0), tensor(8), tensor(8), tensor(9), tensor(8), tensor(9), tensor(1), tensor(7), tensor(0), tensor(5), tensor(3), tensor(3), tensor(7), tensor(1), tensor(6), tensor(8), tensor(3), tensor(5), tensor(2), tensor(1), tensor(9), tensor(6), tensor(7), tensor(9), tensor(0), tensor(2), tensor(3), tensor(7), tensor(3), tensor(2), tensor(6), tensor(1), tensor(6), tensor(2), tensor(8), tensor(1), tensor(8), tensor(5), tensor(5), tensor(3), tensor(0), tensor(1), tensor(2), tensor(1), tensor(3), tensor(8), tensor(6), tensor(1), tensor(0), tensor(0), tensor(4), tensor(8), tensor(8), tensor(6), tensor(1), tensor(0), tensor(4), tensor(6), tensor(7), tensor(3), tensor(4), tensor(2), tensor(8), tensor(0), tensor(7), tensor(2), tensor(0), tensor(2), tensor(8), tensor(4), tensor(4), tensor(9), tensor(0), tensor(9), tensor(9), tensor(8), tensor(5), tensor(0), tensor(1), tensor(5), tensor(3), tensor(8), tensor(0), tensor(6), tensor(2), tensor(3), tensor(5), tensor(0), tensor(7), tensor(0), tensor(3), tensor(2), tensor(6), tensor(9), tensor(7), tensor(8), tensor(9), tensor(7), tensor(1), tensor(8), tensor(4), tensor(0), tensor(0), tensor(3), tensor(9), tensor(4), tensor(0), tensor(1), tensor(7), tensor(4), tensor(5), tensor(2), tensor(1), tensor(6), tensor(5), tensor(1), tensor(2), tensor(1), tensor(9), tensor(4), tensor(7), tensor(6), tensor(6), tensor(3), tensor(6), tensor(7), tensor(8), tensor(7), tensor(8), tensor(4), tensor(7), tensor(1), tensor(7), tensor(9), tensor(7), tensor(0), tensor(2), tensor(0), tensor(3), tensor(7), tensor(6), tensor(8), tensor(2), tensor(4), tensor(3), tensor(7), tensor(0), tensor(8), tensor(9), tensor(3), tensor(0), tensor(9), tensor(8), tensor(2), tensor(2), tensor(7), tensor(0), tensor(8), tensor(6), tensor(9), tensor(7), tensor(9), tensor(2), tensor(0), tensor(7), tensor(9), tensor(0), tensor(0), tensor(7), tensor(9), tensor(7), tensor(4), tensor(8), tensor(9), tensor(3), tensor(6), tensor(1), tensor(4), tensor(0), tensor(9), tensor(5), tensor(8), tensor(9), tensor(4), tensor(1), tensor(4), tensor(6), tensor(3), tensor(0), tensor(6), tensor(7), tensor(1), tensor(0), tensor(0), tensor(6), tensor(7), tensor(2), tensor(6), tensor(2), tensor(7), tensor(9), tensor(7), tensor(5), tensor(1), tensor(1), tensor(2), tensor(2), tensor(2), tensor(2), tensor(3), tensor(5), tensor(7), tensor(4), tensor(0), tensor(0), tensor(4), tensor(4), tensor(4), tensor(1), tensor(3), tensor(9), tensor(4), tensor(6), tensor(0), tensor(3), tensor(0), tensor(6), tensor(6), tensor(6), tensor(8), tensor(1), tensor(6), tensor(9), tensor(0), tensor(7), tensor(5), tensor(2), tensor(3), tensor(5), tensor(4), tensor(7), tensor(1), tensor(4), tensor(0), tensor(6), tensor(1), tensor(6), tensor(4), tensor(1), tensor(7), tensor(1), tensor(1), tensor(0), tensor(3), tensor(8), tensor(6), tensor(0), tensor(2), tensor(7), tensor(1), tensor(4), tensor(6), tensor(2), tensor(5), tensor(9), tensor(3), tensor(1), tensor(7), tensor(0), tensor(5), tensor(4), tensor(1), tensor(4), tensor(2), tensor(8), tensor(1), tensor(4), tensor(3), tensor(0), tensor(6), tensor(8), tensor(4), tensor(8), tensor(0), tensor(1), tensor(5), tensor(6), tensor(5), tensor(5), tensor(6), tensor(2), tensor(1), tensor(8), tensor(7), tensor(0), tensor(9), tensor(5), tensor(1), tensor(3), tensor(4), tensor(6), tensor(8), tensor(5), tensor(5), tensor(1), tensor(6), tensor(2), tensor(9), tensor(6), tensor(7), tensor(7), tensor(3), tensor(2), tensor(1), tensor(0), tensor(0), tensor(7), tensor(6), tensor(9), tensor(2), tensor(3), tensor(1), tensor(6), tensor(7), tensor(1), tensor(3), tensor(7), tensor(0), tensor(6), tensor(8), tensor(6), tensor(6), tensor(6), tensor(9), tensor(7), tensor(0), tensor(8), tensor(2), tensor(0), tensor(1), tensor(2), tensor(2), tensor(7), tensor(3), tensor(1), tensor(3), tensor(8), tensor(6), tensor(8), tensor(4), tensor(2), tensor(4), tensor(0), tensor(0), tensor(2), tensor(8), tensor(1), tensor(9), tensor(2), tensor(9), tensor(1), tensor(9), tensor(4), tensor(7), tensor(6), tensor(3), tensor(5), tensor(2), tensor(8), tensor(9), tensor(1), tensor(1), tensor(5), tensor(7), tensor(6), tensor(6), tensor(0), tensor(7), tensor(7), tensor(2), tensor(3), tensor(4), tensor(9), tensor(8), tensor(7), tensor(7), tensor(6), tensor(5), tensor(8), tensor(2), tensor(5), tensor(4), tensor(4), tensor(7), tensor(7), tensor(2), tensor(6), tensor(2), tensor(2), tensor(7), tensor(7), tensor(2), tensor(4), tensor(7), tensor(9), tensor(4), tensor(1), tensor(0), tensor(8), tensor(5), tensor(9), tensor(4), tensor(7), tensor(5), tensor(4), tensor(5), tensor(2), tensor(7), tensor(7), tensor(9), tensor(9), tensor(5), tensor(1), tensor(8), tensor(8), tensor(5), tensor(0), tensor(4), tensor(6), tensor(0), tensor(7), tensor(0), tensor(4), tensor(4), tensor(4), tensor(1), tensor(0), tensor(1), tensor(7), tensor(9), tensor(9), tensor(4), tensor(0), tensor(3), tensor(5), tensor(0), tensor(1), tensor(2), tensor(4), tensor(0), tensor(7), tensor(3), tensor(6), tensor(7), tensor(9), tensor(5), tensor(4), tensor(6), tensor(1), tensor(8), tensor(0), tensor(0), tensor(7), tensor(3), tensor(3), tensor(8), tensor(2), tensor(5), tensor(1), tensor(1), tensor(8), tensor(6), tensor(5), tensor(1), tensor(5), tensor(1), tensor(2), tensor(6), tensor(5), tensor(4), tensor(0), tensor(6), tensor(5), tensor(2), tensor(2), tensor(9), tensor(5), tensor(6), tensor(5), tensor(0), tensor(5), tensor(7), tensor(8), tensor(7), tensor(8), tensor(1), tensor(0), tensor(5), tensor(6), tensor(6), tensor(8), tensor(8), tensor(1), tensor(5), tensor(1), tensor(7), tensor(5), tensor(7), tensor(9), tensor(7), tensor(2), tensor(6), tensor(1), tensor(9), tensor(3), tensor(5), tensor(5), tensor(0), tensor(0), tensor(8), tensor(3), tensor(6), tensor(0), tensor(3), tensor(3), tensor(2), tensor(6), tensor(9), tensor(0), tensor(2), tensor(2), tensor(1), tensor(4), tensor(5), tensor(3), tensor(0), tensor(5), tensor(2), tensor(1), tensor(5), tensor(0), tensor(4), tensor(2), tensor(7), tensor(8), tensor(6), tensor(8), tensor(4), tensor(0), tensor(2), tensor(5), tensor(2), tensor(8), tensor(3), tensor(3), tensor(8), tensor(4), tensor(4), tensor(9), tensor(0), tensor(5), tensor(1), tensor(1), tensor(6), tensor(6), tensor(3), tensor(3), tensor(6), tensor(9), tensor(0), tensor(0), tensor(3), tensor(7), tensor(1), tensor(9), tensor(1), tensor(9), tensor(1), tensor(6), tensor(1), tensor(1), tensor(2), tensor(6), tensor(8), tensor(1), tensor(7), tensor(8), tensor(9), tensor(0), tensor(8), tensor(0), tensor(0), tensor(0), tensor(7), tensor(6), tensor(6), tensor(4), tensor(0), tensor(6), tensor(3), tensor(9), tensor(8), tensor(6), tensor(8), tensor(5), tensor(7), tensor(2), tensor(0), tensor(9), tensor(0), tensor(0), tensor(1), tensor(1), tensor(4), tensor(4), tensor(5), tensor(7), tensor(8), tensor(0), tensor(2), tensor(0), tensor(4), tensor(3), tensor(8), tensor(9), tensor(2), tensor(0), tensor(8), tensor(6), tensor(4), tensor(4), tensor(3), tensor(5), tensor(1), tensor(9), tensor(6), tensor(4), tensor(8), tensor(8), tensor(4), tensor(7), tensor(8), tensor(1), tensor(4), tensor(1), tensor(4), tensor(2), tensor(9), tensor(2), tensor(1), tensor(4), tensor(7), tensor(2), tensor(1), tensor(5), tensor(8), tensor(1), tensor(2), tensor(1), tensor(2), tensor(2), tensor(7), tensor(2), tensor(2), tensor(1), tensor(8), tensor(4), tensor(3), tensor(5), tensor(0), tensor(4), tensor(5), tensor(1), tensor(6), tensor(3), tensor(6), tensor(4), tensor(3), tensor(3), tensor(6), tensor(6), tensor(5), tensor(0), tensor(7), tensor(0), tensor(2), tensor(2), tensor(6), tensor(7), tensor(1), tensor(1), tensor(8), tensor(3), tensor(0), tensor(3), tensor(7), tensor(6), tensor(0), tensor(5), tensor(1), tensor(4), tensor(3), tensor(0), tensor(1), tensor(6), tensor(7), tensor(2), tensor(6), tensor(5), tensor(9), tensor(3), tensor(7), tensor(3), tensor(9), tensor(0), tensor(1), tensor(4), tensor(7), tensor(3), tensor(8), tensor(2), tensor(2), tensor(8), tensor(3), tensor(0), tensor(9), tensor(9), tensor(7), tensor(9), tensor(4), tensor(5), tensor(6), tensor(0), tensor(8), tensor(3), tensor(5), tensor(0), tensor(1), tensor(9), tensor(8), tensor(3), tensor(5), tensor(3), tensor(7), tensor(0), tensor(6), tensor(4), tensor(7), tensor(8), tensor(5), tensor(1), tensor(2), tensor(4), tensor(4), tensor(7), tensor(2), tensor(9), tensor(4), tensor(4), tensor(6), tensor(9), tensor(2), tensor(9), tensor(9), tensor(5), tensor(6), tensor(1), tensor(4), tensor(8), tensor(0), tensor(4), tensor(7), tensor(3), tensor(6), tensor(5), tensor(7), tensor(0), tensor(6), tensor(2), tensor(8), tensor(4), tensor(5), tensor(5), tensor(2), tensor(7), tensor(2), tensor(6), tensor(1), tensor(9), tensor(2), tensor(5), tensor(3), tensor(2), tensor(7), tensor(0), tensor(8), tensor(6), tensor(3), tensor(2), tensor(2), tensor(7), tensor(7), tensor(0), tensor(5), tensor(5), tensor(2), tensor(4), tensor(7), tensor(7), tensor(9), tensor(5), tensor(4), tensor(2), tensor(2), tensor(9), tensor(3), tensor(3), tensor(1), tensor(8), tensor(0), tensor(6), tensor(7), tensor(4), tensor(0), tensor(9), tensor(5), tensor(3), tensor(6), tensor(3), tensor(5), tensor(7), tensor(3), tensor(7), tensor(1), tensor(3), tensor(6), tensor(7), tensor(9), tensor(3), tensor(7), tensor(5), tensor(9), tensor(9), tensor(1), tensor(0), tensor(1), tensor(2), tensor(8), tensor(8), tensor(1), tensor(9), tensor(3), tensor(6), tensor(1), tensor(7), tensor(8), tensor(4), tensor(4), tensor(6), tensor(9), tensor(9), tensor(4), tensor(7), tensor(0), tensor(4), tensor(9), tensor(6), tensor(0), tensor(8), tensor(6), tensor(3), tensor(1), tensor(2), tensor(9), tensor(1), tensor(8), tensor(9), tensor(3), tensor(1), tensor(9), tensor(5), tensor(9), tensor(6), tensor(3), tensor(8), tensor(4), tensor(5), tensor(8), tensor(0), tensor(7), tensor(0), tensor(8), tensor(0), tensor(9), tensor(8), tensor(2), tensor(1), tensor(2), tensor(6), tensor(6), tensor(8), tensor(6), tensor(0), tensor(2), tensor(4), tensor(4), tensor(5), tensor(4), tensor(4), tensor(9), tensor(0), tensor(4), tensor(7), tensor(6), tensor(8), tensor(5), tensor(6), tensor(0), tensor(6), tensor(3), tensor(8), tensor(6), tensor(4), tensor(4), tensor(2), tensor(9), tensor(7), tensor(0), tensor(7), tensor(0), tensor(2), tensor(9), tensor(1), tensor(8), tensor(7), tensor(5), tensor(2), tensor(2), tensor(6), tensor(0), tensor(5), tensor(9), tensor(7), tensor(6), tensor(8), tensor(8), tensor(0), tensor(5), tensor(8), tensor(9), tensor(5), tensor(6), tensor(8), tensor(3), tensor(0), tensor(3), tensor(7), tensor(5), tensor(2), tensor(4), tensor(8), tensor(6), tensor(6), tensor(2), tensor(7), tensor(5), tensor(6), tensor(9), tensor(4), tensor(6), tensor(3), tensor(7), tensor(4), tensor(7), tensor(3), tensor(9), tensor(6), tensor(0), tensor(2), tensor(0), tensor(8), tensor(9), tensor(2), tensor(8), tensor(7), tensor(9), tensor(4), tensor(4), tensor(8), tensor(5), tensor(8), tensor(2), tensor(9), tensor(8), tensor(9), tensor(7), tensor(0), tensor(4), tensor(1), tensor(8), tensor(7), tensor(1), tensor(7), tensor(0), tensor(9), tensor(8), tensor(2), tensor(6), tensor(5), tensor(3), tensor(5), tensor(6), tensor(1), tensor(6), tensor(4), tensor(5), tensor(2), tensor(3), tensor(0), tensor(1), tensor(7), tensor(6), tensor(3), tensor(5), tensor(7), tensor(4), tensor(1), tensor(1), tensor(0), tensor(3), tensor(3), tensor(7), tensor(4), tensor(0), tensor(5), tensor(1), tensor(5), tensor(1), tensor(2), tensor(4), tensor(5), tensor(9), tensor(3), tensor(6), tensor(1), tensor(6), tensor(8), tensor(0), tensor(2), tensor(9), tensor(2), tensor(4), tensor(3), tensor(8), tensor(1), tensor(0), tensor(2), tensor(6), tensor(8), tensor(5), tensor(1), tensor(0), tensor(1), tensor(9), tensor(4), tensor(7), tensor(3), tensor(1), tensor(4), tensor(2), tensor(4), tensor(3), tensor(6), tensor(8), tensor(8), tensor(1), tensor(7), tensor(2), tensor(8), tensor(3), tensor(6), tensor(4), tensor(5), tensor(5), tensor(9), tensor(9), tensor(4), tensor(0), tensor(8), tensor(1), tensor(4), tensor(2), tensor(9), tensor(5), tensor(2), tensor(6), tensor(5), tensor(5), tensor(1), tensor(0), tensor(7), tensor(9), tensor(2), tensor(4), tensor(8), tensor(2), tensor(3), tensor(5), tensor(8), tensor(6), tensor(3), tensor(4), tensor(9), tensor(2), tensor(7), tensor(2), tensor(4), tensor(7), tensor(4), tensor(8), tensor(5), tensor(0), tensor(6), tensor(2), tensor(0), tensor(3), tensor(0), tensor(8), tensor(7), tensor(8), tensor(8), tensor(2), tensor(2), tensor(8), tensor(8), tensor(0), tensor(8), tensor(2), tensor(1), tensor(9), tensor(8), tensor(4), tensor(3), tensor(4), tensor(4), tensor(6), tensor(5), tensor(9), tensor(1), tensor(5), tensor(6), tensor(4), tensor(4), tensor(8), tensor(2), tensor(3), tensor(1), tensor(1), tensor(4), tensor(9), tensor(6), tensor(3), tensor(7), tensor(6), tensor(9), tensor(4), tensor(8), tensor(4), tensor(2), tensor(5), tensor(2), tensor(4), tensor(7), tensor(9), tensor(9), tensor(4), tensor(0), tensor(7), tensor(7), tensor(7), tensor(9), tensor(5), tensor(7), tensor(8), tensor(4), tensor(1), tensor(5), tensor(5), tensor(2), tensor(2), tensor(2), tensor(5), tensor(5), tensor(8), tensor(6), tensor(1), tensor(8), tensor(9), tensor(2), tensor(5), tensor(5), tensor(7), tensor(9), tensor(6), tensor(1), tensor(7), tensor(3), tensor(1), tensor(9), tensor(8), tensor(6), tensor(8), tensor(0), tensor(6), tensor(1), tensor(2), tensor(6), tensor(5), tensor(5), tensor(4), tensor(6), tensor(8), tensor(8), tensor(6), tensor(3), tensor(2), tensor(2), tensor(6), tensor(2), tensor(5), tensor(4), tensor(1), tensor(7), tensor(4), tensor(4), tensor(4), tensor(9), tensor(1), tensor(1), tensor(6), tensor(2), tensor(4), tensor(1), tensor(2), tensor(8), tensor(2), tensor(4), tensor(9), tensor(0), tensor(4), tensor(3), tensor(2), tensor(3), tensor(5), tensor(2), tensor(0), tensor(6), tensor(2), tensor(0), tensor(2), tensor(5), tensor(2), tensor(4), tensor(6), tensor(9), tensor(7), tensor(1), tensor(5), tensor(2), tensor(7), tensor(9), tensor(6), tensor(8), tensor(3), tensor(4), tensor(7), tensor(6), tensor(6), tensor(0), tensor(8), tensor(0), tensor(7), tensor(1), tensor(4), tensor(4), tensor(0), tensor(9), tensor(5), tensor(9), tensor(2), tensor(2), tensor(7), tensor(0), tensor(3), tensor(3), tensor(5), tensor(3), tensor(9), tensor(0), tensor(7), tensor(8), tensor(4), tensor(2), tensor(6), tensor(4), tensor(8), tensor(2), tensor(8), tensor(5), tensor(0), tensor(6), tensor(0), tensor(4), tensor(6), tensor(7), tensor(3), tensor(1), tensor(7), tensor(0), tensor(1), tensor(0), tensor(0), tensor(6), tensor(8), tensor(7), tensor(4), tensor(6), tensor(9), tensor(9), tensor(7), tensor(7), tensor(3), tensor(5), tensor(0), tensor(2), tensor(4), tensor(5), tensor(1), tensor(8), tensor(6), tensor(8), tensor(9), tensor(2), tensor(9), tensor(9), tensor(1), tensor(5), tensor(3), tensor(0), tensor(7), tensor(5), tensor(7), tensor(5), tensor(2), tensor(7), tensor(9), tensor(4), tensor(6), tensor(9), tensor(2), tensor(0), tensor(2), tensor(3), tensor(7), tensor(9), tensor(9), tensor(0), tensor(7), tensor(5), tensor(7), tensor(3), tensor(7), tensor(4), tensor(1), tensor(6), tensor(0), tensor(7), tensor(6), tensor(3), tensor(1), tensor(0), tensor(4), tensor(2), tensor(2), tensor(4), tensor(4), tensor(3), tensor(6), tensor(1), tensor(9), tensor(7), tensor(2), tensor(7), tensor(5), tensor(5), tensor(4), tensor(9), tensor(9), tensor(8), tensor(6), tensor(2), tensor(3), tensor(2), tensor(3), tensor(2), tensor(2), tensor(8), tensor(1), tensor(0), tensor(2), tensor(3), tensor(7), tensor(4), tensor(1), tensor(0), tensor(6), tensor(9), tensor(9), tensor(2), tensor(6), tensor(0), tensor(4), tensor(5), tensor(1), tensor(4), tensor(5), tensor(2), tensor(1), tensor(2), tensor(7), tensor(9), tensor(5), tensor(1), tensor(3), tensor(6), tensor(3), tensor(7), tensor(0), tensor(5), tensor(8), tensor(2), tensor(3), tensor(3), tensor(0), tensor(3), tensor(5), tensor(5), tensor(4), tensor(2), tensor(1), tensor(8), tensor(8), tensor(4), tensor(9), tensor(8), tensor(2), tensor(6), tensor(6), tensor(0), tensor(1), tensor(1), tensor(6), tensor(9), tensor(5), tensor(6), tensor(2), tensor(1), tensor(8), tensor(1), tensor(8), tensor(5), tensor(6), tensor(6), tensor(7), tensor(1), tensor(4), tensor(0), tensor(2), tensor(1), tensor(5), tensor(1), tensor(4), tensor(7), tensor(9), tensor(0), tensor(8), tensor(1), tensor(9), tensor(8), tensor(0), tensor(6), tensor(8), tensor(2), tensor(4), tensor(9), tensor(3), tensor(8), tensor(6), tensor(2), tensor(1), tensor(8), tensor(1), tensor(7), tensor(8), tensor(4), tensor(5), tensor(6), tensor(9), tensor(2), tensor(3), tensor(2), tensor(7), tensor(7), tensor(6), tensor(2), tensor(0), tensor(0), tensor(9), tensor(4), tensor(8), tensor(3), tensor(9), tensor(7), tensor(5), tensor(5), tensor(4), tensor(1), tensor(4), tensor(8), tensor(2), tensor(6), tensor(3), tensor(9), tensor(5), tensor(9), tensor(8), tensor(7), tensor(1), tensor(7), tensor(1), tensor(8), tensor(3), tensor(7), tensor(3), tensor(4), tensor(4), tensor(5), tensor(4), tensor(4), tensor(4), tensor(3), tensor(9), tensor(8), tensor(2), tensor(9), tensor(3), tensor(1), tensor(1), tensor(1), tensor(4), tensor(7), tensor(2), tensor(5), tensor(5), tensor(9), tensor(2), tensor(7), tensor(5), tensor(9), tensor(3), tensor(2), tensor(4), tensor(7), tensor(1), tensor(6), tensor(5), tensor(9), tensor(4), tensor(5), tensor(9), tensor(1), tensor(7), tensor(1), tensor(6), tensor(8), tensor(4), tensor(5), tensor(8), tensor(2), tensor(5), tensor(8), tensor(5), tensor(9), tensor(1), tensor(1), tensor(9), tensor(7), tensor(9), tensor(7), tensor(3), tensor(8), tensor(5), tensor(9), tensor(3), tensor(1), tensor(9), tensor(8), tensor(3), tensor(4), tensor(3), tensor(8), tensor(1), tensor(7), tensor(4), tensor(0), tensor(7), tensor(6), tensor(6), tensor(2), tensor(4), tensor(6), tensor(3), tensor(4), tensor(2), tensor(9), tensor(2), tensor(6), tensor(2), tensor(5), tensor(9), tensor(6), tensor(1), tensor(2), tensor(5), tensor(7), tensor(0), tensor(8), tensor(2), tensor(8), tensor(6), tensor(7), tensor(1), tensor(3), tensor(7), tensor(1), tensor(8), tensor(8), tensor(1), tensor(4), tensor(7), tensor(1), tensor(7), tensor(5), tensor(0), tensor(0), tensor(4), tensor(4), tensor(7), tensor(2), tensor(2), tensor(3), tensor(3), tensor(4), tensor(5), tensor(0), tensor(7), tensor(6), tensor(2), tensor(8), tensor(4), tensor(7), tensor(7), tensor(5), tensor(3), tensor(8), tensor(2), tensor(5), tensor(5), tensor(3), tensor(6), tensor(0), tensor(8), tensor(9), tensor(1), tensor(8), tensor(4), tensor(9), tensor(6), tensor(5), tensor(6), tensor(3), tensor(8), tensor(0), tensor(2), tensor(8), tensor(5), tensor(4), tensor(5), tensor(9), tensor(3), tensor(1), tensor(7), tensor(7), tensor(2), tensor(2), tensor(9), tensor(4), tensor(1), tensor(6), tensor(2), tensor(6), tensor(9), tensor(7), tensor(5), tensor(9), tensor(0), tensor(3), tensor(2), tensor(1), tensor(2), tensor(5), tensor(1), tensor(1), tensor(7), tensor(0), tensor(4), tensor(7), tensor(7), tensor(7), tensor(5), tensor(5), tensor(0), tensor(0), tensor(0), tensor(2), tensor(0), tensor(4), tensor(6), tensor(1), tensor(5), tensor(3), tensor(5), tensor(9), tensor(4), tensor(6), tensor(5), tensor(7), tensor(2), tensor(0), tensor(3), tensor(3), tensor(9), tensor(0), tensor(6), tensor(2), tensor(9), tensor(7), tensor(2), tensor(4), tensor(8), tensor(3), tensor(4), tensor(7), tensor(8), tensor(7), tensor(1), tensor(2), tensor(6), tensor(7), tensor(4), tensor(9), tensor(5), tensor(3), tensor(8), tensor(9), tensor(2), tensor(3), tensor(5), tensor(8), tensor(4), tensor(0), tensor(3), tensor(6), tensor(2), tensor(3), tensor(1), tensor(0), tensor(7), tensor(3), tensor(0), tensor(0), tensor(7), tensor(5), tensor(2), tensor(7), tensor(9), tensor(8), tensor(5), tensor(8), tensor(9), tensor(3), tensor(6), tensor(8), tensor(6), tensor(2), tensor(2), tensor(2), tensor(2), tensor(2), tensor(1), tensor(9), tensor(1), tensor(4), tensor(4), tensor(9), tensor(6), tensor(4), tensor(2), tensor(0), tensor(6), tensor(9), tensor(7), tensor(1), tensor(6), tensor(5), tensor(8), tensor(7), tensor(0), tensor(4), tensor(1), tensor(1), tensor(1), tensor(9), tensor(8), tensor(9), tensor(1), tensor(5), tensor(4), tensor(3), tensor(8), tensor(4), tensor(6), tensor(1), tensor(2), tensor(5), tensor(7), tensor(6), tensor(5), tensor(3), tensor(8), tensor(0), tensor(3), tensor(0), tensor(7), tensor(7), tensor(6), tensor(5), tensor(1), tensor(5), tensor(0), tensor(4), tensor(6), tensor(6), tensor(4), tensor(8), tensor(1), tensor(3), tensor(3), tensor(8), tensor(2), tensor(7), tensor(5), tensor(2), tensor(8), tensor(9), tensor(0), tensor(6), tensor(3), tensor(9), tensor(9), tensor(1), tensor(8), tensor(3), tensor(7), tensor(7), tensor(7), tensor(0), tensor(8), tensor(9), tensor(9), tensor(8), tensor(3), tensor(5), tensor(2), tensor(2), tensor(7), tensor(3), tensor(3), tensor(9), tensor(1), tensor(1), tensor(8), tensor(0), tensor(5), tensor(1), tensor(4), tensor(4), tensor(1), tensor(8), tensor(7), tensor(6), tensor(2), tensor(7), tensor(6), tensor(2), tensor(6), tensor(1), tensor(5), tensor(0), tensor(2), tensor(6), tensor(6), tensor(7), tensor(0), tensor(4), tensor(8), tensor(3), tensor(4), tensor(0), tensor(7), tensor(9), tensor(9), tensor(3), tensor(8), tensor(3), tensor(5), tensor(2), tensor(4), tensor(4), tensor(3), tensor(2), tensor(0), tensor(4), tensor(4), tensor(6), tensor(3), tensor(1), tensor(7), tensor(9), tensor(8), tensor(3), tensor(5), tensor(4), tensor(0), tensor(0), tensor(2), tensor(1), tensor(7), tensor(7), tensor(8), tensor(3), tensor(3), tensor(8), tensor(3), tensor(7), tensor(8), tensor(1), tensor(9), tensor(7), tensor(0), tensor(5), tensor(1), tensor(5), tensor(2), tensor(8), tensor(9), tensor(5), tensor(6), tensor(7), tensor(5), tensor(9), tensor(6), tensor(4), tensor(5), tensor(9), tensor(8), tensor(3), tensor(2), tensor(8), tensor(8), tensor(0), tensor(9), tensor(6), tensor(5), tensor(6), tensor(1), tensor(4), tensor(1), tensor(1), tensor(3), tensor(2), tensor(9), tensor(3), tensor(4), tensor(4), tensor(7), tensor(4), tensor(3), tensor(9), tensor(0), tensor(6), tensor(0), tensor(6), tensor(6), tensor(8), tensor(5), tensor(6), tensor(9), tensor(5), tensor(3), tensor(5), tensor(2), tensor(2), tensor(6), tensor(7), tensor(7), tensor(5), tensor(7), tensor(8), tensor(6), tensor(6), tensor(9), tensor(5), tensor(3), tensor(3), tensor(0), tensor(3), tensor(5), tensor(7), tensor(7), tensor(3), tensor(6), tensor(9), tensor(7), tensor(9), tensor(8), tensor(2), tensor(1), tensor(4), tensor(0), tensor(6), tensor(3), tensor(3), tensor(7), tensor(7), tensor(1), tensor(1), tensor(0), tensor(1), tensor(4), tensor(7), tensor(7), tensor(6), tensor(9), tensor(4), tensor(7), tensor(1), tensor(6), tensor(9), tensor(8), tensor(3), tensor(4), tensor(6), tensor(3), tensor(1), tensor(9), tensor(2), tensor(4), tensor(2), tensor(1), tensor(9), tensor(6), tensor(4), tensor(9), tensor(9), tensor(9), tensor(6), tensor(9), tensor(3), tensor(2), tensor(8), tensor(7), tensor(0), tensor(3), tensor(2), tensor(3), tensor(0), tensor(8), tensor(2), tensor(6), tensor(5), tensor(8), tensor(5), tensor(5), tensor(3), tensor(6), tensor(4), tensor(4), tensor(6), tensor(2), tensor(4), tensor(4), tensor(5), tensor(3), tensor(6), tensor(1), tensor(0), tensor(4), tensor(9), tensor(3), tensor(0), tensor(2), tensor(8), tensor(7), tensor(7), tensor(7), tensor(9), tensor(4), tensor(4), tensor(7), tensor(9), tensor(6), tensor(6), tensor(6), tensor(0), tensor(7), tensor(3), tensor(2), tensor(9), tensor(2), tensor(2), tensor(3), tensor(6), tensor(2), tensor(3), tensor(9), tensor(3), tensor(7), tensor(3), tensor(5), tensor(8), tensor(2), tensor(0), tensor(2), tensor(3), tensor(4), tensor(3), tensor(8), tensor(3), tensor(8), tensor(5), tensor(5), tensor(9), tensor(4), tensor(5), tensor(4), tensor(1), tensor(9), tensor(7), tensor(5), tensor(7), tensor(0), tensor(9), tensor(4), tensor(8), tensor(4), tensor(3), tensor(7), tensor(1), tensor(5), tensor(0), tensor(1), tensor(2), tensor(1), tensor(4), tensor(4), tensor(0), tensor(7), tensor(8), tensor(0), tensor(5), tensor(5), tensor(1), tensor(6), tensor(2), tensor(2), tensor(2), tensor(6), tensor(7), tensor(8), tensor(7), tensor(5), tensor(4), tensor(4), tensor(6), tensor(9), tensor(5), tensor(5), tensor(6), tensor(6), tensor(3), tensor(3), tensor(7), tensor(4), tensor(2), tensor(9), tensor(1), tensor(5), tensor(2), tensor(9), tensor(9), tensor(0), tensor(3), tensor(7), tensor(8), tensor(0), tensor(2), tensor(8), tensor(2), tensor(9), tensor(8), tensor(4), tensor(0), tensor(9), tensor(7), tensor(7), tensor(8), tensor(8), tensor(7), tensor(4), tensor(2), tensor(1), tensor(1), tensor(6), tensor(3), tensor(0), tensor(0), tensor(4), tensor(8), tensor(2), tensor(7), tensor(7), tensor(4), tensor(6), tensor(7), tensor(0), tensor(9), tensor(6), tensor(2), tensor(6), tensor(5), tensor(9), tensor(0), tensor(1), tensor(6), tensor(0), tensor(2), tensor(8), tensor(9), tensor(0), tensor(5), tensor(3), tensor(1), tensor(5), tensor(6), tensor(8), tensor(5), tensor(4), tensor(8), tensor(9), tensor(8), tensor(4), tensor(3), tensor(7), tensor(6), tensor(1), tensor(7), tensor(7), tensor(6), tensor(6), tensor(5), tensor(9), tensor(1), tensor(7), tensor(3), tensor(1), tensor(5), tensor(6), tensor(3), tensor(0), tensor(6), tensor(5), tensor(7), tensor(1), tensor(6), tensor(1), tensor(1), tensor(1), tensor(4), tensor(5), tensor(6), tensor(3), tensor(9), tensor(3), tensor(3), tensor(3), tensor(0), tensor(1), tensor(8), tensor(6), tensor(0), tensor(6), tensor(8), tensor(4), tensor(3), tensor(0), tensor(4), tensor(1), tensor(3), tensor(4), tensor(9), tensor(5), tensor(9), tensor(6), tensor(1), tensor(6), tensor(6), tensor(1), tensor(8), tensor(4), tensor(3), tensor(9), tensor(7), tensor(3), tensor(7), tensor(1), tensor(4), tensor(7), tensor(5), tensor(8), tensor(3), tensor(2), tensor(3), tensor(7), tensor(4), tensor(2), tensor(8), tensor(5), tensor(6), tensor(9), tensor(6), tensor(9), tensor(8), tensor(8), tensor(4), tensor(0), tensor(2), tensor(3), tensor(9), tensor(3), tensor(5), tensor(5), tensor(7), tensor(5), tensor(0), tensor(0), tensor(2), tensor(5), tensor(1), tensor(6), tensor(7), tensor(1), tensor(2), tensor(8), tensor(3), tensor(1), tensor(2), tensor(9), tensor(0), tensor(1), tensor(4), tensor(1), tensor(5), tensor(7), tensor(1), tensor(2), tensor(5), tensor(0), tensor(3), tensor(8), tensor(7), tensor(7), tensor(9), tensor(2), tensor(4), tensor(1), tensor(2), tensor(4), tensor(7), tensor(4), tensor(3), tensor(3), tensor(9), tensor(0), tensor(6), tensor(8), tensor(7), tensor(6), tensor(2), tensor(1), tensor(7), tensor(4), tensor(4), tensor(2), tensor(9), tensor(2), tensor(2), tensor(3), tensor(5), tensor(5), tensor(8), tensor(1), tensor(0), tensor(0), tensor(5), tensor(6), tensor(2), tensor(2), tensor(3), tensor(3), tensor(2), tensor(1), tensor(7), tensor(2), tensor(8), tensor(2), tensor(2), tensor(2), tensor(2), tensor(3), tensor(4), tensor(2), tensor(6), tensor(8), tensor(6), tensor(4), tensor(4), tensor(8), tensor(7), tensor(3), tensor(3), tensor(3), tensor(9), tensor(3), tensor(0), tensor(7), tensor(1), tensor(2), tensor(5), tensor(3), tensor(5), tensor(1), tensor(7), tensor(2), tensor(9), tensor(9), tensor(3), tensor(3), tensor(1), tensor(1), tensor(6), tensor(4), tensor(5), tensor(6), tensor(0), tensor(7), tensor(4), tensor(2), tensor(7), tensor(2), tensor(3), tensor(3), tensor(0), tensor(9), tensor(5), tensor(8), tensor(3), tensor(2), tensor(2), tensor(1), tensor(8), tensor(4), tensor(8), tensor(1), tensor(0), tensor(7), tensor(0), tensor(5), tensor(7), tensor(7), tensor(2), tensor(6), tensor(6), tensor(9), tensor(1), tensor(9), tensor(4), tensor(6), tensor(2), tensor(1), tensor(7), tensor(0), tensor(1), tensor(9), tensor(0), tensor(0), tensor(8), tensor(2), tensor(2), tensor(9), tensor(5), tensor(1), tensor(2), tensor(7), tensor(4), tensor(7), tensor(6), tensor(7), tensor(5), tensor(6), tensor(9), tensor(8), tensor(7), tensor(0), tensor(8), tensor(8), tensor(3), tensor(9), tensor(5), tensor(6), tensor(0), tensor(1), tensor(1), tensor(5), tensor(9), tensor(4), tensor(3), tensor(6), tensor(0), tensor(3), tensor(5), tensor(2), tensor(1), tensor(7), tensor(0), tensor(8), tensor(0), tensor(0), tensor(2), tensor(1), tensor(9), tensor(3), tensor(4), tensor(4), tensor(2), tensor(7), tensor(0), tensor(7), tensor(7), tensor(7), tensor(7), tensor(4), tensor(8), tensor(7), tensor(1), tensor(5), tensor(8), tensor(8), tensor(6), tensor(0), tensor(7), tensor(4), tensor(9), tensor(6), tensor(8), tensor(3), tensor(3), tensor(6), tensor(1), tensor(7), tensor(4), tensor(0), tensor(5), tensor(1), tensor(6), tensor(0), tensor(7), tensor(1), tensor(9), tensor(6), tensor(3), tensor(6), tensor(2), tensor(5), tensor(4), tensor(1), tensor(6), tensor(0), tensor(1), tensor(7), tensor(3), tensor(8), tensor(2), tensor(9), tensor(1), tensor(4), tensor(6), tensor(7), tensor(0), tensor(2), tensor(0), tensor(9), tensor(1), tensor(5), tensor(7), tensor(8), tensor(9), tensor(7), tensor(4), tensor(8), tensor(5), tensor(6), tensor(0), tensor(8), tensor(3), tensor(8), tensor(8), tensor(5), tensor(3), tensor(1), tensor(6), tensor(0), tensor(3), tensor(6), tensor(0), tensor(1), tensor(9), tensor(2), tensor(9), tensor(5), tensor(2), tensor(9), tensor(4), tensor(1), tensor(5), tensor(9), tensor(5), tensor(1), tensor(4), tensor(2), tensor(8), tensor(7), tensor(3), tensor(7), tensor(7), tensor(3), tensor(2), tensor(4), tensor(6), tensor(1), tensor(4), tensor(4), tensor(7), tensor(9), tensor(8), tensor(7), tensor(7), tensor(0), tensor(1), tensor(1), tensor(7), tensor(8), tensor(9), tensor(5), tensor(4), tensor(3), tensor(6), tensor(2), tensor(0), tensor(6), tensor(9), tensor(7), tensor(4), tensor(3), tensor(8), tensor(6), tensor(3), tensor(8), tensor(3), tensor(0), tensor(2), tensor(0), tensor(7), tensor(8), tensor(4), tensor(6), tensor(8), tensor(7), tensor(7), tensor(4), tensor(6), tensor(5), tensor(5), tensor(6), tensor(8), tensor(1), tensor(7), tensor(2), tensor(6), tensor(6), tensor(7), tensor(6), tensor(0), tensor(5), tensor(1), tensor(1), tensor(0), tensor(8), tensor(7), tensor(1), tensor(2), tensor(1), tensor(2), tensor(2), tensor(0), tensor(0), tensor(9), tensor(5), tensor(3), tensor(4), tensor(0), tensor(7), tensor(4), tensor(6), tensor(2), tensor(8), tensor(8), tensor(3), tensor(1), tensor(6), tensor(7), tensor(9), tensor(0), tensor(9), tensor(4), tensor(1), tensor(5), tensor(5), tensor(6), tensor(6), tensor(8), tensor(5), tensor(9), tensor(2), tensor(7), tensor(0), tensor(2), tensor(2), tensor(2), tensor(3), tensor(1), tensor(0), tensor(4), tensor(7), tensor(4), tensor(8), tensor(8), tensor(6), tensor(6), tensor(5), tensor(4), tensor(9), tensor(1), tensor(1), tensor(5), tensor(5), tensor(2), tensor(8), tensor(2), tensor(9), tensor(2), tensor(5), tensor(7), tensor(6), tensor(9), tensor(7), tensor(9), tensor(0), tensor(5), tensor(6), tensor(7), tensor(1), tensor(2), tensor(8), tensor(3), tensor(1), tensor(3), tensor(1), tensor(6), tensor(4), tensor(6), tensor(5), tensor(8), tensor(2), tensor(1), tensor(0), tensor(6), tensor(3), tensor(9), tensor(8), tensor(4), tensor(8), tensor(3), tensor(2), tensor(1), tensor(4), tensor(1), tensor(4), tensor(9), tensor(2), tensor(8), tensor(4), tensor(8), tensor(8), tensor(4), tensor(9), tensor(8), tensor(4), tensor(4), tensor(9), tensor(3), tensor(0), tensor(7), tensor(9), tensor(9), tensor(5), tensor(1), tensor(1), tensor(4), tensor(0), tensor(2), tensor(9), tensor(6), tensor(4), tensor(8), tensor(8), tensor(1), tensor(2), tensor(0), tensor(8), tensor(0), tensor(2), tensor(5), tensor(8), tensor(9), tensor(5), tensor(0), tensor(7), tensor(7), tensor(8), tensor(4), tensor(1), tensor(3), tensor(7), tensor(0), tensor(1), tensor(6), tensor(8), tensor(0), tensor(6), tensor(9), tensor(2), tensor(9), tensor(9), tensor(1), tensor(7), tensor(2), tensor(3), tensor(9), tensor(0), tensor(3), tensor(9), tensor(9), tensor(4), tensor(9), tensor(8), tensor(5), tensor(6), tensor(4), tensor(2), tensor(9), tensor(4), tensor(2), tensor(2), tensor(1), tensor(6), tensor(5), tensor(2), tensor(1), tensor(4), tensor(2), tensor(8), tensor(8), tensor(9), tensor(9), tensor(9), tensor(6), tensor(1), tensor(7), tensor(6), tensor(4), tensor(8), tensor(9), tensor(3), tensor(1), tensor(7), tensor(4), tensor(1), tensor(2), tensor(1), tensor(9), tensor(4), tensor(7), tensor(3), tensor(9), tensor(9), tensor(1), tensor(3), tensor(7), tensor(7), tensor(1), tensor(8), tensor(0), tensor(2), tensor(2), tensor(0), tensor(9), tensor(2), tensor(3), tensor(8), tensor(6), tensor(1), tensor(3), tensor(9), tensor(6), tensor(7), tensor(6), tensor(9), tensor(9), tensor(5), tensor(6), tensor(4), tensor(5), tensor(2), tensor(7), tensor(5), tensor(9), tensor(6), tensor(6), tensor(6), tensor(2), tensor(1), tensor(0), tensor(0), tensor(7), tensor(9), tensor(0), tensor(4), tensor(6), tensor(3), tensor(7), tensor(7), tensor(1), tensor(8), tensor(3), tensor(9), tensor(1), tensor(2), tensor(4), tensor(2), tensor(9), tensor(7), tensor(4), tensor(5), tensor(9), tensor(0), tensor(6), tensor(4), tensor(6), tensor(5), tensor(9), tensor(3), tensor(4), tensor(0), tensor(7), tensor(3), tensor(8), tensor(9), tensor(5), tensor(5), tensor(7), tensor(1), tensor(4), tensor(5), tensor(6), tensor(3), tensor(9), tensor(4), tensor(6), tensor(0), tensor(3), tensor(1), tensor(0), tensor(5), tensor(9), tensor(8), tensor(9), tensor(7), tensor(5), tensor(3), tensor(5), tensor(4), tensor(8), tensor(9), tensor(7), tensor(7), tensor(1), tensor(8), tensor(7), tensor(9), tensor(2), tensor(2), tensor(1), tensor(8), tensor(2), tensor(3), tensor(2), tensor(7), tensor(4), tensor(1), tensor(7), tensor(9), tensor(9), tensor(0), tensor(2), tensor(1), tensor(7), tensor(5), tensor(6), tensor(7), tensor(0), tensor(2), tensor(0), tensor(0), tensor(6), tensor(2), tensor(1), tensor(1), tensor(9), tensor(4), tensor(2), tensor(9), tensor(0), tensor(6), tensor(9), tensor(3), tensor(5), tensor(5), tensor(0), tensor(9), tensor(2), tensor(9), tensor(2), tensor(9), tensor(6), tensor(3), tensor(0), tensor(2), tensor(6), tensor(9), tensor(6), tensor(3), tensor(4), tensor(3), tensor(5), tensor(9), tensor(7), tensor(0), tensor(8), tensor(8), tensor(1), tensor(6), tensor(5), tensor(1), tensor(6), tensor(6), tensor(2), tensor(7), tensor(8), tensor(3), tensor(9), tensor(1), tensor(8), tensor(5), tensor(0), tensor(0), tensor(6), tensor(5), tensor(2), tensor(6), tensor(6), tensor(1), tensor(3), tensor(6), tensor(5), tensor(4), tensor(4), tensor(5), tensor(1), tensor(9), tensor(2), tensor(9), tensor(8), tensor(2), tensor(6), tensor(0), tensor(4), tensor(4), tensor(4), tensor(8), tensor(8), tensor(2), tensor(2), tensor(7), tensor(3), tensor(2), tensor(1), tensor(1), tensor(5), tensor(5), tensor(2), tensor(6), tensor(6), tensor(7), tensor(8), tensor(5), tensor(2), tensor(6), tensor(8), tensor(4), tensor(6), tensor(7), tensor(0), tensor(1), tensor(9), tensor(4), tensor(3), tensor(3), tensor(3), tensor(1), tensor(8), tensor(4), tensor(6), tensor(7), tensor(4), tensor(6), tensor(7), tensor(2), tensor(4), tensor(5), tensor(9), tensor(4), tensor(0), tensor(5), tensor(6), tensor(6), tensor(1), tensor(7), tensor(8), tensor(5), tensor(1), tensor(7), tensor(3), tensor(8), tensor(4), tensor(4), tensor(3), tensor(2), tensor(7), tensor(2), tensor(4), tensor(9), tensor(8), tensor(2), tensor(4), tensor(5), tensor(8), tensor(8), tensor(4), tensor(8), tensor(9), tensor(6), tensor(2), tensor(4), tensor(3), tensor(2), tensor(7), tensor(5), tensor(1), tensor(1), tensor(1), tensor(8), tensor(6), tensor(5), tensor(4), tensor(0), tensor(6), tensor(8), tensor(4), tensor(5), tensor(6), tensor(2), tensor(0), tensor(2), tensor(5), tensor(8), tensor(9), tensor(7), tensor(9), tensor(8), tensor(3), tensor(1), tensor(1), tensor(6), tensor(1), tensor(5), tensor(6), tensor(2), tensor(3), tensor(6), tensor(4), tensor(0), tensor(2), tensor(2), tensor(1), tensor(0), tensor(1), tensor(0), tensor(5), tensor(2), tensor(9), tensor(8), tensor(6), tensor(8), tensor(1), tensor(0), tensor(9), tensor(2), tensor(6), tensor(6), tensor(3), tensor(7), tensor(1), tensor(5), tensor(2), tensor(5), tensor(7), tensor(5), tensor(4), tensor(5), tensor(3), tensor(8), tensor(0), tensor(1), tensor(7), tensor(9), tensor(8), tensor(2), tensor(5), tensor(7), tensor(2), tensor(9), tensor(4), tensor(0), tensor(7), tensor(7), tensor(5), tensor(8), tensor(9), tensor(5), tensor(9), tensor(2), tensor(8), tensor(0), tensor(1), tensor(2), tensor(5), tensor(1), tensor(4), tensor(3), tensor(8), tensor(3), tensor(6), tensor(3), tensor(5), tensor(8), tensor(7), tensor(8), tensor(6), tensor(4), tensor(6), tensor(3), tensor(1), tensor(0), tensor(7), tensor(1), tensor(9), tensor(5), tensor(5), tensor(5), tensor(5), tensor(4), tensor(0), tensor(2), tensor(1), tensor(1), tensor(7), tensor(3), tensor(1), tensor(5), tensor(8), tensor(6), tensor(7), tensor(1), tensor(0), tensor(6), tensor(6), tensor(3), tensor(8), tensor(8), tensor(6), tensor(0), tensor(6), tensor(1), tensor(3), tensor(8), tensor(1), tensor(4), tensor(6), tensor(6), tensor(6), tensor(3), tensor(4), tensor(1), tensor(9), tensor(3), tensor(1), tensor(3), tensor(8), tensor(3), tensor(5), tensor(6), tensor(2), tensor(2), tensor(1), tensor(7), tensor(0), tensor(1), tensor(0), tensor(1), tensor(0), tensor(6), tensor(2), tensor(2), tensor(9), tensor(0), tensor(8), tensor(3), tensor(7), tensor(9), tensor(7), tensor(0), tensor(6), tensor(1), tensor(0), tensor(5), tensor(6), tensor(0), tensor(1), tensor(7), tensor(4), tensor(2), tensor(8), tensor(3), tensor(2), tensor(0), tensor(0), tensor(3), tensor(7), tensor(2), tensor(0), tensor(8), tensor(1), tensor(9), tensor(2), tensor(7), tensor(4), tensor(3), tensor(7), tensor(3), tensor(9), tensor(8), tensor(5), tensor(3), tensor(2), tensor(1), tensor(3), tensor(0), tensor(1), tensor(5), tensor(5), tensor(7), tensor(5), tensor(9), tensor(7), tensor(4), tensor(8), tensor(7), tensor(5), tensor(3), tensor(0), tensor(7), tensor(5), tensor(0), tensor(5), tensor(0), tensor(2), tensor(2), tensor(2), tensor(7), tensor(3), tensor(6), tensor(5), tensor(3), tensor(5), tensor(4), tensor(2), tensor(3), tensor(5), tensor(1), tensor(8), tensor(6), tensor(9), tensor(7), tensor(4), tensor(4), tensor(8), tensor(1), tensor(4), tensor(7), tensor(1), tensor(3), tensor(1), tensor(7), tensor(1), tensor(8), tensor(2), tensor(1), tensor(6), tensor(2), tensor(1), tensor(3), tensor(8), tensor(8), tensor(8), tensor(5), tensor(3), tensor(4), tensor(1), tensor(6), tensor(6), tensor(8), tensor(0), tensor(0), tensor(6), tensor(9), tensor(9), tensor(1), tensor(6), tensor(3), tensor(8), tensor(5), tensor(3), tensor(6), tensor(1), tensor(4), tensor(6), tensor(8), tensor(6), tensor(8), tensor(6), tensor(5), tensor(2), tensor(1), tensor(8), tensor(9), tensor(2), tensor(3), tensor(8), tensor(4), tensor(3), tensor(5), tensor(7), tensor(2), tensor(2), tensor(6), tensor(3), tensor(0), tensor(2), tensor(9), tensor(3), tensor(8), tensor(8), tensor(7), tensor(2), tensor(4), tensor(6), tensor(6), tensor(5), tensor(8), tensor(8), tensor(0), tensor(5), tensor(9), tensor(5), tensor(6), tensor(1), tensor(1), tensor(4), tensor(7), tensor(0), tensor(1), tensor(5), tensor(0), tensor(7), tensor(4), tensor(1), tensor(5), tensor(5), tensor(9), tensor(8), tensor(3), tensor(4), tensor(1), tensor(3), tensor(7), tensor(9), tensor(2), tensor(0), tensor(1), tensor(8), tensor(0), tensor(3), tensor(5), tensor(8), tensor(1), tensor(3), tensor(9), tensor(1), tensor(5), tensor(3), tensor(2), tensor(5), tensor(7), tensor(9), tensor(1), tensor(0), tensor(3), tensor(3), tensor(9), tensor(7), tensor(2), tensor(1), tensor(4), tensor(8), tensor(7), tensor(5), tensor(1), tensor(5), tensor(0), tensor(4), tensor(7), tensor(8), tensor(6), tensor(3), tensor(3), tensor(9), tensor(4), tensor(3), tensor(2), tensor(8), tensor(0), tensor(4), tensor(3), tensor(9), tensor(9), tensor(8), tensor(3), tensor(4), tensor(9), tensor(9), tensor(1), tensor(1), tensor(9), tensor(3), tensor(1), tensor(0), tensor(8), tensor(5), tensor(4), tensor(4), tensor(6), tensor(4), tensor(0), tensor(1), tensor(7), tensor(6), tensor(1), tensor(3), tensor(0), tensor(6), tensor(2), tensor(0), tensor(6), tensor(5), tensor(7), tensor(3), tensor(0), tensor(4), tensor(7), tensor(3), tensor(3), tensor(7), tensor(2), tensor(2), tensor(9), tensor(6), tensor(4), tensor(3), tensor(2), tensor(0), tensor(5), tensor(0), tensor(5), tensor(3), tensor(4), tensor(3), tensor(1), tensor(1), tensor(4), tensor(1), tensor(9), tensor(7), tensor(6), tensor(3), tensor(1), tensor(5), tensor(7), tensor(9), tensor(3), tensor(0), tensor(0), tensor(5), tensor(5), tensor(3), tensor(2), tensor(7), tensor(2), tensor(3), tensor(8), tensor(4), tensor(2), tensor(3), tensor(9), tensor(1), tensor(8), tensor(5), tensor(3), tensor(2), tensor(1), tensor(3), tensor(0), tensor(5), tensor(5), tensor(7), tensor(1), tensor(1), tensor(6), tensor(1), tensor(4), tensor(0), tensor(1), tensor(9), tensor(3), tensor(8), tensor(7), tensor(2), tensor(0), tensor(6), tensor(2), tensor(6), tensor(7), tensor(3), tensor(8), tensor(1), tensor(3), tensor(5), tensor(7), tensor(7), tensor(3), tensor(1), tensor(2), tensor(0), tensor(0), tensor(2), tensor(9), tensor(0), tensor(5), tensor(3), tensor(2), tensor(2), tensor(2), tensor(2), tensor(3), tensor(7), tensor(6), tensor(1), tensor(4), tensor(4), tensor(4), tensor(6), tensor(3), tensor(4), tensor(2), tensor(8), tensor(1), tensor(4), tensor(4), tensor(3), tensor(0), tensor(2), tensor(3), tensor(3), tensor(2), tensor(6), tensor(9), tensor(1), tensor(4), tensor(9), tensor(1), tensor(1), tensor(1), tensor(4), tensor(5), tensor(4), tensor(6), tensor(1), tensor(2), tensor(7), tensor(4), tensor(0), tensor(5), tensor(0), tensor(6), tensor(7), tensor(3), tensor(2), tensor(0), tensor(3), tensor(5), tensor(7), tensor(0), tensor(2), tensor(1), tensor(3), tensor(0), tensor(1), tensor(9), tensor(8), tensor(1), tensor(9), tensor(6), tensor(3), tensor(7), tensor(5), tensor(8), tensor(8), tensor(0), tensor(5), tensor(1), tensor(2), tensor(8), tensor(7), tensor(4), tensor(8), tensor(3), tensor(6), tensor(9), tensor(5), tensor(5), tensor(9), tensor(1), tensor(9), tensor(8), tensor(9), tensor(3), tensor(4), tensor(6), tensor(1), tensor(7), tensor(9), tensor(7), tensor(0), tensor(3), tensor(0), tensor(2), tensor(3), tensor(8), tensor(2), tensor(1), tensor(0), tensor(0), tensor(4), tensor(6), tensor(1), tensor(0), tensor(3), tensor(3), tensor(7), tensor(4), tensor(2), tensor(9), tensor(3), tensor(0), tensor(8), tensor(9), tensor(4), tensor(2), tensor(7), tensor(8), tensor(9), tensor(5), tensor(7), tensor(1), tensor(6), tensor(4), tensor(0), tensor(1), tensor(7), tensor(6), tensor(7), tensor(8), tensor(3), tensor(1), tensor(2), tensor(9), tensor(7), tensor(8), tensor(2), tensor(3), tensor(4), tensor(6), tensor(2), tensor(5), tensor(3), tensor(1), tensor(0), tensor(2), tensor(8), tensor(4), tensor(1), tensor(8), tensor(4), tensor(1), tensor(2), tensor(5), tensor(9), tensor(0), tensor(2), tensor(0), tensor(2), tensor(6), tensor(7), tensor(2), tensor(4), tensor(5), tensor(9), tensor(2), tensor(2), tensor(2), tensor(2), tensor(8), tensor(7), tensor(1), tensor(8), tensor(5), tensor(2), tensor(1), tensor(4), tensor(6), tensor(3), tensor(6), tensor(2), tensor(6), tensor(3), tensor(0), tensor(3), tensor(7), tensor(3), tensor(0), tensor(6), tensor(1), tensor(2), tensor(6), tensor(7), tensor(9), tensor(0), tensor(2), tensor(0), tensor(8), tensor(0), tensor(1), tensor(9), tensor(5), tensor(6), tensor(6), tensor(2), tensor(9), tensor(3), tensor(2), tensor(0), tensor(9), tensor(5), tensor(3), tensor(4), tensor(7), tensor(9), tensor(0), tensor(2), tensor(8), tensor(0), tensor(9), tensor(1), tensor(1), tensor(0), tensor(6), tensor(3), tensor(8), tensor(8), tensor(1), tensor(1), tensor(5), tensor(6), tensor(6), tensor(4), tensor(4), tensor(5), tensor(7), tensor(1), tensor(2), tensor(1), tensor(0), tensor(7), tensor(4), tensor(7), tensor(2), tensor(5), tensor(7), tensor(3), tensor(4), tensor(1), tensor(2), tensor(4), tensor(1), tensor(2), tensor(3), tensor(1), tensor(9), tensor(8), tensor(9), tensor(3), tensor(9), tensor(1), tensor(7), tensor(8), tensor(9), tensor(9), tensor(5), tensor(9), tensor(7), tensor(5), tensor(6), tensor(6), tensor(1), tensor(2), tensor(3), tensor(8), tensor(1), tensor(1), tensor(3), tensor(6), tensor(8), tensor(5), tensor(8), tensor(6), tensor(7), tensor(0), tensor(6), tensor(2), tensor(7), tensor(8), tensor(6), tensor(5), tensor(8), tensor(1), tensor(7), tensor(2), tensor(7), tensor(4), tensor(1), tensor(7), tensor(6), tensor(8), tensor(2), tensor(4), tensor(9), tensor(1), tensor(1), tensor(9), tensor(5), tensor(9), tensor(7), tensor(0), tensor(9), tensor(6), tensor(1), tensor(4), tensor(3), tensor(8), tensor(7), tensor(3), tensor(9), tensor(9), tensor(4), tensor(7), tensor(1), tensor(7), tensor(6), tensor(4), tensor(8), tensor(4), tensor(4), tensor(2), tensor(7), tensor(0), tensor(3), tensor(7), tensor(8), tensor(0), tensor(7), tensor(9), tensor(7), tensor(8), tensor(1), tensor(1), tensor(0), tensor(6), tensor(9), tensor(2), tensor(4), tensor(5), tensor(7), tensor(3), tensor(3), tensor(8), tensor(2), tensor(6), tensor(1), tensor(1), tensor(7), tensor(2), tensor(7), tensor(0), tensor(0), tensor(8), tensor(0), tensor(2), tensor(5), tensor(4), tensor(1), tensor(3), tensor(7), tensor(0), tensor(8), tensor(6), tensor(9), tensor(3), tensor(9), tensor(1), tensor(6), tensor(4), tensor(1), tensor(7), tensor(9), tensor(4), tensor(1), tensor(5), tensor(8), tensor(2), tensor(5), tensor(1), tensor(0), tensor(7), tensor(5), tensor(6), tensor(2), tensor(2), tensor(9), tensor(9), tensor(5), tensor(9), tensor(9), tensor(9), tensor(3), tensor(2), tensor(5), tensor(8), tensor(5), tensor(2), tensor(5), tensor(3), tensor(7), tensor(2), tensor(0), tensor(3), tensor(1), tensor(3), tensor(9), tensor(7), tensor(0), tensor(1), tensor(0), tensor(7), tensor(9), tensor(9), tensor(5), tensor(6), tensor(9), tensor(2), tensor(4), tensor(3), tensor(8), tensor(3), tensor(7), tensor(1), tensor(2), tensor(8), tensor(2), tensor(1), tensor(5), tensor(9), tensor(3), tensor(7), tensor(4), tensor(8), tensor(4), tensor(0), tensor(8), tensor(7), tensor(0), tensor(9), tensor(7), tensor(1), tensor(3), tensor(1), tensor(9), tensor(7), tensor(1), tensor(0), tensor(9), tensor(0), tensor(1), tensor(5), tensor(9), tensor(1), tensor(7), tensor(2), tensor(4), tensor(3), tensor(9), tensor(5), tensor(4), tensor(3), tensor(3), tensor(9), tensor(0), tensor(8), tensor(9), tensor(9), tensor(1), tensor(7), tensor(7), tensor(4), tensor(6), tensor(0), tensor(1), tensor(2), tensor(4), tensor(9), tensor(3), tensor(0), tensor(6), tensor(5), tensor(0), tensor(9), tensor(7), tensor(0), tensor(5), tensor(3), tensor(1), tensor(9), tensor(9), tensor(1), tensor(7), tensor(6), tensor(0), tensor(0), tensor(1), tensor(0), tensor(3), tensor(4), tensor(8), tensor(6), tensor(1), tensor(2), tensor(1), tensor(2), tensor(2), tensor(3), tensor(7), tensor(9), tensor(0), tensor(6), tensor(6), tensor(6), tensor(4), tensor(2), tensor(5), tensor(3), tensor(2), tensor(2), tensor(3), tensor(0), tensor(6), tensor(2), tensor(3), tensor(3), tensor(3), tensor(3), tensor(5), tensor(3), tensor(5), tensor(3), tensor(2), tensor(8), tensor(2), tensor(5), tensor(5), tensor(0), tensor(7), tensor(9), tensor(5), tensor(3), tensor(7), tensor(7), tensor(6), tensor(0), tensor(6), tensor(8), tensor(5), tensor(9), tensor(1), tensor(5), tensor(1), tensor(0), tensor(5), tensor(0), tensor(1), tensor(2), tensor(3), tensor(8), tensor(6), tensor(7), tensor(1), tensor(0), tensor(9), tensor(6), tensor(2), tensor(5), tensor(5), tensor(1), tensor(8), tensor(8), tensor(6), tensor(3), tensor(6), tensor(5), tensor(2), tensor(4), tensor(8), tensor(4), tensor(1), tensor(0), tensor(3), tensor(1), tensor(9), tensor(0), tensor(9), tensor(0), tensor(4), tensor(8), tensor(6), tensor(6), tensor(6), tensor(0), tensor(0), tensor(3), tensor(9), tensor(0), tensor(8), tensor(5), tensor(0), tensor(9), tensor(6), tensor(1), tensor(4), tensor(1), tensor(5), tensor(8), tensor(2), tensor(0), tensor(2), tensor(5), tensor(3), tensor(7), tensor(2), tensor(0), tensor(2), tensor(6), tensor(6), tensor(0), tensor(5), tensor(0), tensor(2), tensor(0), tensor(4), tensor(6), tensor(4), tensor(2), tensor(1), tensor(7), tensor(0), tensor(5), tensor(7), tensor(2), tensor(0), tensor(6), tensor(3), tensor(8), tensor(8), tensor(8), tensor(0), tensor(7), tensor(4), tensor(8), tensor(4), tensor(2), tensor(1), tensor(3), tensor(7), tensor(1), tensor(3), tensor(1), tensor(6), tensor(9), tensor(9), tensor(6), tensor(9), tensor(2), tensor(0), tensor(4), tensor(8), tensor(1), tensor(8), tensor(2), tensor(1), tensor(7), tensor(8), tensor(6), tensor(1), tensor(4), tensor(7), tensor(0), tensor(4), tensor(3), tensor(5), tensor(0), tensor(3), tensor(8), tensor(2), tensor(4), tensor(6), tensor(6), tensor(1), tensor(5), tensor(6), tensor(0), tensor(0), tensor(7), tensor(1), tensor(8), tensor(0), tensor(5), tensor(0), tensor(9), tensor(8), tensor(1), tensor(7), tensor(8), tensor(2), tensor(1), tensor(6), tensor(6), tensor(1), tensor(3), tensor(4), tensor(4), tensor(4), tensor(7), tensor(1), tensor(6), tensor(2), tensor(4), tensor(7), tensor(0), tensor(0), tensor(1), tensor(4), tensor(6), tensor(7), tensor(9), tensor(8), tensor(8), tensor(6), tensor(7), tensor(6), tensor(8), tensor(3), tensor(2), tensor(0), tensor(9), tensor(2), tensor(4), tensor(8), tensor(1), tensor(5), tensor(9), tensor(1), tensor(2), tensor(3), tensor(3), tensor(5), tensor(6), tensor(8), tensor(0), tensor(5), tensor(9), tensor(0), tensor(0), tensor(5), tensor(1), tensor(6), tensor(5), tensor(2), tensor(4), tensor(8), tensor(0), tensor(8), tensor(3), tensor(6), tensor(3), tensor(3), tensor(5), tensor(3), tensor(8), tensor(2), tensor(2), tensor(9), tensor(4), tensor(5), tensor(7), tensor(8), tensor(6), tensor(2), tensor(6), tensor(1), tensor(8), tensor(9), tensor(9), tensor(7), tensor(9), tensor(7), tensor(0), tensor(7), tensor(8), tensor(3), tensor(7), tensor(9), tensor(9), tensor(8), tensor(2), tensor(5), tensor(8), tensor(3), tensor(8), tensor(3), tensor(6), tensor(5), tensor(6), tensor(8), tensor(8), tensor(3), tensor(2), tensor(6), tensor(0), tensor(3), tensor(8), tensor(5), tensor(7), tensor(8), tensor(2), tensor(4), tensor(9), tensor(7), tensor(4), tensor(8), tensor(0), tensor(9), tensor(8), tensor(1), tensor(4), tensor(5), tensor(2), tensor(7), tensor(9), tensor(6), tensor(6), tensor(0), tensor(9), tensor(1), tensor(6), tensor(2), tensor(4), tensor(4), tensor(5), tensor(0), tensor(4), tensor(7), tensor(6), tensor(6), tensor(2), tensor(0), tensor(4), tensor(8), tensor(2), tensor(8), tensor(7), tensor(2), tensor(2), tensor(6), tensor(1), tensor(2), tensor(1), tensor(8), tensor(9), tensor(2), tensor(8), tensor(4), tensor(9), tensor(1), tensor(2), tensor(2), tensor(1), tensor(9), tensor(3), tensor(9), tensor(6), tensor(0), tensor(6), tensor(0), tensor(8), tensor(7), tensor(2), tensor(5), tensor(9), tensor(3), tensor(1), tensor(2), tensor(1), tensor(3), tensor(3), tensor(8), tensor(5), tensor(6), tensor(2), tensor(9), tensor(3), tensor(5), tensor(3), tensor(0), tensor(2), tensor(6), tensor(1), tensor(6), tensor(7), tensor(2), tensor(6), tensor(0), tensor(9), tensor(2), tensor(0), tensor(4), tensor(5), tensor(3), tensor(5), tensor(9), tensor(1), tensor(0), tensor(1), tensor(7), tensor(5), tensor(4), tensor(2), tensor(2), tensor(6), tensor(3), tensor(8), tensor(3), tensor(3), tensor(3), tensor(8), tensor(3), tensor(1), tensor(6), tensor(2), tensor(2), tensor(8), tensor(8), tensor(4), tensor(3), tensor(7), tensor(5), tensor(1), tensor(4), tensor(7), tensor(0), tensor(2), tensor(0), tensor(5), tensor(3), tensor(2), tensor(2), tensor(2), tensor(6), tensor(2), tensor(5), tensor(8), tensor(8), tensor(9), tensor(8), tensor(1), tensor(0), tensor(5), tensor(1), tensor(4), tensor(9), tensor(3), tensor(0), tensor(8), tensor(2), tensor(9), tensor(4), tensor(5), tensor(1), tensor(3), tensor(8), tensor(1), tensor(0), tensor(4), tensor(2), tensor(4), tensor(0), tensor(9), tensor(5), tensor(4), tensor(8), tensor(7), tensor(7), tensor(4), tensor(9), tensor(6), tensor(6), tensor(8), tensor(0), tensor(7), tensor(7), tensor(6), tensor(9), tensor(1), tensor(0), tensor(2), tensor(3), tensor(0), tensor(3), tensor(3), tensor(0), tensor(5), tensor(4), tensor(4), tensor(1), tensor(6), tensor(6), tensor(9), tensor(6), tensor(1), tensor(1), tensor(1), tensor(8), tensor(0), tensor(9), tensor(8), tensor(5), tensor(8), tensor(0), tensor(1), tensor(7), tensor(5), tensor(5), tensor(0), tensor(0), tensor(1), tensor(8), tensor(9), tensor(3), tensor(0), tensor(5), tensor(7), tensor(5), tensor(5), tensor(1), tensor(5), tensor(5), tensor(3), tensor(1), tensor(0), tensor(6), tensor(7), tensor(0), tensor(6), tensor(3), tensor(2), tensor(4), tensor(1), tensor(8), tensor(1), tensor(6), tensor(4), tensor(4), tensor(2), tensor(8), tensor(9), tensor(9), tensor(1), tensor(2), tensor(8), tensor(0), tensor(7), tensor(1), tensor(3), tensor(9), tensor(3), tensor(0), tensor(0), tensor(0), tensor(5), tensor(9), tensor(4), tensor(0), tensor(1), tensor(7), tensor(6), tensor(0), tensor(4), tensor(9), tensor(3), tensor(6), tensor(2), tensor(0), tensor(8), tensor(8), tensor(2), tensor(7), tensor(1), tensor(3), tensor(7), tensor(4), tensor(0), tensor(8), tensor(8), tensor(1), tensor(4), tensor(0), tensor(4), tensor(5), tensor(6), tensor(7), tensor(5), tensor(2), tensor(6), tensor(3), tensor(4), tensor(9), tensor(0), tensor(1), tensor(7), tensor(8), tensor(1), tensor(5), tensor(2), tensor(4), tensor(3), tensor(5), tensor(7), tensor(1), tensor(6), tensor(5), tensor(6), tensor(8), tensor(8), tensor(9), tensor(6), tensor(8), tensor(9), tensor(6), tensor(4), tensor(3), tensor(5), tensor(4), tensor(1), tensor(3), tensor(9), tensor(7), tensor(9), tensor(1), tensor(7), tensor(9), tensor(3), tensor(9), tensor(2), tensor(7), tensor(0), tensor(8), tensor(4), tensor(7), tensor(9), tensor(0), tensor(0), tensor(5), tensor(9), tensor(8), tensor(0), tensor(6), tensor(8), tensor(0), tensor(2), tensor(1), tensor(6), tensor(8), tensor(3), tensor(6), tensor(6), tensor(0), tensor(1), tensor(2), tensor(2), tensor(2), tensor(8), tensor(0), tensor(9), tensor(0), tensor(5), tensor(2), tensor(5), tensor(8), tensor(4), tensor(7), tensor(7), tensor(0), tensor(9), tensor(6), tensor(3), tensor(1), tensor(0), tensor(6), tensor(7), tensor(1), tensor(8), tensor(7), tensor(1), tensor(0), tensor(8), tensor(4), tensor(8), tensor(4), tensor(0), tensor(9), tensor(1), tensor(0), tensor(1), tensor(1), tensor(0), tensor(7), tensor(7), tensor(2), tensor(8), tensor(8), tensor(4), tensor(6), tensor(5), tensor(5), tensor(1), tensor(0), tensor(9), tensor(4), tensor(1), tensor(6), tensor(2), tensor(7), tensor(1), tensor(4), tensor(7), tensor(9), tensor(3), tensor(1), tensor(0), tensor(2), tensor(3), tensor(4), tensor(5), tensor(2), tensor(1), tensor(7), tensor(8), tensor(6), tensor(5), tensor(4), tensor(9), tensor(1), tensor(7), tensor(5), tensor(1), tensor(6), tensor(6), tensor(7), tensor(5), tensor(5), tensor(3), tensor(3), tensor(1), tensor(8), tensor(7), tensor(1), tensor(7), tensor(9), tensor(2), tensor(7), tensor(9), tensor(1), tensor(2), tensor(0), tensor(8), tensor(0), tensor(4), tensor(0), tensor(8), tensor(9), tensor(8), tensor(6), tensor(7), tensor(8), tensor(6), tensor(0), tensor(2), tensor(0), tensor(6), tensor(9), tensor(3), tensor(6), tensor(9), tensor(8), tensor(2), tensor(2), tensor(2), tensor(6), tensor(5), tensor(1), tensor(1), tensor(0), tensor(3), tensor(6), tensor(3), tensor(5), tensor(3), tensor(5), tensor(0), tensor(7), tensor(4), tensor(3), tensor(7), tensor(8), tensor(7), tensor(6), tensor(1), tensor(3), tensor(3), tensor(1), tensor(0), tensor(0), tensor(7), tensor(9), tensor(4), tensor(4), tensor(2), tensor(1), tensor(7), tensor(3), tensor(4), tensor(9), tensor(4), tensor(1), tensor(3), tensor(4), tensor(7), tensor(7), tensor(4), tensor(1), tensor(1), tensor(3), tensor(2), tensor(9), tensor(0), tensor(6), tensor(7), tensor(7), tensor(1), tensor(5), tensor(1), tensor(0), tensor(0), tensor(0), tensor(6), tensor(3), tensor(2), tensor(7), tensor(7), tensor(8), tensor(4), tensor(8), tensor(5), tensor(2), tensor(0), tensor(3), tensor(6), tensor(4), tensor(2), tensor(1), tensor(0), tensor(3), tensor(0), tensor(6), tensor(0), tensor(7), tensor(6), tensor(6), tensor(4), tensor(5), tensor(1), tensor(2), tensor(3), tensor(8), tensor(7), tensor(2), tensor(4), tensor(6), tensor(8), tensor(3), tensor(1), tensor(6), tensor(9), tensor(0), tensor(6), tensor(1), tensor(2), tensor(2), tensor(4), tensor(2), tensor(8), tensor(5), tensor(3), tensor(1), tensor(4), tensor(1), tensor(1), tensor(2), tensor(5), tensor(6), tensor(0), tensor(9), tensor(3), tensor(2), tensor(4), tensor(3), tensor(9), tensor(7), tensor(0), tensor(5), tensor(4), tensor(6), tensor(3), tensor(7), tensor(2), tensor(3), tensor(1), tensor(6), tensor(0), tensor(0), tensor(8), tensor(1), tensor(3), tensor(4), tensor(9), tensor(9), tensor(2), tensor(6), tensor(1), tensor(3), tensor(2), tensor(1), tensor(2), tensor(4), tensor(2), tensor(1), tensor(2), tensor(4), tensor(4), tensor(7), tensor(1), tensor(6), tensor(2), tensor(2), tensor(5), tensor(8), tensor(9), tensor(6), tensor(1), tensor(9), tensor(2), tensor(5), tensor(9), tensor(9), tensor(8), tensor(3), tensor(1), tensor(8), tensor(1), tensor(8), tensor(7), tensor(9), tensor(7), tensor(0), tensor(5), tensor(7), tensor(8), tensor(1), tensor(3), tensor(3), tensor(5), tensor(6), tensor(0), tensor(9), tensor(7), tensor(9), tensor(6), tensor(2), tensor(4), tensor(6), tensor(1), tensor(2), tensor(5), tensor(5), tensor(6), tensor(5), tensor(7), tensor(9), tensor(7), tensor(3), tensor(7), tensor(0), tensor(4), tensor(5), tensor(3), tensor(3), tensor(8), tensor(6), tensor(7), tensor(7), tensor(2), tensor(0), tensor(7), tensor(1), tensor(2), tensor(8), tensor(6), tensor(9), tensor(9), tensor(1), tensor(8), tensor(0), tensor(2), tensor(6), tensor(5), tensor(6), tensor(2), tensor(6), tensor(2), tensor(0), tensor(4), tensor(1), tensor(3), tensor(9), tensor(2), tensor(1), tensor(4), tensor(8), tensor(7), tensor(8), tensor(7), tensor(4), tensor(1), tensor(8), tensor(6), tensor(0), tensor(4), tensor(4), tensor(7), tensor(4), tensor(9), tensor(0), tensor(4), tensor(2), tensor(9), tensor(8), tensor(3), tensor(7), tensor(8), tensor(6), tensor(4), tensor(5), tensor(3), tensor(9), tensor(8), tensor(3), tensor(6), tensor(7), tensor(9), tensor(2), tensor(2), tensor(8), tensor(5), tensor(6), tensor(8), tensor(1), tensor(6), tensor(8), tensor(7), tensor(7), tensor(1), tensor(5), tensor(9), tensor(5), tensor(2), tensor(6), tensor(5), tensor(6), tensor(8), tensor(4), tensor(7), tensor(8), tensor(7), tensor(2), tensor(0), tensor(0), tensor(5), tensor(8), tensor(3), tensor(3), tensor(3), tensor(1), tensor(5), tensor(6), tensor(7), tensor(0), tensor(4), tensor(4), tensor(8), tensor(3), tensor(7), tensor(6), tensor(0), tensor(8), tensor(4), tensor(4), tensor(8), tensor(7), tensor(5), tensor(1), tensor(0), tensor(5), tensor(1), tensor(5), tensor(3), tensor(7), tensor(7), tensor(6), tensor(6), tensor(6), tensor(9), tensor(0), tensor(7), tensor(6), tensor(6), tensor(8), tensor(3), tensor(6), tensor(8), tensor(9), tensor(7), tensor(9), tensor(5), tensor(9), tensor(3), tensor(1), tensor(1), tensor(9), tensor(9), tensor(8), tensor(7), tensor(1), tensor(1), tensor(2), tensor(3), tensor(8), tensor(1), tensor(2), tensor(2), tensor(0), tensor(0), tensor(5), tensor(2), tensor(3), tensor(6), tensor(5), tensor(5), tensor(9), tensor(6), tensor(5), tensor(7), tensor(1), tensor(5), tensor(1), tensor(1), tensor(9), tensor(9), tensor(2), tensor(4), tensor(1), tensor(1), tensor(9), tensor(8), tensor(8), tensor(3), tensor(3), tensor(9), tensor(1), tensor(3), tensor(1), tensor(6), tensor(3), tensor(3), tensor(9), tensor(9), tensor(0), tensor(0), tensor(8), tensor(4), tensor(0), tensor(7), tensor(9), tensor(3), tensor(4), tensor(7), tensor(1), tensor(0), tensor(5), tensor(5), tensor(1), tensor(0), tensor(7), tensor(8), tensor(1), tensor(4), tensor(0), tensor(8), tensor(8), tensor(5), tensor(3), tensor(1), tensor(0), tensor(9), tensor(5), tensor(1), tensor(2), tensor(0), tensor(1), tensor(3), tensor(0), tensor(6), tensor(8), tensor(7), tensor(2), tensor(2), tensor(0), tensor(2), tensor(4), tensor(7), tensor(8), tensor(7), tensor(1), tensor(0), tensor(8), tensor(7), tensor(7), tensor(2), tensor(4), tensor(2), tensor(0), tensor(3), tensor(7), tensor(7), tensor(1), tensor(4), tensor(1), tensor(5), tensor(0), tensor(7), tensor(5), tensor(3), tensor(0), tensor(2), tensor(6), tensor(0), tensor(1), tensor(6), tensor(3), tensor(2), tensor(6), tensor(2), tensor(6), tensor(8), tensor(8), tensor(5), tensor(6), tensor(9), tensor(4), tensor(2), tensor(4), tensor(8), tensor(0), tensor(1), tensor(1), tensor(4), tensor(9), tensor(2), tensor(9), tensor(2), tensor(9), tensor(2), tensor(2), tensor(6), tensor(5), tensor(1), tensor(1), tensor(1), tensor(3), tensor(4), tensor(2), tensor(9), tensor(0), tensor(0), tensor(4), tensor(7), tensor(2), tensor(6), tensor(1), tensor(0), tensor(6), tensor(6), tensor(4), tensor(5), tensor(5), tensor(9), tensor(1), tensor(7), tensor(1), tensor(2), tensor(3), tensor(6), tensor(9), tensor(5), tensor(1), tensor(5), tensor(9), tensor(5), tensor(3), tensor(6), tensor(1), tensor(6), tensor(2), tensor(9), tensor(5), tensor(0), tensor(5), tensor(7), tensor(4), tensor(6), tensor(2), tensor(7), tensor(4), tensor(6), tensor(5), tensor(8), tensor(5), tensor(5), tensor(5), tensor(9), tensor(7), tensor(6), tensor(2), tensor(0), tensor(7), tensor(0), tensor(7), tensor(5), tensor(4), tensor(8), tensor(8), tensor(0), tensor(4), tensor(4), tensor(3), tensor(1), tensor(9), tensor(8), tensor(8), tensor(2), tensor(4), tensor(2), tensor(5), tensor(8), tensor(9), tensor(2), tensor(9), tensor(5), tensor(8), tensor(8), tensor(1), tensor(8), tensor(5), tensor(1), tensor(3), tensor(5), tensor(6), tensor(1), tensor(2), tensor(2), tensor(7), tensor(3), tensor(9), tensor(2), tensor(0), tensor(0), tensor(7), tensor(6), tensor(0), tensor(4), tensor(7), tensor(0), tensor(6), tensor(9), tensor(6), tensor(9), tensor(1), tensor(5), tensor(9), tensor(0), tensor(9), tensor(1), tensor(3), tensor(7), tensor(5), tensor(9), tensor(8), tensor(9), tensor(9), tensor(5), tensor(7), tensor(0), tensor(4), tensor(4), tensor(1), tensor(0), tensor(0), tensor(8), tensor(3), tensor(0), tensor(8), tensor(7), tensor(3), tensor(4), tensor(8), tensor(6), tensor(2), tensor(9), tensor(3), tensor(0), tensor(4), tensor(6), tensor(4), tensor(8), tensor(6), tensor(6), tensor(6), tensor(5), tensor(7), tensor(3), tensor(2), tensor(2), tensor(4), tensor(9), tensor(1), tensor(6), tensor(9), tensor(7), tensor(3), tensor(9), tensor(7), tensor(6), tensor(2), tensor(1), tensor(4), tensor(2), tensor(8), tensor(4), tensor(6), tensor(5), tensor(4), tensor(9), tensor(9), tensor(3), tensor(2), tensor(3), tensor(1), tensor(6), tensor(0), tensor(3), tensor(2), tensor(0), tensor(5), tensor(7), tensor(0), tensor(8), tensor(3), tensor(0), tensor(9), tensor(2), tensor(1), tensor(4), tensor(2), tensor(9), tensor(4), tensor(0), tensor(1), tensor(4), tensor(7), tensor(0), tensor(5), tensor(1), tensor(8), tensor(6), tensor(0), tensor(3), tensor(5), tensor(3), tensor(3), tensor(3), tensor(0), tensor(7), tensor(0), tensor(8), tensor(0), tensor(1), tensor(7), tensor(4), tensor(3), tensor(3), tensor(9), tensor(1), tensor(7), tensor(7), tensor(1), tensor(4), tensor(4), tensor(4), tensor(4), tensor(0), tensor(1), tensor(2), tensor(3), tensor(2), tensor(7), tensor(1), tensor(4), tensor(1), tensor(6), tensor(1), tensor(3), tensor(6), tensor(9), tensor(2), tensor(8), tensor(4), tensor(3), tensor(2), tensor(5), tensor(2), tensor(2), tensor(7), tensor(0), tensor(4), tensor(2), tensor(1), tensor(0), tensor(2), tensor(4), tensor(1), tensor(5), tensor(8), tensor(5), tensor(3), tensor(7), tensor(2), tensor(0), tensor(5), tensor(0), tensor(0), tensor(4), tensor(5), tensor(7), tensor(8), tensor(7), tensor(7), tensor(0), tensor(3), tensor(2), tensor(4), tensor(1), tensor(2), tensor(2), tensor(4), tensor(3), tensor(1), tensor(3), tensor(2), tensor(6), tensor(6), tensor(6), tensor(7), tensor(1), tensor(2), tensor(2), tensor(9), tensor(6), tensor(1), tensor(6), tensor(1), tensor(0), tensor(5), tensor(4), tensor(9), tensor(6), tensor(3), tensor(3), tensor(2), tensor(2), tensor(2), tensor(5), tensor(6), tensor(8), tensor(4), tensor(4), tensor(5), tensor(8), tensor(9), tensor(3), tensor(2), tensor(6), tensor(8), tensor(7), tensor(4), tensor(8), tensor(8), tensor(3), tensor(2), tensor(7), tensor(1), tensor(7), tensor(1), tensor(0), tensor(1), tensor(2), tensor(5), tensor(8), tensor(3), tensor(7), tensor(9), tensor(7), tensor(6), tensor(5), tensor(8), tensor(3), tensor(1), tensor(1), tensor(6), tensor(4), tensor(9), tensor(4), tensor(5), tensor(5), tensor(4), tensor(5), tensor(7), tensor(6), tensor(3), tensor(3), tensor(6), tensor(0), tensor(9), tensor(2), tensor(9), tensor(2), tensor(2), tensor(4), tensor(7), tensor(4), tensor(3), tensor(4), tensor(5), tensor(0), tensor(4), tensor(1), tensor(4), tensor(5), tensor(3), tensor(4), tensor(0), tensor(2), tensor(4), tensor(3), tensor(2), tensor(5), tensor(3), tensor(1), tensor(0), tensor(0), tensor(1), tensor(9), tensor(6), tensor(5), tensor(7), tensor(1), tensor(3), tensor(1), tensor(4), tensor(4), tensor(9), tensor(4), tensor(5), tensor(8), tensor(1), tensor(9), tensor(1), tensor(4), tensor(9), tensor(1), tensor(3), tensor(5), tensor(9), tensor(1), tensor(1), tensor(6), tensor(7), tensor(3), tensor(1), tensor(2), tensor(6), tensor(9), tensor(9), tensor(0), tensor(8), tensor(1), tensor(3), tensor(8), tensor(4), tensor(7), tensor(3), tensor(0), tensor(3), tensor(2), tensor(1), tensor(1), tensor(7), tensor(0), tensor(1), tensor(1), tensor(6), tensor(5), tensor(4), tensor(5), tensor(9), tensor(3), tensor(6), tensor(3), tensor(1), tensor(1), tensor(6), tensor(7), tensor(7), tensor(4), tensor(5), tensor(4), tensor(4), tensor(7), tensor(3), tensor(3), tensor(1), tensor(8), tensor(0), tensor(2), tensor(6), tensor(3), tensor(4), tensor(8), tensor(9), tensor(6), tensor(7), tensor(0), tensor(5), tensor(7), tensor(6), tensor(8), tensor(0), tensor(1), tensor(1), tensor(7), tensor(5), tensor(6), tensor(3), tensor(4), tensor(8), tensor(6), tensor(7), tensor(4), tensor(2), tensor(6), tensor(5), tensor(1), tensor(7), tensor(1), tensor(9), tensor(4), tensor(5), tensor(8), tensor(0), tensor(4), tensor(9), tensor(4), tensor(9), tensor(6), tensor(0), tensor(3), tensor(0), tensor(3), tensor(0), tensor(4), tensor(7), tensor(5), tensor(0), tensor(4), tensor(0), tensor(3), tensor(1), tensor(7), tensor(5), tensor(2), tensor(3), tensor(0), tensor(6), tensor(1), tensor(7), tensor(5), tensor(5), tensor(1), tensor(8), tensor(6), tensor(0), tensor(5), tensor(7), tensor(2), tensor(5), tensor(5), tensor(4), tensor(8), tensor(2), tensor(3), tensor(7), tensor(5), tensor(7), tensor(6), tensor(5), tensor(0), tensor(3), tensor(2), tensor(5), tensor(9), tensor(9), tensor(1), tensor(8), tensor(6), tensor(3), tensor(4), tensor(4), tensor(3), tensor(4), tensor(9), tensor(4), tensor(7), tensor(4), tensor(3), tensor(3), tensor(3), tensor(1), tensor(9), tensor(5), tensor(0), tensor(9), tensor(4), tensor(3), tensor(6), tensor(0), tensor(7), tensor(6), tensor(8), tensor(7), tensor(4), tensor(2)]\n",
            "[tensor(8), tensor(1), tensor(5), tensor(9), tensor(9), tensor(7), tensor(8), tensor(2), tensor(8), tensor(5), tensor(7), tensor(0), tensor(1), tensor(4), tensor(7), tensor(9), tensor(9), tensor(5), tensor(3), tensor(5), tensor(7), tensor(4), tensor(4), tensor(0), tensor(7), tensor(0), tensor(7), tensor(1), tensor(0), tensor(1), tensor(1), tensor(6), tensor(5), tensor(6), tensor(2), tensor(6), tensor(0), tensor(8), tensor(9), tensor(4), tensor(7), tensor(6), tensor(5), tensor(7), tensor(9), tensor(4), tensor(9), tensor(2), tensor(2), tensor(8), tensor(5), tensor(2), tensor(6), tensor(0), tensor(9), tensor(4), tensor(1), tensor(9), tensor(2), tensor(9), tensor(7), tensor(3), tensor(8), tensor(7), tensor(2), tensor(8), tensor(0), tensor(5), tensor(8), tensor(4), tensor(2), tensor(3), tensor(6), tensor(4), tensor(3), tensor(5), tensor(7), tensor(6), tensor(6), tensor(8), tensor(5), tensor(0), tensor(9), tensor(6), tensor(6), tensor(2), tensor(7), tensor(0), tensor(0), tensor(1), tensor(5), tensor(9), tensor(1), tensor(9), tensor(1), tensor(2), tensor(9), tensor(1), tensor(7), tensor(3), tensor(8), tensor(5), tensor(6), tensor(1), tensor(6), tensor(1), tensor(3), tensor(2), tensor(5), tensor(2), tensor(3), tensor(2), tensor(8), tensor(2), tensor(1), tensor(2), tensor(0), tensor(0), tensor(1), tensor(8), tensor(1), tensor(0), tensor(2), tensor(9), tensor(7), tensor(8), tensor(2), tensor(4), tensor(1), tensor(5), tensor(0), tensor(6), tensor(0), tensor(5), tensor(7), tensor(3), tensor(0), tensor(7), tensor(0), tensor(0), tensor(5), tensor(6), tensor(9), tensor(1), tensor(8), tensor(4), tensor(2), tensor(5), tensor(0), tensor(4), tensor(9), tensor(3), tensor(6), tensor(3), tensor(5), tensor(6), tensor(0), tensor(0), tensor(0), tensor(4), tensor(8), tensor(3), tensor(7), tensor(8), tensor(3), tensor(0), tensor(6), tensor(8), tensor(2), tensor(8), tensor(5), tensor(5), tensor(1), tensor(9), tensor(9), tensor(9), tensor(7), tensor(6), tensor(9), tensor(9), tensor(5), tensor(2), tensor(9), tensor(4), tensor(5), tensor(1), tensor(1), tensor(2), tensor(8), tensor(4), tensor(6), tensor(9), tensor(1), tensor(3), tensor(4), tensor(3), tensor(0), tensor(6), tensor(1), tensor(0), tensor(7), tensor(8), tensor(2), tensor(1), tensor(4), tensor(7), tensor(4), tensor(9), tensor(8), tensor(2), tensor(3), tensor(9), tensor(8), tensor(7), tensor(4), tensor(3), tensor(8), tensor(6), tensor(2), tensor(1), tensor(2), tensor(0), tensor(1), tensor(2), tensor(1), tensor(9), tensor(3), tensor(6), tensor(1), tensor(9), tensor(7), tensor(3), tensor(0), tensor(8), tensor(5), tensor(0), tensor(8), tensor(4), tensor(9), tensor(5), tensor(7), tensor(5), tensor(7), tensor(2), tensor(9), tensor(4), tensor(6), tensor(6), tensor(9), tensor(6), tensor(0), tensor(9), tensor(9), tensor(8), tensor(7), tensor(2), tensor(3), tensor(5), tensor(7), tensor(7), tensor(4), tensor(1), tensor(6), tensor(3), tensor(3), tensor(9), tensor(9), tensor(7), tensor(1), tensor(3), tensor(6), tensor(2), tensor(9), tensor(1), tensor(0), tensor(8), tensor(9), tensor(1), tensor(0), tensor(6), tensor(9), tensor(0), tensor(7), tensor(7), tensor(6), tensor(1), tensor(7), tensor(0), tensor(8), tensor(7), tensor(7), tensor(2), tensor(4), tensor(7), tensor(4), tensor(8), tensor(7), tensor(3), tensor(0), tensor(0), tensor(3), tensor(8), tensor(1), tensor(6), tensor(1), tensor(3), tensor(6), tensor(5), tensor(3), tensor(4), tensor(8), tensor(5), tensor(1), tensor(6), tensor(3), tensor(9), tensor(7), tensor(0), tensor(3), tensor(4), tensor(1), tensor(4), tensor(8), tensor(7), tensor(7), tensor(1), tensor(1), tensor(3), tensor(3), tensor(2), tensor(6), tensor(2), tensor(5), tensor(5), tensor(6), tensor(3), tensor(6), tensor(6), tensor(9), tensor(7), tensor(6), tensor(7), tensor(9), tensor(6), tensor(6), tensor(8), tensor(7), tensor(3), tensor(3), tensor(4), tensor(9), tensor(8), tensor(7), tensor(7), tensor(8), tensor(4), tensor(4), tensor(4), tensor(3), tensor(0), tensor(6), tensor(3), tensor(1), tensor(5), tensor(0), tensor(0), tensor(2), tensor(2), tensor(8), tensor(3), tensor(3), tensor(4), tensor(0), tensor(2), tensor(6), tensor(9), tensor(9), tensor(8), tensor(4), tensor(6), tensor(8), tensor(6), tensor(4), tensor(0), tensor(3), tensor(7), tensor(9), tensor(9), tensor(5), tensor(3), tensor(7), tensor(9), tensor(1), tensor(8), tensor(0), tensor(4), tensor(9), tensor(9), tensor(3), tensor(6), tensor(6), tensor(3), tensor(1), tensor(1), tensor(8), tensor(9), tensor(8), tensor(5), tensor(6), tensor(9), tensor(0), tensor(6), tensor(0), tensor(3), tensor(2), tensor(5), tensor(7), tensor(9), tensor(4), tensor(2), tensor(9), tensor(5), tensor(0), tensor(8), tensor(0), tensor(6), tensor(2), tensor(1), tensor(4), tensor(1), tensor(5), tensor(9), tensor(6), tensor(2), tensor(9), tensor(7), tensor(0), tensor(9), tensor(6), tensor(9), tensor(0), tensor(2), tensor(6), tensor(3), tensor(7), tensor(7), tensor(7), tensor(4), tensor(3), tensor(3), tensor(6), tensor(9), tensor(5), tensor(5), tensor(4), tensor(8), tensor(6), tensor(7), tensor(9), tensor(1), tensor(3), tensor(4), tensor(2), tensor(1), tensor(3), tensor(3), tensor(2), tensor(1), tensor(2), tensor(9), tensor(6), tensor(7), tensor(1), tensor(2), tensor(8), tensor(8), tensor(9), tensor(4), tensor(9), tensor(2), tensor(5), tensor(6), tensor(2), tensor(8), tensor(0), tensor(8), tensor(0), tensor(6), tensor(8), tensor(4), tensor(6), tensor(7), tensor(9), tensor(0), tensor(8), tensor(0), tensor(4), tensor(7), tensor(2), tensor(8), tensor(6), tensor(6), tensor(2), tensor(0), tensor(1), tensor(5), tensor(5), tensor(2), tensor(5), tensor(0), tensor(7), tensor(4), tensor(4), tensor(4), tensor(9), tensor(2), tensor(7), tensor(8), tensor(7), tensor(0), tensor(3), tensor(9), tensor(7), tensor(2), tensor(9), tensor(0), tensor(1), tensor(9), tensor(2), tensor(7), tensor(9), tensor(0), tensor(5), tensor(0), tensor(7), tensor(5), tensor(2), tensor(8), tensor(7), tensor(0), tensor(3), tensor(6), tensor(2), tensor(7), tensor(5), tensor(5), tensor(3), tensor(7), tensor(9), tensor(7), tensor(3), tensor(0), tensor(9), tensor(4), tensor(8), tensor(1), tensor(9), tensor(8), tensor(0), tensor(3), tensor(4), tensor(1), tensor(2), tensor(9), tensor(0), tensor(0), tensor(7), tensor(3), tensor(0), tensor(5), tensor(8), tensor(4), tensor(3), tensor(2), tensor(2), tensor(4), tensor(4), tensor(9), tensor(1), tensor(6), tensor(2), tensor(8), tensor(5), tensor(3), tensor(0), tensor(7), tensor(6), tensor(2), tensor(4), tensor(5), tensor(5), tensor(3), tensor(5), tensor(8), tensor(3), tensor(0), tensor(2), tensor(1), tensor(8), tensor(2), tensor(3), tensor(7), tensor(0), tensor(7), tensor(0), tensor(8), tensor(7), tensor(1), tensor(8), tensor(5), tensor(1), tensor(3), tensor(8), tensor(9), tensor(6), tensor(4), tensor(9), tensor(8), tensor(7), tensor(9), tensor(5), tensor(7), tensor(1), tensor(9), tensor(9), tensor(5), tensor(9), tensor(9), tensor(3), tensor(4), tensor(2), tensor(2), tensor(5), tensor(8), tensor(6), tensor(5), tensor(4), tensor(5), tensor(4), tensor(3), tensor(8), tensor(8), tensor(5), tensor(4), tensor(2), tensor(3), tensor(2), tensor(0), tensor(3), tensor(7), tensor(6), tensor(3), tensor(7), tensor(3), tensor(7), tensor(7), tensor(1), tensor(8), tensor(8), tensor(9), tensor(2), tensor(9), tensor(9), tensor(3), tensor(8), tensor(7), tensor(1), tensor(3), tensor(1), tensor(8), tensor(7), tensor(9), tensor(0), tensor(0), tensor(1), tensor(7), tensor(5), tensor(0), tensor(7), tensor(5), tensor(8), tensor(3), tensor(6), tensor(6), tensor(9), tensor(2), tensor(0), tensor(4), tensor(9), tensor(2), tensor(4), tensor(3), tensor(2), tensor(5), tensor(9), tensor(9), tensor(8), tensor(7), tensor(5), tensor(1), tensor(8), tensor(2), tensor(8), tensor(3), tensor(1), tensor(3), tensor(2), tensor(1), tensor(7), tensor(9), tensor(4), tensor(1), tensor(4), tensor(1), tensor(9), tensor(7), tensor(5), tensor(9), tensor(2), tensor(8), tensor(4), tensor(0), tensor(2), tensor(0), tensor(8), tensor(0), tensor(2), tensor(4), tensor(3), tensor(0), tensor(7), tensor(2), tensor(9), tensor(0), tensor(5), tensor(7), tensor(3), tensor(7), tensor(1), tensor(1), tensor(1), tensor(5), tensor(1), tensor(3), tensor(1), tensor(7), tensor(0), tensor(9), tensor(7), tensor(7), tensor(9), tensor(1), tensor(3), tensor(4), tensor(9), tensor(2), tensor(1), tensor(0), tensor(8), tensor(2), tensor(3), tensor(9), tensor(7), tensor(1), tensor(2), tensor(4), tensor(3), tensor(6), tensor(7), tensor(6), tensor(8), tensor(1), tensor(5), tensor(9), tensor(4), tensor(7), tensor(2), tensor(8), tensor(9), tensor(8), tensor(8), tensor(2), tensor(5), tensor(3), tensor(0), tensor(3), tensor(9), tensor(9), tensor(5), tensor(4), tensor(5), tensor(7), tensor(6), tensor(5), tensor(6), tensor(0), tensor(3), tensor(8), tensor(2), tensor(6), tensor(2), tensor(6), tensor(7), tensor(5), tensor(8), tensor(0), tensor(8), tensor(4), tensor(0), tensor(1), tensor(1), tensor(5), tensor(3), tensor(4), tensor(6), tensor(6), tensor(6), tensor(9), tensor(6), tensor(9), tensor(3), tensor(4), tensor(2), tensor(3), tensor(6), tensor(9), tensor(7), tensor(7), tensor(0), tensor(9), tensor(9), tensor(5), tensor(0), tensor(6), tensor(8), tensor(1), tensor(0), tensor(5), tensor(8), tensor(3), tensor(4), tensor(7), tensor(2), tensor(5), tensor(4), tensor(1), tensor(7), tensor(9), tensor(8), tensor(9), tensor(3), tensor(9), tensor(4), tensor(5), tensor(7), tensor(6), tensor(0), tensor(9), tensor(3), tensor(5), tensor(8), tensor(1), tensor(9), tensor(1), tensor(1), tensor(6), tensor(7), tensor(6), tensor(9), tensor(6), tensor(9), tensor(7), tensor(5), tensor(1), tensor(5), tensor(8), tensor(3), tensor(9), tensor(0), tensor(7), tensor(1), tensor(0), tensor(9), tensor(3), tensor(1), tensor(8), tensor(4), tensor(7), tensor(7), tensor(9), tensor(9), tensor(0), tensor(9), tensor(8), tensor(8), tensor(5), tensor(1), tensor(0), tensor(5), tensor(0), tensor(7), tensor(4), tensor(7), tensor(1), tensor(9), tensor(8), tensor(7), tensor(1), tensor(2), tensor(4), tensor(4), tensor(0), tensor(9), tensor(4), tensor(2), tensor(3), tensor(1), tensor(3), tensor(4), tensor(4), tensor(8), tensor(0), tensor(6), tensor(4), tensor(3), tensor(5), tensor(3), tensor(2), tensor(7), tensor(6), tensor(2), tensor(7), tensor(7), tensor(4), tensor(8), tensor(0), tensor(1), tensor(3), tensor(0), tensor(9), tensor(3), tensor(8), tensor(5), tensor(4), tensor(2), tensor(8), tensor(1), tensor(1), tensor(2), tensor(5), tensor(7), tensor(2), tensor(2), tensor(1), tensor(9), tensor(6), tensor(1), tensor(5), tensor(3), tensor(3), tensor(5), tensor(8), tensor(1), tensor(8), tensor(6), tensor(5), tensor(9), tensor(3), tensor(6), tensor(1), tensor(9), tensor(5), tensor(4), tensor(5), tensor(7), tensor(3), tensor(4), tensor(6), tensor(5), tensor(5), tensor(4), tensor(4), tensor(6), tensor(2), tensor(6), tensor(4), tensor(0), tensor(1), tensor(6), tensor(3), tensor(9), tensor(7), tensor(5), tensor(3), tensor(1), tensor(4), tensor(6), tensor(3), tensor(9), tensor(0), tensor(0), tensor(0), tensor(0), tensor(6), tensor(7), tensor(5), tensor(6), tensor(9), tensor(2), tensor(4), tensor(4), tensor(3), tensor(4), tensor(0), tensor(1), tensor(8), tensor(1), tensor(1), tensor(1), tensor(2), tensor(9), tensor(3), tensor(0), tensor(2), tensor(3), tensor(5), tensor(4), tensor(3), tensor(7), tensor(2), tensor(9), tensor(3), tensor(9), tensor(5), tensor(5), tensor(4), tensor(3), tensor(1), tensor(1), tensor(8), tensor(2), tensor(4), tensor(0), tensor(8), tensor(2), tensor(6), tensor(2), tensor(5), tensor(9), tensor(8), tensor(2), tensor(5), tensor(4), tensor(2), tensor(4), tensor(4), tensor(7), tensor(0), tensor(4), tensor(6), tensor(5), tensor(5), tensor(8), tensor(3), tensor(1), tensor(6), tensor(6), tensor(1), tensor(2), tensor(2), tensor(7), tensor(0), tensor(0), tensor(0), tensor(7), tensor(6), tensor(7), tensor(4), tensor(8), tensor(1), tensor(0), tensor(1), tensor(2), tensor(4), tensor(9), tensor(5), tensor(2), tensor(1), tensor(9), tensor(3), tensor(2), tensor(0), tensor(7), tensor(5), tensor(4), tensor(3), tensor(3), tensor(3), tensor(1), tensor(5), tensor(1), tensor(4), tensor(8), tensor(9), tensor(4), tensor(4), tensor(3), tensor(7), tensor(2), tensor(5), tensor(8), tensor(9), tensor(1), tensor(5), tensor(6), tensor(4), tensor(6), tensor(3), tensor(5), tensor(6), tensor(0), tensor(0), tensor(5), tensor(7), tensor(1), tensor(9), tensor(2), tensor(1), tensor(1), tensor(8), tensor(7), tensor(2), tensor(7), tensor(9), tensor(5), tensor(4), tensor(2), tensor(7), tensor(2), tensor(2), tensor(2), tensor(0), tensor(8), tensor(4), tensor(9), tensor(5), tensor(3), tensor(2), tensor(9), tensor(7), tensor(8), tensor(3), tensor(2), tensor(7), tensor(4), tensor(0), tensor(8), tensor(4), tensor(0), tensor(1), tensor(5), tensor(3), tensor(2), tensor(2), tensor(0), tensor(1), tensor(4), tensor(6), tensor(9), tensor(3), tensor(3), tensor(1), tensor(2), tensor(1), tensor(0), tensor(2), tensor(7), tensor(8), tensor(4), tensor(2), tensor(2), tensor(4), tensor(4), tensor(2), tensor(4), tensor(7), tensor(2), tensor(7), tensor(2), tensor(5), tensor(6), tensor(1), tensor(2), tensor(2), tensor(3), tensor(3), tensor(8), tensor(5), tensor(5), tensor(1), tensor(9), tensor(9), tensor(3), tensor(2), tensor(7), tensor(2), tensor(9), tensor(1), tensor(9), tensor(6), tensor(9), tensor(5), tensor(5), tensor(6), tensor(8), tensor(6), tensor(4), tensor(4), tensor(0), tensor(5), tensor(4), tensor(8), tensor(7), tensor(2), tensor(4), tensor(5), tensor(4), tensor(7), tensor(4), tensor(9), tensor(1), tensor(2), tensor(8), tensor(5), tensor(5), tensor(5), tensor(5), tensor(7), tensor(0), tensor(2), tensor(1), tensor(9), tensor(4), tensor(8), tensor(7), tensor(7), tensor(6), tensor(2), tensor(5), tensor(0), tensor(1), tensor(4), tensor(2), tensor(0), tensor(8), tensor(1), tensor(5), tensor(5), tensor(6), tensor(6), tensor(9), tensor(1), tensor(3), tensor(2), tensor(8), tensor(0), tensor(0), tensor(4), tensor(2), tensor(8), tensor(6), tensor(2), tensor(2), tensor(3), tensor(4), tensor(6), tensor(9), tensor(9), tensor(3), tensor(0), tensor(7), tensor(0), tensor(0), tensor(8), tensor(5), tensor(8), tensor(3), tensor(9), tensor(6), tensor(7), tensor(9), tensor(0), tensor(1), tensor(6), tensor(5), tensor(9), tensor(0), tensor(6), tensor(7), tensor(2), tensor(8), tensor(6), tensor(0), tensor(8), tensor(0), tensor(8), tensor(7), tensor(7), tensor(3), tensor(8), tensor(3), tensor(2), tensor(7), tensor(7), tensor(4), tensor(2), tensor(1), tensor(2), tensor(6), tensor(8), tensor(0), tensor(2), tensor(2), tensor(1), tensor(5), tensor(4), tensor(6), tensor(0), tensor(9), tensor(2), tensor(1), tensor(1), tensor(6), tensor(7), tensor(2), tensor(3), tensor(7), tensor(0), tensor(4), tensor(9), tensor(8), tensor(4), tensor(4), tensor(5), tensor(4), tensor(9), tensor(4), tensor(4), tensor(2), tensor(2), tensor(8), tensor(5), tensor(9), tensor(7), tensor(1), tensor(1), tensor(4), tensor(3), tensor(9), tensor(5), tensor(1), tensor(5), tensor(3), tensor(8), tensor(4), tensor(0), tensor(6), tensor(7), tensor(9), tensor(5), tensor(7), tensor(4), tensor(2), tensor(6), tensor(2), tensor(6), tensor(1), tensor(4), tensor(6), tensor(2), tensor(0), tensor(1), tensor(0), tensor(3), tensor(4), tensor(9), tensor(2), tensor(3), tensor(5), tensor(6), tensor(3), tensor(6), tensor(2), tensor(7), tensor(2), tensor(3), tensor(0), tensor(2), tensor(3), tensor(9), tensor(8), tensor(2), tensor(3), tensor(4), tensor(5), tensor(4), tensor(7), tensor(7), tensor(1), tensor(5), tensor(5), tensor(2), tensor(8), tensor(5), tensor(8), tensor(5), tensor(0), tensor(9), tensor(0), tensor(5), tensor(1), tensor(9), tensor(0), tensor(2), tensor(3), tensor(6), tensor(7), tensor(7), tensor(3), tensor(7), tensor(1), tensor(5), tensor(5), tensor(4), tensor(7), tensor(4), tensor(5), tensor(0), tensor(0), tensor(3), tensor(3), tensor(0), tensor(9), tensor(0), tensor(2), tensor(2), tensor(7), tensor(0), tensor(3), tensor(4), tensor(3), tensor(8), tensor(9), tensor(0), tensor(2), tensor(2), tensor(7), tensor(7), tensor(0), tensor(0), tensor(0), tensor(8), tensor(0), tensor(2), tensor(1), tensor(6), tensor(5), tensor(4), tensor(7), tensor(3), tensor(4), tensor(2), tensor(6), tensor(1), tensor(5), tensor(7), tensor(2), tensor(4), tensor(1), tensor(8), tensor(8), tensor(1), tensor(3), tensor(5), tensor(9), tensor(1), tensor(7), tensor(4), tensor(0), tensor(8), tensor(5), tensor(4), tensor(3), tensor(5), tensor(6), tensor(5), tensor(5), tensor(2), tensor(1), tensor(9), tensor(8), tensor(4), tensor(4), tensor(8), tensor(4), tensor(4), tensor(8), tensor(3), tensor(2), tensor(8), tensor(9), tensor(4), tensor(1), tensor(4), tensor(0), tensor(9), tensor(6), tensor(6), tensor(4), tensor(2), tensor(0), tensor(1), tensor(3), tensor(9), tensor(3), tensor(7), tensor(7), tensor(9), tensor(4), tensor(2), tensor(1), tensor(7), tensor(4), tensor(7), tensor(6), tensor(3), tensor(1), tensor(9), tensor(1), tensor(6), tensor(1), tensor(0), tensor(7), tensor(1), tensor(0), tensor(2), tensor(2), tensor(0), tensor(3), tensor(0), tensor(8), tensor(9), tensor(9), tensor(7), tensor(0), tensor(2), tensor(9), tensor(1), tensor(6), tensor(4), tensor(9), tensor(1), tensor(7), tensor(8), tensor(0), tensor(4), tensor(5), tensor(1), tensor(8), tensor(1), tensor(3), tensor(9), tensor(2), tensor(6), tensor(1), tensor(1), tensor(5), tensor(0), tensor(4), tensor(5), tensor(1), tensor(4), tensor(3), tensor(1), tensor(3), tensor(7), tensor(0), tensor(1), tensor(3), tensor(1), tensor(1), tensor(8), tensor(0), tensor(0), tensor(4), tensor(2), tensor(0), tensor(0), tensor(9), tensor(2), tensor(5), tensor(1), tensor(2), tensor(5), tensor(3), tensor(2), tensor(2), tensor(5), tensor(0), tensor(0), tensor(6), tensor(4), tensor(7), tensor(2), tensor(7), tensor(8), tensor(5), tensor(6), tensor(8), tensor(3), tensor(8), tensor(7), tensor(2), tensor(3), tensor(9), tensor(1), tensor(0), tensor(7), tensor(9), tensor(5), tensor(4), tensor(0), tensor(3), tensor(5), tensor(3), tensor(8), tensor(9), tensor(1), tensor(4), tensor(0), tensor(4), tensor(8), tensor(9), tensor(5), tensor(9), tensor(6), tensor(9), tensor(3), tensor(6), tensor(8), tensor(6), tensor(4), tensor(4), tensor(4), tensor(5), tensor(0), tensor(2), tensor(3), tensor(7), tensor(6), tensor(6), tensor(6), tensor(6), tensor(7), tensor(4), tensor(9), tensor(9), tensor(4), tensor(0), tensor(2), tensor(6), tensor(2), tensor(7), tensor(9), tensor(4), tensor(1), tensor(7), tensor(5), tensor(1), tensor(2), tensor(7), tensor(9), tensor(8), tensor(8), tensor(9), tensor(4), tensor(1), tensor(5), tensor(6), tensor(7), tensor(1), tensor(4), tensor(4), tensor(7), tensor(1), tensor(1), tensor(6), tensor(9), tensor(7), tensor(7), tensor(3), tensor(1), tensor(1), tensor(1), tensor(7), tensor(5), tensor(2), tensor(2), tensor(7), tensor(7), tensor(7), tensor(6), tensor(8), tensor(2), tensor(0), tensor(7), tensor(4), tensor(7), tensor(0), tensor(8), tensor(3), tensor(0), tensor(6), tensor(8), tensor(6), tensor(4), tensor(3), tensor(9), tensor(6), tensor(8), tensor(8), tensor(6), tensor(5), tensor(1), tensor(1), tensor(1), tensor(8), tensor(1), tensor(9), tensor(5), tensor(1), tensor(3), tensor(6), tensor(7), tensor(2), tensor(7), tensor(4), tensor(8), tensor(2), tensor(9), tensor(8), tensor(1), tensor(4), tensor(5), tensor(4), tensor(8), tensor(1), tensor(3), tensor(3), tensor(0), tensor(8), tensor(8), tensor(4), tensor(1), tensor(0), tensor(3), tensor(4), tensor(8), tensor(2), tensor(9), tensor(1), tensor(0), tensor(1), tensor(1), tensor(8), tensor(0), tensor(1), tensor(2), tensor(3), tensor(1), tensor(5), tensor(5), tensor(8), tensor(7), tensor(7), tensor(9), tensor(2), tensor(0), tensor(5), tensor(9), tensor(1), tensor(2), tensor(5), tensor(2), tensor(2), tensor(4), tensor(5), tensor(8), tensor(0), tensor(6), tensor(3), tensor(8), tensor(2), tensor(3), tensor(1), tensor(2), tensor(9), tensor(2), tensor(3), tensor(9), tensor(3), tensor(5), tensor(6), tensor(5), tensor(5), tensor(7), tensor(0), tensor(6), tensor(9), tensor(7), tensor(0), tensor(3), tensor(2), tensor(8), tensor(7), tensor(2), tensor(0), tensor(1), tensor(0), tensor(5), tensor(8), tensor(0), tensor(7), tensor(1), tensor(0), tensor(6), tensor(3), tensor(6), tensor(4), tensor(1), tensor(2), tensor(9), tensor(1), tensor(7), tensor(3), tensor(9), tensor(1), tensor(3), tensor(7), tensor(8), tensor(6), tensor(5), tensor(3), tensor(8), tensor(4), tensor(5), tensor(0), tensor(6), tensor(9), tensor(1), tensor(7), tensor(5), tensor(4), tensor(8), tensor(1), tensor(3), tensor(0), tensor(4), tensor(9), tensor(6), tensor(9), tensor(4), tensor(8), tensor(8), tensor(7), tensor(2), tensor(8), tensor(0), tensor(7), tensor(2), tensor(0), tensor(5), tensor(8), tensor(8), tensor(5), tensor(0), tensor(9), tensor(0), tensor(9), tensor(6), tensor(7), tensor(1), tensor(7), tensor(7), tensor(5), tensor(8), tensor(8), tensor(2), tensor(1), tensor(2), tensor(3), tensor(5), tensor(6), tensor(7), tensor(1), tensor(9), tensor(6), tensor(6), tensor(4), tensor(3), tensor(3), tensor(2), tensor(4), tensor(7), tensor(4), tensor(0), tensor(7), tensor(4), tensor(4), tensor(4), tensor(6), tensor(0), tensor(3), tensor(2), tensor(0), tensor(5), tensor(9), tensor(0), tensor(1), tensor(5), tensor(3), tensor(1), tensor(3), tensor(8), tensor(3), tensor(5), tensor(1), tensor(1), tensor(9), tensor(9), tensor(8), tensor(3), tensor(9), tensor(0), tensor(5), tensor(3), tensor(1), tensor(7), tensor(4), tensor(1), tensor(2), tensor(5), tensor(4), tensor(2), tensor(7), tensor(5), tensor(6), tensor(1), tensor(2), tensor(8), tensor(3), tensor(7), tensor(0), tensor(0), tensor(8), tensor(5), tensor(3), tensor(0), tensor(0), tensor(1), tensor(3), tensor(9), tensor(3), tensor(2), tensor(3), tensor(7), tensor(6), tensor(3), tensor(1), tensor(1), tensor(8), tensor(6), tensor(5), tensor(4), tensor(0), tensor(1), tensor(3), tensor(8), tensor(6), tensor(5), tensor(3), tensor(2), tensor(3), tensor(6), tensor(4), tensor(5), tensor(0), tensor(4), tensor(2), tensor(0), tensor(1), tensor(3), tensor(9), tensor(6), tensor(4), tensor(8), tensor(6), tensor(9), tensor(4), tensor(4), tensor(9), tensor(9), tensor(1), tensor(3), tensor(3), tensor(5), tensor(1), tensor(5), tensor(2), tensor(6), tensor(6), tensor(9), tensor(3), tensor(1), tensor(1), tensor(7), tensor(6), tensor(2), tensor(3), tensor(9), tensor(0), tensor(7), tensor(0), tensor(4), tensor(3), tensor(8), tensor(9), tensor(5), tensor(8), tensor(7), tensor(0), tensor(3), tensor(8), tensor(8), tensor(1), tensor(1), tensor(3), tensor(6), tensor(8), tensor(4), tensor(7), tensor(6), tensor(3), tensor(6), tensor(1), tensor(8), tensor(4), tensor(1), tensor(1), tensor(6), tensor(1), tensor(4), tensor(5), tensor(9), tensor(6), tensor(2), tensor(7), tensor(3), tensor(4), tensor(2), tensor(2), tensor(6), tensor(8), tensor(1), tensor(1), tensor(7), tensor(2), tensor(6), tensor(7), tensor(1), tensor(0), tensor(9), tensor(1), tensor(5), tensor(7), tensor(7), tensor(7), tensor(4), tensor(3), tensor(0), tensor(0), tensor(5), tensor(0), tensor(7), tensor(2), tensor(9), tensor(0), tensor(4), tensor(1), tensor(0), tensor(5), tensor(2), tensor(9), tensor(7), tensor(3), tensor(3), tensor(5), tensor(1), tensor(2), tensor(4), tensor(0), tensor(8), tensor(3), tensor(3), tensor(0), tensor(7), tensor(1), tensor(7), tensor(3), tensor(4), tensor(6), tensor(7), tensor(4), tensor(6), tensor(5), tensor(0), tensor(6), tensor(9), tensor(1), tensor(6), tensor(8), tensor(1), tensor(5), tensor(0), tensor(1), tensor(7), tensor(7), tensor(5), tensor(1), tensor(1), tensor(2), tensor(3), tensor(9), tensor(5), tensor(9), tensor(5), tensor(2), tensor(6), tensor(9), tensor(3), tensor(2), tensor(1), tensor(9), tensor(2), tensor(4), tensor(8), tensor(4), tensor(4), tensor(1), tensor(8), tensor(2), tensor(1), tensor(0), tensor(6), tensor(7), tensor(9), tensor(0), tensor(7), tensor(3), tensor(3), tensor(6), tensor(9), tensor(7), tensor(1), tensor(0), tensor(0), tensor(5), tensor(1), tensor(8), tensor(6), tensor(8), tensor(4), tensor(9), tensor(5), tensor(1), tensor(9), tensor(1), tensor(8), tensor(3), tensor(4), tensor(3), tensor(5), tensor(9), tensor(1), tensor(8), tensor(1), tensor(3), tensor(4), tensor(5), tensor(2), tensor(1), tensor(7), tensor(6), tensor(6), tensor(2), tensor(1), tensor(4), tensor(5), tensor(2), tensor(6), tensor(4), tensor(3), tensor(9), tensor(3), tensor(8), tensor(7), tensor(6), tensor(1), tensor(3), tensor(9), tensor(6), tensor(0), tensor(2), tensor(7), tensor(8), tensor(1), tensor(9), tensor(5), tensor(5), tensor(7), tensor(6), tensor(4), tensor(0), tensor(4), tensor(7), tensor(9), tensor(7), tensor(6), tensor(8), tensor(3), tensor(5), tensor(4), tensor(0), tensor(0), tensor(5), tensor(8), tensor(6), tensor(8), tensor(3), tensor(0), tensor(1), tensor(6), tensor(9), tensor(7), tensor(1), tensor(7), tensor(0), tensor(6), tensor(1), tensor(6), tensor(2), tensor(0), tensor(8), tensor(5), tensor(8), tensor(9), tensor(0), tensor(0), tensor(3), tensor(5), tensor(0), tensor(1), tensor(7), tensor(6), tensor(6), tensor(7), tensor(8), tensor(0), tensor(5), tensor(8), tensor(8), tensor(9), tensor(9), tensor(5), tensor(8), tensor(9), tensor(1), tensor(8), tensor(2), tensor(4), tensor(8), tensor(4), tensor(5), tensor(9), tensor(4), tensor(0), tensor(9), tensor(2), tensor(6), tensor(0), tensor(3), tensor(7), tensor(6), tensor(0), tensor(5), tensor(1), tensor(2), tensor(2), tensor(1), tensor(5), tensor(3), tensor(2), tensor(0), tensor(9), tensor(7), tensor(4), tensor(4), tensor(2), tensor(7), tensor(4), tensor(6), tensor(0), tensor(1), tensor(0), tensor(2), tensor(6), tensor(1), tensor(8), tensor(8), tensor(7), tensor(6), tensor(6), tensor(0), tensor(4), tensor(1), tensor(8), tensor(8), tensor(1), tensor(0), tensor(8), tensor(1), tensor(2), tensor(0), tensor(6), tensor(2), tensor(0), tensor(6), tensor(2), tensor(2), tensor(2), tensor(6), tensor(6), tensor(6), tensor(6), tensor(2), tensor(6), tensor(9), tensor(8), tensor(7), tensor(6), tensor(0), tensor(0), tensor(9), tensor(1), tensor(5), tensor(3), tensor(2), tensor(2), tensor(7), tensor(9), tensor(9), tensor(6), tensor(0), tensor(1), tensor(8), tensor(5), tensor(1), tensor(2), tensor(8), tensor(7), tensor(9), tensor(5), tensor(1), tensor(9), tensor(1), tensor(6), tensor(1), tensor(4), tensor(9), tensor(9), tensor(6), tensor(9), tensor(1), tensor(5), tensor(1), tensor(3), tensor(3), tensor(2), tensor(5), tensor(2), tensor(6), tensor(2), tensor(3), tensor(8), tensor(5), tensor(1), tensor(1), tensor(4), tensor(7), tensor(5), tensor(4), tensor(3), tensor(4), tensor(9), tensor(0), tensor(0), tensor(9), tensor(3), tensor(5), tensor(4), tensor(9), tensor(2), tensor(3), tensor(3), tensor(0), tensor(0), tensor(4), tensor(3), tensor(4), tensor(9), tensor(4), tensor(0), tensor(8), tensor(6), tensor(5), tensor(0), tensor(7), tensor(0), tensor(5), tensor(6), tensor(4), tensor(3), tensor(3), tensor(2), tensor(3), tensor(5), tensor(4), tensor(3), tensor(3), tensor(7), tensor(8), tensor(8), tensor(8), tensor(3), tensor(9), tensor(8), tensor(1), tensor(3), tensor(7), tensor(7), tensor(5), tensor(8), tensor(3), tensor(2), tensor(2), tensor(5), tensor(1), tensor(2), tensor(4), tensor(1), tensor(8), tensor(2), tensor(1), tensor(3), tensor(9), tensor(8), tensor(0), tensor(6), tensor(8), tensor(0), tensor(5), tensor(5), tensor(9), tensor(8), tensor(5), tensor(9), tensor(6), tensor(1), tensor(7), tensor(3), tensor(9), tensor(8), tensor(0), tensor(7), tensor(3), tensor(4), tensor(0), tensor(4), tensor(6), tensor(9), tensor(7), tensor(7), tensor(5), tensor(8), tensor(5), tensor(1), tensor(1), tensor(2), tensor(6), tensor(8), tensor(1), tensor(4), tensor(9), tensor(3), tensor(2), tensor(1), tensor(5), tensor(1), tensor(9), tensor(0), tensor(9), tensor(5), tensor(3), tensor(8), tensor(7), tensor(9), tensor(5), tensor(7), tensor(5), tensor(8), tensor(2), tensor(3), tensor(1), tensor(1), tensor(3), tensor(2), tensor(9), tensor(0), tensor(3), tensor(8), tensor(4), tensor(3), tensor(1), tensor(3), tensor(6), tensor(4), tensor(9), tensor(8), tensor(0), tensor(7), tensor(6), tensor(7), tensor(3), tensor(3), tensor(3), tensor(3), tensor(1), tensor(6), tensor(3), tensor(2), tensor(1), tensor(8), tensor(6), tensor(9), tensor(9), tensor(5), tensor(9), tensor(6), tensor(3), tensor(6), tensor(8), tensor(0), tensor(7), tensor(3), tensor(9), tensor(6), tensor(9), tensor(0), tensor(1), tensor(4), tensor(4), tensor(2), tensor(3), tensor(8), tensor(3), tensor(6), tensor(3), tensor(2), tensor(7), tensor(9), tensor(2), tensor(6), tensor(7), tensor(9), tensor(0), tensor(8), tensor(7), tensor(9), tensor(7), tensor(2), tensor(1), tensor(7), tensor(4), tensor(7), tensor(3), tensor(5), tensor(1), tensor(3), tensor(5), tensor(6), tensor(5), tensor(8), tensor(5), tensor(2), tensor(2), tensor(4), tensor(0), tensor(3), tensor(6), tensor(9), tensor(7), tensor(2), tensor(3), tensor(3), tensor(8), tensor(5), tensor(3), tensor(9), tensor(3), tensor(3), tensor(0), tensor(1), tensor(9), tensor(0), tensor(8), tensor(0), tensor(0), tensor(8), tensor(5), tensor(6), tensor(0), tensor(1), tensor(2), tensor(8), tensor(4), tensor(9), tensor(7), tensor(6), tensor(1), tensor(4), tensor(8), tensor(0), tensor(1), tensor(1), tensor(8), tensor(2), tensor(2), tensor(3), tensor(0), tensor(8), tensor(2), tensor(4), tensor(9), tensor(3), tensor(9), tensor(2), tensor(8), tensor(9), tensor(0), tensor(8), tensor(3), tensor(7), tensor(2), tensor(2), tensor(1), tensor(7), tensor(9), tensor(5), tensor(1), tensor(8), tensor(2), tensor(6), tensor(8), tensor(5), tensor(6), tensor(0), tensor(4), tensor(3), tensor(2), tensor(5), tensor(6), tensor(3), tensor(5), tensor(1), tensor(7), tensor(4), tensor(6), tensor(7), tensor(2), tensor(5), tensor(9), tensor(3), tensor(7), tensor(6), tensor(7), tensor(8), tensor(9), tensor(4), tensor(1), tensor(5), tensor(3), tensor(4), tensor(2), tensor(4), tensor(8), tensor(6), tensor(4), tensor(9), tensor(8), tensor(2), tensor(8), tensor(5), tensor(7), tensor(8), tensor(4), tensor(2), tensor(2), tensor(9), tensor(0), tensor(9), tensor(7), tensor(4), tensor(1), tensor(5), tensor(7), tensor(1), tensor(5), tensor(8), tensor(1), tensor(2), tensor(4), tensor(3), tensor(2), tensor(9), tensor(5), tensor(9), tensor(2), tensor(4), tensor(0), tensor(1), tensor(1), tensor(9), tensor(3), tensor(5), tensor(2), tensor(7), tensor(5), tensor(2), tensor(0), tensor(2), tensor(2), tensor(6), tensor(0), tensor(6), tensor(1), tensor(2), tensor(8), tensor(6), tensor(5), tensor(4), tensor(1), tensor(3), tensor(8), tensor(2), tensor(9), tensor(4), tensor(8), tensor(5), tensor(3), tensor(7), tensor(3), tensor(8), tensor(4), tensor(4), tensor(5), tensor(0), tensor(9), tensor(7), tensor(3), tensor(0), tensor(6), tensor(2), tensor(1), tensor(1), tensor(2), tensor(4), tensor(3), tensor(8), tensor(2), tensor(4), tensor(3), tensor(7), tensor(5), tensor(0), tensor(9), tensor(4), tensor(8), tensor(3), tensor(5), tensor(3), tensor(0), tensor(8), tensor(3), tensor(1), tensor(6), tensor(1), tensor(3), tensor(9), tensor(8), tensor(4), tensor(5), tensor(1), tensor(0), tensor(6), tensor(9), tensor(0), tensor(2), tensor(1), tensor(1), tensor(1), tensor(4), tensor(8), tensor(8), tensor(7), tensor(7), tensor(3), tensor(3), tensor(1), tensor(2), tensor(6), tensor(4), tensor(3), tensor(8), tensor(6), tensor(4), tensor(7), tensor(1), tensor(7), tensor(0), tensor(1), tensor(0), tensor(4), tensor(5), tensor(0), tensor(0), tensor(4), tensor(8), tensor(3), tensor(0), tensor(9), tensor(7), tensor(1), tensor(3), tensor(5), tensor(8), tensor(3), tensor(7), tensor(9), tensor(4), tensor(6), tensor(8), tensor(7), tensor(8), tensor(9), tensor(1), tensor(8), tensor(5), tensor(7), tensor(8), tensor(4), tensor(3), tensor(1), tensor(0), tensor(9), tensor(3), tensor(3), tensor(9), tensor(1), tensor(2), tensor(1), tensor(7), tensor(2), tensor(3), tensor(0), tensor(7), tensor(7), tensor(8), tensor(1), tensor(0), tensor(6), tensor(1), tensor(3), tensor(2), tensor(8), tensor(7), tensor(0), tensor(1), tensor(8), tensor(1), tensor(3), tensor(1), tensor(7), tensor(1), tensor(9), tensor(5), tensor(7), tensor(1), tensor(1), tensor(2), tensor(1), tensor(1), tensor(1), tensor(4), tensor(4), tensor(2), tensor(9), tensor(3), tensor(3), tensor(2), tensor(1), tensor(6), tensor(1), tensor(9), tensor(1), tensor(8), tensor(3), tensor(8), tensor(3), tensor(8), tensor(7), tensor(1), tensor(4), tensor(1), tensor(3), tensor(2), tensor(4), tensor(3), tensor(2), tensor(2), tensor(9), tensor(0), tensor(8), tensor(5), tensor(4), tensor(9), tensor(0), tensor(5), tensor(4), tensor(5), tensor(0), tensor(4), tensor(3), tensor(1), tensor(5), tensor(8), tensor(8), tensor(8), tensor(1), tensor(7), tensor(7), tensor(9), tensor(5), tensor(0), tensor(7), tensor(8), tensor(8), tensor(4), tensor(8), tensor(7), tensor(3), tensor(2), tensor(8), tensor(1), tensor(9), tensor(8), tensor(0), tensor(2), tensor(9), tensor(1), tensor(1), tensor(7), tensor(6), tensor(2), tensor(1), tensor(0), tensor(1), tensor(4), tensor(8), tensor(2), tensor(2), tensor(0), tensor(2), tensor(0), tensor(0), tensor(3), tensor(9), tensor(9), tensor(6), tensor(5), tensor(8), tensor(8), tensor(7), tensor(0), tensor(5), tensor(3), tensor(2), tensor(7), tensor(1), tensor(1), tensor(7), tensor(3), tensor(6), tensor(9), tensor(6), tensor(1), tensor(5), tensor(1), tensor(9), tensor(7), tensor(5), tensor(5), tensor(7), tensor(1), tensor(1), tensor(8), tensor(6), tensor(0), tensor(2), tensor(1), tensor(6), tensor(7), tensor(9), tensor(1), tensor(6), tensor(8), tensor(3), tensor(7), tensor(3), tensor(0), tensor(1), tensor(4), tensor(9), tensor(9), tensor(8), tensor(8), tensor(5), tensor(7), tensor(2), tensor(4), tensor(5), tensor(9), tensor(5), tensor(8), tensor(2), tensor(8), tensor(0), tensor(1), tensor(5), tensor(1), tensor(1), tensor(5), tensor(5), tensor(5), tensor(8), tensor(3), tensor(0), tensor(4), tensor(1), tensor(8), tensor(3), tensor(0), tensor(9), tensor(1), tensor(9), tensor(5), tensor(1), tensor(7), tensor(9), tensor(8), tensor(0), tensor(6), tensor(4), tensor(3), tensor(7), tensor(7), tensor(1), tensor(1), tensor(6), tensor(3), tensor(3), tensor(3), tensor(9), tensor(5), tensor(8), tensor(8), tensor(9), tensor(1), tensor(7), tensor(5), tensor(4), tensor(5), tensor(6), tensor(9), tensor(7), tensor(0), tensor(3), tensor(2), tensor(7), tensor(1), tensor(1), tensor(1), tensor(6), tensor(4), tensor(6), tensor(9), tensor(5), tensor(9), tensor(0), tensor(0), tensor(2), tensor(2), tensor(2), tensor(3), tensor(7), tensor(4), tensor(2), tensor(6), tensor(5), tensor(7), tensor(0), tensor(7), tensor(9), tensor(9), tensor(9), tensor(1), tensor(8), tensor(4), tensor(8), tensor(0), tensor(9), tensor(5), tensor(1), tensor(0), tensor(0), tensor(5), tensor(1), tensor(9), tensor(9), tensor(0), tensor(9), tensor(3), tensor(5), tensor(4), tensor(5), tensor(3), tensor(1), tensor(4), tensor(4), tensor(7), tensor(2), tensor(4), tensor(9), tensor(6), tensor(4), tensor(2), tensor(7), tensor(1), tensor(9), tensor(5), tensor(7), tensor(6), tensor(8), tensor(3), tensor(4), tensor(7), tensor(1), tensor(6), tensor(0), tensor(2), tensor(1), tensor(3), tensor(2), tensor(5), tensor(5), tensor(3), tensor(9), tensor(7), tensor(1), tensor(7), tensor(1), tensor(7), tensor(8), tensor(5), tensor(4), tensor(8), tensor(7), tensor(9), tensor(2), tensor(2), tensor(3), tensor(5), tensor(8), tensor(2), tensor(2), tensor(6), tensor(3), tensor(6), tensor(6), tensor(8), tensor(7), tensor(3), tensor(0), tensor(4), tensor(0), tensor(9), tensor(5), tensor(4), tensor(6), tensor(8), tensor(2), tensor(8), tensor(5), tensor(4), tensor(1), tensor(2), tensor(8), tensor(7), tensor(0), tensor(6), tensor(6), tensor(8), tensor(5), tensor(5), tensor(0), tensor(7), tensor(7), tensor(1), tensor(5), tensor(0), tensor(0), tensor(2), tensor(9), tensor(3), tensor(2), tensor(8), tensor(3), tensor(9), tensor(0), tensor(2), tensor(9), tensor(5), tensor(0), tensor(4), tensor(5), tensor(4), tensor(1), tensor(9), tensor(1), tensor(4), tensor(6), tensor(3), tensor(7), tensor(7), tensor(5), tensor(5), tensor(5), tensor(3), tensor(5), tensor(9), tensor(9), tensor(2), tensor(7), tensor(2), tensor(9), tensor(6), tensor(1), tensor(9), tensor(0), tensor(0), tensor(4), tensor(2), tensor(4), tensor(9), tensor(6), tensor(5), tensor(8), tensor(3), tensor(8), tensor(2), tensor(0), tensor(5), tensor(7), tensor(7), tensor(0), tensor(2), tensor(6), tensor(4), tensor(4), tensor(5), tensor(0), tensor(7), tensor(9), tensor(1), tensor(3), tensor(6), tensor(3), tensor(3), tensor(3), tensor(1), tensor(9), tensor(1), tensor(3), tensor(8), tensor(1), tensor(7), tensor(3), tensor(9), tensor(8), tensor(3), tensor(8), tensor(6), tensor(7), tensor(4), tensor(7), tensor(7), tensor(2), tensor(8), tensor(6), tensor(3), tensor(2), tensor(4), tensor(7), tensor(6), tensor(9), tensor(7), tensor(1), tensor(1), tensor(5), tensor(9), tensor(3), tensor(5), tensor(5), tensor(2), tensor(1), tensor(0), tensor(6), tensor(0), tensor(6), tensor(0), tensor(8), tensor(3), tensor(6), tensor(6), tensor(5), tensor(5), tensor(7), tensor(4), tensor(8), tensor(1), tensor(2), tensor(5), tensor(2), tensor(1), tensor(5), tensor(2), tensor(7), tensor(2), tensor(4), tensor(0), tensor(1), tensor(2), tensor(3), tensor(9), tensor(7), tensor(0), tensor(3), tensor(6), tensor(2), tensor(4), tensor(7), tensor(4), tensor(1), tensor(1), tensor(6), tensor(2), tensor(2), tensor(2), tensor(4), tensor(1), tensor(8), tensor(2), tensor(3), tensor(0), tensor(3), tensor(7), tensor(6), tensor(8), tensor(3), tensor(7), tensor(9), tensor(3), tensor(9), tensor(7), tensor(8), tensor(8), tensor(3), tensor(2), tensor(7), tensor(1), tensor(3), tensor(4), tensor(0), tensor(8), tensor(8), tensor(8), tensor(8), tensor(2), tensor(4), tensor(6), tensor(8), tensor(9), tensor(0), tensor(2), tensor(0), tensor(7), tensor(4), tensor(5), tensor(6), tensor(4), tensor(1), tensor(2), tensor(4), tensor(0), tensor(9), tensor(1), tensor(6), tensor(8), tensor(2), tensor(5), tensor(7), tensor(6), tensor(7), tensor(1), tensor(6), tensor(3), tensor(5), tensor(1), tensor(0), tensor(7), tensor(2), tensor(2), tensor(1), tensor(4), tensor(5), tensor(5), tensor(2), tensor(8), tensor(0), tensor(4), tensor(6), tensor(6), tensor(9), tensor(0), tensor(0), tensor(7), tensor(1), tensor(3), tensor(1), tensor(7), tensor(4), tensor(3), tensor(3), tensor(1), tensor(2), tensor(0), tensor(6), tensor(9), tensor(4), tensor(1), tensor(8), tensor(1), tensor(8), tensor(3), tensor(6), tensor(5), tensor(0), tensor(7), tensor(3), tensor(4), tensor(6), tensor(6), tensor(6), tensor(2), tensor(9), tensor(3), tensor(5), tensor(4), tensor(9), tensor(8), tensor(1), tensor(6), tensor(7), tensor(5), tensor(4), tensor(4), tensor(2), tensor(9), tensor(9), tensor(7), tensor(2), tensor(9), tensor(1), tensor(1), tensor(1), tensor(6), tensor(2), tensor(0), tensor(8), tensor(1), tensor(5), tensor(3), tensor(2), tensor(3), tensor(1), tensor(6), tensor(2), tensor(4), tensor(0), tensor(1), tensor(6), tensor(4), tensor(7), tensor(1), tensor(0), tensor(2), tensor(9), tensor(3), tensor(0), tensor(4), tensor(6), tensor(1), tensor(8), tensor(9), tensor(9), tensor(0), tensor(9), tensor(6), tensor(6), tensor(4), tensor(9), tensor(1), tensor(2), tensor(4), tensor(4), tensor(6), tensor(3), tensor(0), tensor(6), tensor(0), tensor(6), tensor(5), tensor(8), tensor(5), tensor(8), tensor(1), tensor(5), tensor(1), tensor(3), tensor(4), tensor(7), tensor(3), tensor(8), tensor(0), tensor(1), tensor(1), tensor(0), tensor(8), tensor(0), tensor(1), tensor(6), tensor(9), tensor(4), tensor(3), tensor(0), tensor(4), tensor(6), tensor(1), tensor(5), tensor(1), tensor(4), tensor(3), tensor(6), tensor(2), tensor(5), tensor(4), tensor(3), tensor(2), tensor(1), tensor(8), tensor(7), tensor(3), tensor(9), tensor(7), tensor(2), tensor(1), tensor(1), tensor(0), tensor(8), tensor(4), tensor(4), tensor(0), tensor(3), tensor(9), tensor(8), tensor(6), tensor(0), tensor(6), tensor(0), tensor(1), tensor(6), tensor(6), tensor(3), tensor(1), tensor(3), tensor(8), tensor(8), tensor(7), tensor(2), tensor(1), tensor(4), tensor(4), tensor(9), tensor(7), tensor(2), tensor(9), tensor(4), tensor(4), tensor(2), tensor(2), tensor(6), tensor(1), tensor(0), tensor(7), tensor(9), tensor(1), tensor(8), tensor(4), tensor(0), tensor(5), tensor(2), tensor(5), tensor(3), tensor(0), tensor(5), tensor(9), tensor(5), tensor(1), tensor(5), tensor(0), tensor(8), tensor(8), tensor(3), tensor(8), tensor(3), tensor(1), tensor(9), tensor(6), tensor(0), tensor(6), tensor(3), tensor(5), tensor(1), tensor(0), tensor(9), tensor(4), tensor(7), tensor(1), tensor(0), tensor(2), tensor(3), tensor(8), tensor(4), tensor(9), tensor(0), tensor(1), tensor(9), tensor(7), tensor(2), tensor(3), tensor(9), tensor(8), tensor(1), tensor(9), tensor(0), tensor(8), tensor(0), tensor(8), tensor(6), tensor(0), tensor(5), tensor(7), tensor(9), tensor(3), tensor(3), tensor(3), tensor(0), tensor(7), tensor(2), tensor(1), tensor(0), tensor(2), tensor(1), tensor(9), tensor(9), tensor(2), tensor(7), tensor(1), tensor(2), tensor(5), tensor(9), tensor(1), tensor(2), tensor(8), tensor(9), tensor(1), tensor(9), tensor(4), tensor(1), tensor(6), tensor(4), tensor(5), tensor(5), tensor(1), tensor(7), tensor(4), tensor(9), tensor(4), tensor(6), tensor(3), tensor(5), tensor(1), tensor(0), tensor(7), tensor(4), tensor(6), tensor(9), tensor(3), tensor(7), tensor(2), tensor(2), tensor(9), tensor(0), tensor(5), tensor(6), tensor(6), tensor(6), tensor(3), tensor(5), tensor(5), tensor(1), tensor(7), tensor(5), tensor(4), tensor(9), tensor(5), tensor(5), tensor(3), tensor(6), tensor(4), tensor(7), tensor(0), tensor(6), tensor(4), tensor(2), tensor(6), tensor(1), tensor(4), tensor(9), tensor(8), tensor(3), tensor(7), tensor(8), tensor(3), tensor(7), tensor(5), tensor(1), tensor(1), tensor(1), tensor(5), tensor(3), tensor(0), tensor(7), tensor(2), tensor(3), tensor(6), tensor(4), tensor(3), tensor(7), tensor(5), tensor(8), tensor(7), tensor(9), tensor(2), tensor(0), tensor(2), tensor(1), tensor(0), tensor(2), tensor(2), tensor(7), tensor(0), tensor(8), tensor(2), tensor(0), tensor(7), tensor(9), tensor(7), tensor(4), tensor(9), tensor(1), tensor(7), tensor(5), tensor(8), tensor(4), tensor(2), tensor(4), tensor(4), tensor(5), tensor(9), tensor(1), tensor(5), tensor(8), tensor(4), tensor(5), tensor(4), tensor(3), tensor(0), tensor(3), tensor(8), tensor(3), tensor(4), tensor(4), tensor(4), tensor(9), tensor(5), tensor(9), tensor(8), tensor(3), tensor(8), tensor(9), tensor(7), tensor(7), tensor(4), tensor(7), tensor(7), tensor(0), tensor(5), tensor(8), tensor(3), tensor(6), tensor(3), tensor(9), tensor(2), tensor(8), tensor(2), tensor(0), tensor(8), tensor(8), tensor(9), tensor(8), tensor(9), tensor(1), tensor(7), tensor(0), tensor(5), tensor(3), tensor(1), tensor(7), tensor(1), tensor(6), tensor(2), tensor(3), tensor(5), tensor(2), tensor(1), tensor(9), tensor(6), tensor(7), tensor(9), tensor(0), tensor(2), tensor(3), tensor(7), tensor(3), tensor(2), tensor(6), tensor(1), tensor(6), tensor(2), tensor(8), tensor(1), tensor(8), tensor(5), tensor(5), tensor(3), tensor(0), tensor(1), tensor(2), tensor(1), tensor(3), tensor(5), tensor(6), tensor(1), tensor(8), tensor(0), tensor(4), tensor(8), tensor(8), tensor(6), tensor(1), tensor(0), tensor(4), tensor(6), tensor(7), tensor(3), tensor(4), tensor(2), tensor(8), tensor(0), tensor(7), tensor(3), tensor(0), tensor(2), tensor(8), tensor(4), tensor(4), tensor(9), tensor(0), tensor(8), tensor(9), tensor(8), tensor(5), tensor(0), tensor(1), tensor(5), tensor(3), tensor(8), tensor(0), tensor(6), tensor(2), tensor(3), tensor(5), tensor(0), tensor(7), tensor(0), tensor(3), tensor(2), tensor(6), tensor(9), tensor(7), tensor(8), tensor(9), tensor(7), tensor(1), tensor(8), tensor(4), tensor(0), tensor(0), tensor(3), tensor(9), tensor(4), tensor(0), tensor(1), tensor(7), tensor(4), tensor(5), tensor(2), tensor(1), tensor(6), tensor(5), tensor(1), tensor(2), tensor(1), tensor(9), tensor(4), tensor(7), tensor(6), tensor(6), tensor(3), tensor(6), tensor(7), tensor(8), tensor(7), tensor(8), tensor(4), tensor(7), tensor(1), tensor(7), tensor(9), tensor(7), tensor(0), tensor(2), tensor(0), tensor(3), tensor(7), tensor(6), tensor(8), tensor(2), tensor(4), tensor(3), tensor(7), tensor(0), tensor(8), tensor(9), tensor(3), tensor(0), tensor(9), tensor(8), tensor(2), tensor(2), tensor(7), tensor(0), tensor(8), tensor(6), tensor(9), tensor(7), tensor(9), tensor(2), tensor(0), tensor(7), tensor(9), tensor(0), tensor(2), tensor(2), tensor(9), tensor(7), tensor(4), tensor(8), tensor(9), tensor(3), tensor(6), tensor(1), tensor(4), tensor(0), tensor(9), tensor(5), tensor(8), tensor(9), tensor(4), tensor(1), tensor(4), tensor(6), tensor(3), tensor(0), tensor(6), tensor(7), tensor(1), tensor(0), tensor(0), tensor(6), tensor(7), tensor(2), tensor(6), tensor(2), tensor(7), tensor(9), tensor(7), tensor(5), tensor(1), tensor(1), tensor(2), tensor(2), tensor(2), tensor(2), tensor(3), tensor(5), tensor(7), tensor(4), tensor(0), tensor(0), tensor(4), tensor(4), tensor(4), tensor(1), tensor(3), tensor(9), tensor(4), tensor(6), tensor(0), tensor(3), tensor(0), tensor(6), tensor(6), tensor(6), tensor(8), tensor(1), tensor(6), tensor(9), tensor(2), tensor(7), tensor(5), tensor(2), tensor(3), tensor(5), tensor(4), tensor(7), tensor(1), tensor(4), tensor(0), tensor(6), tensor(1), tensor(6), tensor(4), tensor(1), tensor(7), tensor(1), tensor(1), tensor(0), tensor(3), tensor(8), tensor(6), tensor(0), tensor(2), tensor(7), tensor(1), tensor(4), tensor(6), tensor(2), tensor(5), tensor(9), tensor(3), tensor(1), tensor(7), tensor(0), tensor(5), tensor(4), tensor(1), tensor(4), tensor(2), tensor(2), tensor(1), tensor(4), tensor(3), tensor(0), tensor(6), tensor(8), tensor(4), tensor(8), tensor(0), tensor(1), tensor(5), tensor(6), tensor(5), tensor(5), tensor(6), tensor(2), tensor(1), tensor(8), tensor(5), tensor(0), tensor(9), tensor(5), tensor(1), tensor(3), tensor(4), tensor(6), tensor(4), tensor(5), tensor(5), tensor(1), tensor(6), tensor(2), tensor(9), tensor(6), tensor(7), tensor(7), tensor(3), tensor(2), tensor(1), tensor(0), tensor(0), tensor(2), tensor(6), tensor(9), tensor(2), tensor(3), tensor(1), tensor(6), tensor(7), tensor(1), tensor(3), tensor(7), tensor(0), tensor(6), tensor(8), tensor(6), tensor(6), tensor(6), tensor(9), tensor(7), tensor(0), tensor(8), tensor(2), tensor(0), tensor(1), tensor(2), tensor(2), tensor(7), tensor(3), tensor(1), tensor(3), tensor(8), tensor(6), tensor(8), tensor(4), tensor(7), tensor(4), tensor(0), tensor(0), tensor(2), tensor(8), tensor(1), tensor(9), tensor(2), tensor(9), tensor(1), tensor(9), tensor(4), tensor(7), tensor(6), tensor(3), tensor(9), tensor(2), tensor(8), tensor(9), tensor(1), tensor(1), tensor(5), tensor(7), tensor(6), tensor(6), tensor(0), tensor(7), tensor(7), tensor(2), tensor(3), tensor(4), tensor(4), tensor(8), tensor(7), tensor(7), tensor(6), tensor(5), tensor(5), tensor(7), tensor(8), tensor(4), tensor(4), tensor(7), tensor(7), tensor(2), tensor(6), tensor(2), tensor(2), tensor(7), tensor(7), tensor(2), tensor(4), tensor(7), tensor(9), tensor(4), tensor(1), tensor(0), tensor(8), tensor(5), tensor(9), tensor(4), tensor(7), tensor(5), tensor(4), tensor(5), tensor(2), tensor(7), tensor(7), tensor(9), tensor(9), tensor(5), tensor(1), tensor(8), tensor(8), tensor(5), tensor(0), tensor(4), tensor(6), tensor(0), tensor(7), tensor(0), tensor(4), tensor(4), tensor(4), tensor(1), tensor(0), tensor(1), tensor(7), tensor(9), tensor(9), tensor(4), tensor(0), tensor(3), tensor(5), tensor(0), tensor(1), tensor(2), tensor(6), tensor(0), tensor(7), tensor(3), tensor(6), tensor(7), tensor(9), tensor(5), tensor(4), tensor(6), tensor(1), tensor(8), tensor(0), tensor(0), tensor(7), tensor(3), tensor(3), tensor(8), tensor(2), tensor(5), tensor(1), tensor(1), tensor(8), tensor(6), tensor(5), tensor(1), tensor(5), tensor(1), tensor(2), tensor(6), tensor(5), tensor(4), tensor(0), tensor(6), tensor(5), tensor(2), tensor(2), tensor(9), tensor(5), tensor(6), tensor(5), tensor(0), tensor(5), tensor(7), tensor(8), tensor(7), tensor(8), tensor(1), tensor(0), tensor(5), tensor(6), tensor(6), tensor(8), tensor(8), tensor(1), tensor(5), tensor(1), tensor(7), tensor(5), tensor(7), tensor(9), tensor(7), tensor(2), tensor(6), tensor(1), tensor(9), tensor(3), tensor(5), tensor(5), tensor(0), tensor(0), tensor(8), tensor(3), tensor(6), tensor(0), tensor(3), tensor(1), tensor(2), tensor(6), tensor(9), tensor(0), tensor(2), tensor(2), tensor(1), tensor(4), tensor(5), tensor(3), tensor(0), tensor(5), tensor(2), tensor(1), tensor(5), tensor(0), tensor(4), tensor(2), tensor(7), tensor(8), tensor(6), tensor(8), tensor(4), tensor(0), tensor(2), tensor(5), tensor(2), tensor(8), tensor(3), tensor(3), tensor(8), tensor(4), tensor(2), tensor(9), tensor(0), tensor(5), tensor(1), tensor(1), tensor(6), tensor(6), tensor(3), tensor(3), tensor(6), tensor(9), tensor(0), tensor(0), tensor(9), tensor(7), tensor(1), tensor(9), tensor(1), tensor(9), tensor(1), tensor(6), tensor(1), tensor(1), tensor(2), tensor(6), tensor(8), tensor(1), tensor(7), tensor(8), tensor(4), tensor(0), tensor(8), tensor(0), tensor(2), tensor(0), tensor(7), tensor(6), tensor(6), tensor(4), tensor(0), tensor(6), tensor(3), tensor(9), tensor(8), tensor(6), tensor(8), tensor(5), tensor(7), tensor(2), tensor(0), tensor(9), tensor(0), tensor(0), tensor(1), tensor(1), tensor(4), tensor(4), tensor(5), tensor(7), tensor(8), tensor(0), tensor(2), tensor(0), tensor(4), tensor(3), tensor(8), tensor(9), tensor(2), tensor(0), tensor(8), tensor(6), tensor(4), tensor(4), tensor(3), tensor(5), tensor(1), tensor(9), tensor(6), tensor(4), tensor(8), tensor(3), tensor(4), tensor(7), tensor(8), tensor(1), tensor(4), tensor(1), tensor(4), tensor(2), tensor(9), tensor(7), tensor(1), tensor(4), tensor(2), tensor(2), tensor(1), tensor(5), tensor(8), tensor(1), tensor(2), tensor(1), tensor(2), tensor(2), tensor(7), tensor(2), tensor(2), tensor(1), tensor(8), tensor(4), tensor(3), tensor(5), tensor(0), tensor(4), tensor(5), tensor(1), tensor(6), tensor(3), tensor(6), tensor(4), tensor(3), tensor(3), tensor(6), tensor(6), tensor(5), tensor(0), tensor(7), tensor(0), tensor(2), tensor(2), tensor(6), tensor(7), tensor(1), tensor(1), tensor(8), tensor(3), tensor(0), tensor(3), tensor(7), tensor(6), tensor(0), tensor(5), tensor(1), tensor(4), tensor(3), tensor(0), tensor(1), tensor(6), tensor(7), tensor(2), tensor(6), tensor(5), tensor(9), tensor(3), tensor(7), tensor(3), tensor(9), tensor(0), tensor(1), tensor(4), tensor(7), tensor(3), tensor(8), tensor(2), tensor(2), tensor(8), tensor(3), tensor(0), tensor(9), tensor(9), tensor(7), tensor(9), tensor(4), tensor(5), tensor(6), tensor(0), tensor(5), tensor(3), tensor(8), tensor(0), tensor(1), tensor(9), tensor(1), tensor(3), tensor(5), tensor(3), tensor(7), tensor(0), tensor(6), tensor(4), tensor(7), tensor(8), tensor(5), tensor(4), tensor(2), tensor(4), tensor(4), tensor(7), tensor(2), tensor(9), tensor(9), tensor(4), tensor(6), tensor(9), tensor(2), tensor(9), tensor(9), tensor(5), tensor(6), tensor(1), tensor(4), tensor(8), tensor(0), tensor(4), tensor(7), tensor(2), tensor(6), tensor(5), tensor(7), tensor(0), tensor(4), tensor(2), tensor(8), tensor(4), tensor(9), tensor(5), tensor(2), tensor(7), tensor(2), tensor(6), tensor(1), tensor(9), tensor(2), tensor(5), tensor(3), tensor(2), tensor(7), tensor(0), tensor(8), tensor(6), tensor(3), tensor(2), tensor(2), tensor(7), tensor(7), tensor(0), tensor(5), tensor(5), tensor(2), tensor(4), tensor(7), tensor(7), tensor(9), tensor(6), tensor(4), tensor(2), tensor(2), tensor(9), tensor(3), tensor(3), tensor(1), tensor(8), tensor(0), tensor(6), tensor(7), tensor(4), tensor(0), tensor(9), tensor(5), tensor(3), tensor(6), tensor(3), tensor(5), tensor(7), tensor(3), tensor(7), tensor(1), tensor(3), tensor(4), tensor(7), tensor(9), tensor(3), tensor(7), tensor(4), tensor(9), tensor(9), tensor(1), tensor(0), tensor(1), tensor(2), tensor(8), tensor(8), tensor(1), tensor(9), tensor(3), tensor(6), tensor(1), tensor(7), tensor(8), tensor(4), tensor(4), tensor(6), tensor(9), tensor(9), tensor(4), tensor(7), tensor(0), tensor(4), tensor(9), tensor(6), tensor(0), tensor(8), tensor(6), tensor(3), tensor(1), tensor(2), tensor(9), tensor(1), tensor(8), tensor(9), tensor(3), tensor(1), tensor(9), tensor(5), tensor(9), tensor(6), tensor(3), tensor(8), tensor(4), tensor(5), tensor(8), tensor(0), tensor(7), tensor(0), tensor(8), tensor(0), tensor(9), tensor(8), tensor(4), tensor(1), tensor(2), tensor(6), tensor(6), tensor(8), tensor(6), tensor(0), tensor(2), tensor(4), tensor(4), tensor(5), tensor(4), tensor(4), tensor(9), tensor(0), tensor(4), tensor(7), tensor(6), tensor(8), tensor(5), tensor(6), tensor(0), tensor(6), tensor(3), tensor(8), tensor(1), tensor(4), tensor(4), tensor(2), tensor(9), tensor(7), tensor(0), tensor(7), tensor(0), tensor(2), tensor(9), tensor(1), tensor(8), tensor(3), tensor(5), tensor(2), tensor(2), tensor(6), tensor(0), tensor(5), tensor(9), tensor(7), tensor(6), tensor(8), tensor(8), tensor(0), tensor(5), tensor(8), tensor(9), tensor(9), tensor(6), tensor(8), tensor(3), tensor(0), tensor(3), tensor(7), tensor(5), tensor(2), tensor(4), tensor(8), tensor(6), tensor(6), tensor(2), tensor(7), tensor(5), tensor(6), tensor(9), tensor(4), tensor(6), tensor(3), tensor(7), tensor(4), tensor(7), tensor(3), tensor(9), tensor(6), tensor(0), tensor(2), tensor(0), tensor(8), tensor(9), tensor(2), tensor(8), tensor(7), tensor(9), tensor(4), tensor(4), tensor(8), tensor(5), tensor(8), tensor(2), tensor(9), tensor(8), tensor(9), tensor(7), tensor(0), tensor(4), tensor(1), tensor(8), tensor(7), tensor(1), tensor(7), tensor(0), tensor(9), tensor(8), tensor(2), tensor(6), tensor(3), tensor(3), tensor(5), tensor(6), tensor(1), tensor(6), tensor(4), tensor(5), tensor(2), tensor(3), tensor(0), tensor(1), tensor(8), tensor(6), tensor(3), tensor(5), tensor(7), tensor(4), tensor(1), tensor(1), tensor(0), tensor(3), tensor(3), tensor(7), tensor(4), tensor(0), tensor(5), tensor(1), tensor(9), tensor(1), tensor(2), tensor(4), tensor(5), tensor(9), tensor(3), tensor(6), tensor(1), tensor(6), tensor(8), tensor(0), tensor(2), tensor(9), tensor(2), tensor(4), tensor(3), tensor(8), tensor(1), tensor(0), tensor(2), tensor(6), tensor(8), tensor(5), tensor(1), tensor(0), tensor(1), tensor(9), tensor(4), tensor(7), tensor(3), tensor(1), tensor(4), tensor(2), tensor(4), tensor(3), tensor(6), tensor(8), tensor(8), tensor(1), tensor(7), tensor(2), tensor(8), tensor(3), tensor(6), tensor(4), tensor(5), tensor(5), tensor(9), tensor(9), tensor(4), tensor(0), tensor(8), tensor(1), tensor(4), tensor(2), tensor(9), tensor(5), tensor(2), tensor(6), tensor(5), tensor(5), tensor(1), tensor(0), tensor(7), tensor(9), tensor(2), tensor(4), tensor(8), tensor(2), tensor(3), tensor(5), tensor(8), tensor(5), tensor(3), tensor(4), tensor(9), tensor(2), tensor(7), tensor(2), tensor(4), tensor(7), tensor(8), tensor(8), tensor(5), tensor(0), tensor(6), tensor(2), tensor(0), tensor(3), tensor(0), tensor(8), tensor(7), tensor(8), tensor(8), tensor(2), tensor(2), tensor(8), tensor(8), tensor(0), tensor(8), tensor(2), tensor(1), tensor(9), tensor(8), tensor(4), tensor(3), tensor(4), tensor(4), tensor(6), tensor(5), tensor(9), tensor(1), tensor(5), tensor(6), tensor(4), tensor(4), tensor(8), tensor(2), tensor(3), tensor(1), tensor(1), tensor(4), tensor(9), tensor(6), tensor(3), tensor(7), tensor(6), tensor(9), tensor(4), tensor(8), tensor(4), tensor(2), tensor(5), tensor(2), tensor(4), tensor(7), tensor(9), tensor(9), tensor(4), tensor(0), tensor(7), tensor(7), tensor(7), tensor(9), tensor(5), tensor(9), tensor(8), tensor(4), tensor(1), tensor(5), tensor(5), tensor(2), tensor(2), tensor(2), tensor(5), tensor(5), tensor(8), tensor(6), tensor(1), tensor(8), tensor(9), tensor(2), tensor(5), tensor(5), tensor(7), tensor(9), tensor(6), tensor(1), tensor(7), tensor(3), tensor(1), tensor(7), tensor(8), tensor(6), tensor(8), tensor(0), tensor(6), tensor(1), tensor(2), tensor(6), tensor(5), tensor(5), tensor(4), tensor(4), tensor(8), tensor(8), tensor(6), tensor(3), tensor(2), tensor(2), tensor(6), tensor(7), tensor(5), tensor(4), tensor(1), tensor(7), tensor(4), tensor(4), tensor(4), tensor(9), tensor(1), tensor(1), tensor(6), tensor(2), tensor(4), tensor(1), tensor(2), tensor(8), tensor(2), tensor(4), tensor(9), tensor(0), tensor(4), tensor(3), tensor(2), tensor(3), tensor(5), tensor(2), tensor(0), tensor(5), tensor(2), tensor(2), tensor(2), tensor(3), tensor(2), tensor(4), tensor(6), tensor(9), tensor(7), tensor(1), tensor(5), tensor(2), tensor(7), tensor(9), tensor(6), tensor(8), tensor(3), tensor(4), tensor(7), tensor(0), tensor(6), tensor(0), tensor(8), tensor(0), tensor(7), tensor(1), tensor(9), tensor(4), tensor(0), tensor(9), tensor(5), tensor(4), tensor(2), tensor(2), tensor(7), tensor(0), tensor(3), tensor(3), tensor(5), tensor(3), tensor(9), tensor(0), tensor(7), tensor(8), tensor(4), tensor(2), tensor(6), tensor(4), tensor(8), tensor(2), tensor(8), tensor(5), tensor(0), tensor(6), tensor(0), tensor(4), tensor(6), tensor(7), tensor(3), tensor(1), tensor(7), tensor(0), tensor(1), tensor(0), tensor(0), tensor(6), tensor(8), tensor(7), tensor(4), tensor(6), tensor(9), tensor(9), tensor(7), tensor(7), tensor(3), tensor(5), tensor(0), tensor(7), tensor(4), tensor(5), tensor(1), tensor(8), tensor(6), tensor(8), tensor(9), tensor(2), tensor(9), tensor(9), tensor(1), tensor(5), tensor(3), tensor(0), tensor(7), tensor(5), tensor(7), tensor(5), tensor(3), tensor(7), tensor(9), tensor(4), tensor(6), tensor(9), tensor(8), tensor(0), tensor(2), tensor(3), tensor(7), tensor(4), tensor(9), tensor(0), tensor(3), tensor(5), tensor(7), tensor(3), tensor(7), tensor(4), tensor(1), tensor(6), tensor(0), tensor(7), tensor(6), tensor(3), tensor(1), tensor(0), tensor(4), tensor(2), tensor(2), tensor(4), tensor(4), tensor(3), tensor(6), tensor(1), tensor(9), tensor(7), tensor(2), tensor(7), tensor(5), tensor(5), tensor(4), tensor(9), tensor(9), tensor(8), tensor(6), tensor(2), tensor(3), tensor(8), tensor(3), tensor(2), tensor(2), tensor(8), tensor(1), tensor(0), tensor(7), tensor(3), tensor(7), tensor(4), tensor(1), tensor(0), tensor(6), tensor(9), tensor(9), tensor(2), tensor(6), tensor(0), tensor(4), tensor(5), tensor(1), tensor(4), tensor(5), tensor(2), tensor(1), tensor(2), tensor(7), tensor(9), tensor(5), tensor(1), tensor(3), tensor(6), tensor(3), tensor(7), tensor(0), tensor(5), tensor(8), tensor(2), tensor(3), tensor(3), tensor(0), tensor(3), tensor(5), tensor(5), tensor(4), tensor(2), tensor(1), tensor(8), tensor(8), tensor(4), tensor(9), tensor(8), tensor(2), tensor(6), tensor(6), tensor(0), tensor(1), tensor(1), tensor(6), tensor(9), tensor(5), tensor(6), tensor(2), tensor(1), tensor(8), tensor(1), tensor(8), tensor(5), tensor(6), tensor(6), tensor(7), tensor(1), tensor(4), tensor(0), tensor(2), tensor(1), tensor(8), tensor(1), tensor(4), tensor(7), tensor(7), tensor(0), tensor(8), tensor(1), tensor(9), tensor(8), tensor(0), tensor(6), tensor(8), tensor(7), tensor(4), tensor(9), tensor(3), tensor(8), tensor(6), tensor(2), tensor(1), tensor(8), tensor(1), tensor(7), tensor(8), tensor(4), tensor(5), tensor(6), tensor(9), tensor(2), tensor(3), tensor(2), tensor(7), tensor(7), tensor(4), tensor(2), tensor(0), tensor(0), tensor(7), tensor(4), tensor(8), tensor(3), tensor(9), tensor(7), tensor(5), tensor(5), tensor(4), tensor(1), tensor(4), tensor(8), tensor(2), tensor(6), tensor(3), tensor(9), tensor(5), tensor(9), tensor(8), tensor(7), tensor(1), tensor(7), tensor(1), tensor(8), tensor(3), tensor(7), tensor(3), tensor(4), tensor(4), tensor(5), tensor(4), tensor(4), tensor(4), tensor(3), tensor(9), tensor(4), tensor(2), tensor(4), tensor(2), tensor(1), tensor(1), tensor(1), tensor(4), tensor(7), tensor(2), tensor(5), tensor(5), tensor(9), tensor(2), tensor(7), tensor(5), tensor(9), tensor(3), tensor(2), tensor(4), tensor(7), tensor(1), tensor(6), tensor(5), tensor(9), tensor(2), tensor(5), tensor(9), tensor(1), tensor(4), tensor(1), tensor(6), tensor(8), tensor(4), tensor(5), tensor(8), tensor(2), tensor(5), tensor(8), tensor(9), tensor(9), tensor(1), tensor(1), tensor(9), tensor(7), tensor(9), tensor(7), tensor(3), tensor(8), tensor(5), tensor(9), tensor(3), tensor(1), tensor(9), tensor(8), tensor(3), tensor(4), tensor(3), tensor(8), tensor(1), tensor(7), tensor(4), tensor(0), tensor(7), tensor(6), tensor(6), tensor(2), tensor(4), tensor(6), tensor(9), tensor(4), tensor(2), tensor(9), tensor(2), tensor(6), tensor(2), tensor(5), tensor(9), tensor(6), tensor(1), tensor(2), tensor(5), tensor(7), tensor(0), tensor(2), tensor(9), tensor(8), tensor(6), tensor(7), tensor(1), tensor(3), tensor(7), tensor(1), tensor(8), tensor(8), tensor(1), tensor(4), tensor(7), tensor(1), tensor(7), tensor(5), tensor(0), tensor(0), tensor(4), tensor(4), tensor(7), tensor(2), tensor(6), tensor(3), tensor(3), tensor(4), tensor(0), tensor(0), tensor(7), tensor(6), tensor(2), tensor(8), tensor(4), tensor(7), tensor(7), tensor(5), tensor(5), tensor(8), tensor(2), tensor(5), tensor(9), tensor(3), tensor(6), tensor(0), tensor(8), tensor(4), tensor(1), tensor(8), tensor(4), tensor(9), tensor(6), tensor(5), tensor(6), tensor(3), tensor(8), tensor(0), tensor(9), tensor(8), tensor(5), tensor(4), tensor(5), tensor(9), tensor(3), tensor(1), tensor(7), tensor(7), tensor(2), tensor(2), tensor(9), tensor(4), tensor(1), tensor(6), tensor(2), tensor(6), tensor(9), tensor(7), tensor(9), tensor(9), tensor(0), tensor(3), tensor(2), tensor(1), tensor(2), tensor(5), tensor(1), tensor(1), tensor(2), tensor(0), tensor(4), tensor(7), tensor(7), tensor(7), tensor(5), tensor(5), tensor(0), tensor(0), tensor(0), tensor(2), tensor(0), tensor(4), tensor(6), tensor(1), tensor(5), tensor(3), tensor(5), tensor(9), tensor(9), tensor(6), tensor(5), tensor(9), tensor(2), tensor(0), tensor(3), tensor(3), tensor(9), tensor(0), tensor(6), tensor(2), tensor(9), tensor(7), tensor(2), tensor(4), tensor(8), tensor(3), tensor(4), tensor(7), tensor(8), tensor(7), tensor(1), tensor(2), tensor(6), tensor(7), tensor(4), tensor(9), tensor(5), tensor(3), tensor(8), tensor(9), tensor(2), tensor(3), tensor(5), tensor(8), tensor(4), tensor(0), tensor(3), tensor(6), tensor(2), tensor(3), tensor(1), tensor(0), tensor(7), tensor(3), tensor(0), tensor(0), tensor(7), tensor(5), tensor(2), tensor(7), tensor(9), tensor(2), tensor(5), tensor(8), tensor(9), tensor(3), tensor(6), tensor(8), tensor(6), tensor(2), tensor(2), tensor(2), tensor(7), tensor(2), tensor(1), tensor(9), tensor(1), tensor(9), tensor(4), tensor(7), tensor(6), tensor(4), tensor(2), tensor(0), tensor(5), tensor(9), tensor(7), tensor(1), tensor(6), tensor(5), tensor(8), tensor(7), tensor(0), tensor(4), tensor(1), tensor(1), tensor(1), tensor(9), tensor(8), tensor(9), tensor(1), tensor(5), tensor(4), tensor(3), tensor(8), tensor(4), tensor(6), tensor(1), tensor(2), tensor(8), tensor(7), tensor(6), tensor(5), tensor(3), tensor(8), tensor(0), tensor(3), tensor(0), tensor(7), tensor(7), tensor(6), tensor(8), tensor(1), tensor(9), tensor(0), tensor(4), tensor(6), tensor(6), tensor(4), tensor(8), tensor(1), tensor(3), tensor(3), tensor(8), tensor(2), tensor(7), tensor(5), tensor(2), tensor(9), tensor(9), tensor(0), tensor(6), tensor(3), tensor(9), tensor(9), tensor(1), tensor(8), tensor(3), tensor(7), tensor(7), tensor(7), tensor(0), tensor(8), tensor(9), tensor(9), tensor(8), tensor(3), tensor(5), tensor(2), tensor(1), tensor(7), tensor(3), tensor(3), tensor(9), tensor(1), tensor(1), tensor(8), tensor(0), tensor(5), tensor(1), tensor(4), tensor(4), tensor(1), tensor(8), tensor(7), tensor(6), tensor(2), tensor(7), tensor(6), tensor(2), tensor(6), tensor(1), tensor(5), tensor(0), tensor(2), tensor(6), tensor(6), tensor(7), tensor(0), tensor(4), tensor(8), tensor(3), tensor(4), tensor(0), tensor(7), tensor(9), tensor(9), tensor(3), tensor(8), tensor(3), tensor(5), tensor(2), tensor(4), tensor(4), tensor(3), tensor(2), tensor(0), tensor(4), tensor(4), tensor(6), tensor(3), tensor(1), tensor(7), tensor(9), tensor(8), tensor(3), tensor(5), tensor(4), tensor(0), tensor(0), tensor(2), tensor(1), tensor(7), tensor(2), tensor(8), tensor(3), tensor(3), tensor(8), tensor(3), tensor(7), tensor(8), tensor(1), tensor(9), tensor(7), tensor(0), tensor(9), tensor(1), tensor(5), tensor(2), tensor(8), tensor(9), tensor(5), tensor(6), tensor(7), tensor(5), tensor(9), tensor(6), tensor(4), tensor(5), tensor(9), tensor(8), tensor(3), tensor(2), tensor(8), tensor(8), tensor(9), tensor(9), tensor(6), tensor(8), tensor(6), tensor(1), tensor(4), tensor(1), tensor(1), tensor(3), tensor(2), tensor(9), tensor(3), tensor(4), tensor(4), tensor(7), tensor(4), tensor(3), tensor(9), tensor(0), tensor(6), tensor(0), tensor(6), tensor(6), tensor(8), tensor(5), tensor(6), tensor(9), tensor(9), tensor(3), tensor(5), tensor(2), tensor(2), tensor(6), tensor(7), tensor(7), tensor(5), tensor(7), tensor(8), tensor(6), tensor(6), tensor(9), tensor(5), tensor(3), tensor(3), tensor(0), tensor(3), tensor(5), tensor(7), tensor(7), tensor(3), tensor(6), tensor(9), tensor(7), tensor(9), tensor(8), tensor(2), tensor(1), tensor(4), tensor(0), tensor(6), tensor(3), tensor(3), tensor(7), tensor(7), tensor(1), tensor(1), tensor(0), tensor(1), tensor(4), tensor(7), tensor(7), tensor(6), tensor(9), tensor(4), tensor(7), tensor(1), tensor(8), tensor(9), tensor(8), tensor(3), tensor(4), tensor(6), tensor(3), tensor(1), tensor(3), tensor(2), tensor(4), tensor(2), tensor(1), tensor(9), tensor(6), tensor(4), tensor(9), tensor(9), tensor(9), tensor(2), tensor(9), tensor(3), tensor(2), tensor(8), tensor(7), tensor(0), tensor(3), tensor(2), tensor(3), tensor(0), tensor(8), tensor(2), tensor(6), tensor(5), tensor(8), tensor(5), tensor(5), tensor(3), tensor(6), tensor(4), tensor(4), tensor(6), tensor(2), tensor(4), tensor(4), tensor(5), tensor(3), tensor(6), tensor(7), tensor(8), tensor(4), tensor(9), tensor(3), tensor(0), tensor(2), tensor(8), tensor(7), tensor(7), tensor(8), tensor(9), tensor(4), tensor(4), tensor(7), tensor(9), tensor(6), tensor(6), tensor(6), tensor(0), tensor(7), tensor(3), tensor(2), tensor(9), tensor(2), tensor(2), tensor(3), tensor(6), tensor(2), tensor(3), tensor(9), tensor(3), tensor(7), tensor(3), tensor(8), tensor(8), tensor(2), tensor(0), tensor(2), tensor(3), tensor(4), tensor(3), tensor(9), tensor(3), tensor(8), tensor(5), tensor(5), tensor(9), tensor(4), tensor(5), tensor(4), tensor(1), tensor(9), tensor(7), tensor(5), tensor(8), tensor(0), tensor(9), tensor(4), tensor(8), tensor(4), tensor(3), tensor(7), tensor(1), tensor(4), tensor(0), tensor(1), tensor(2), tensor(1), tensor(4), tensor(4), tensor(0), tensor(7), tensor(8), tensor(0), tensor(8), tensor(5), tensor(1), tensor(6), tensor(2), tensor(2), tensor(2), tensor(6), tensor(7), tensor(8), tensor(7), tensor(5), tensor(4), tensor(4), tensor(6), tensor(9), tensor(5), tensor(9), tensor(6), tensor(6), tensor(3), tensor(3), tensor(7), tensor(4), tensor(2), tensor(9), tensor(1), tensor(5), tensor(2), tensor(9), tensor(9), tensor(0), tensor(3), tensor(7), tensor(8), tensor(0), tensor(2), tensor(8), tensor(2), tensor(9), tensor(8), tensor(4), tensor(0), tensor(9), tensor(7), tensor(7), tensor(8), tensor(8), tensor(7), tensor(4), tensor(2), tensor(1), tensor(1), tensor(6), tensor(3), tensor(0), tensor(0), tensor(4), tensor(8), tensor(2), tensor(7), tensor(7), tensor(4), tensor(6), tensor(7), tensor(0), tensor(9), tensor(6), tensor(2), tensor(6), tensor(5), tensor(9), tensor(0), tensor(1), tensor(6), tensor(0), tensor(2), tensor(8), tensor(9), tensor(0), tensor(5), tensor(3), tensor(1), tensor(5), tensor(6), tensor(8), tensor(5), tensor(4), tensor(8), tensor(9), tensor(8), tensor(4), tensor(3), tensor(7), tensor(6), tensor(1), tensor(7), tensor(7), tensor(6), tensor(6), tensor(5), tensor(9), tensor(1), tensor(7), tensor(3), tensor(1), tensor(5), tensor(6), tensor(3), tensor(0), tensor(5), tensor(5), tensor(7), tensor(1), tensor(6), tensor(1), tensor(1), tensor(1), tensor(4), tensor(5), tensor(6), tensor(3), tensor(9), tensor(2), tensor(3), tensor(3), tensor(0), tensor(1), tensor(8), tensor(6), tensor(0), tensor(6), tensor(8), tensor(4), tensor(3), tensor(0), tensor(4), tensor(1), tensor(3), tensor(4), tensor(9), tensor(5), tensor(9), tensor(6), tensor(1), tensor(6), tensor(6), tensor(1), tensor(8), tensor(4), tensor(3), tensor(9), tensor(7), tensor(3), tensor(7), tensor(1), tensor(4), tensor(7), tensor(5), tensor(8), tensor(3), tensor(2), tensor(3), tensor(7), tensor(4), tensor(2), tensor(8), tensor(5), tensor(6), tensor(9), tensor(6), tensor(9), tensor(8), tensor(8), tensor(4), tensor(0), tensor(2), tensor(3), tensor(9), tensor(3), tensor(5), tensor(5), tensor(3), tensor(5), tensor(0), tensor(0), tensor(2), tensor(5), tensor(1), tensor(6), tensor(7), tensor(1), tensor(3), tensor(5), tensor(3), tensor(1), tensor(2), tensor(9), tensor(0), tensor(1), tensor(4), tensor(1), tensor(5), tensor(7), tensor(1), tensor(2), tensor(5), tensor(0), tensor(3), tensor(8), tensor(7), tensor(7), tensor(9), tensor(2), tensor(4), tensor(1), tensor(1), tensor(4), tensor(7), tensor(4), tensor(3), tensor(3), tensor(9), tensor(0), tensor(6), tensor(8), tensor(7), tensor(6), tensor(2), tensor(1), tensor(7), tensor(4), tensor(9), tensor(2), tensor(9), tensor(2), tensor(2), tensor(3), tensor(5), tensor(5), tensor(8), tensor(1), tensor(0), tensor(0), tensor(5), tensor(6), tensor(2), tensor(2), tensor(3), tensor(3), tensor(2), tensor(1), tensor(7), tensor(2), tensor(8), tensor(2), tensor(2), tensor(2), tensor(2), tensor(3), tensor(4), tensor(2), tensor(6), tensor(8), tensor(6), tensor(4), tensor(4), tensor(8), tensor(7), tensor(3), tensor(3), tensor(3), tensor(9), tensor(3), tensor(0), tensor(7), tensor(1), tensor(2), tensor(5), tensor(3), tensor(3), tensor(1), tensor(7), tensor(2), tensor(9), tensor(9), tensor(3), tensor(3), tensor(1), tensor(1), tensor(6), tensor(4), tensor(5), tensor(6), tensor(0), tensor(7), tensor(4), tensor(2), tensor(7), tensor(2), tensor(3), tensor(3), tensor(0), tensor(9), tensor(5), tensor(8), tensor(3), tensor(2), tensor(2), tensor(1), tensor(8), tensor(4), tensor(8), tensor(1), tensor(0), tensor(7), tensor(0), tensor(5), tensor(7), tensor(7), tensor(2), tensor(6), tensor(6), tensor(9), tensor(1), tensor(9), tensor(4), tensor(6), tensor(2), tensor(1), tensor(7), tensor(0), tensor(1), tensor(7), tensor(0), tensor(0), tensor(8), tensor(2), tensor(2), tensor(9), tensor(5), tensor(1), tensor(2), tensor(7), tensor(4), tensor(7), tensor(6), tensor(7), tensor(5), tensor(6), tensor(9), tensor(8), tensor(7), tensor(0), tensor(8), tensor(8), tensor(3), tensor(9), tensor(6), tensor(6), tensor(0), tensor(1), tensor(1), tensor(5), tensor(9), tensor(4), tensor(3), tensor(6), tensor(0), tensor(3), tensor(5), tensor(2), tensor(1), tensor(7), tensor(0), tensor(8), tensor(0), tensor(0), tensor(2), tensor(1), tensor(9), tensor(3), tensor(9), tensor(4), tensor(2), tensor(7), tensor(0), tensor(7), tensor(7), tensor(7), tensor(7), tensor(4), tensor(8), tensor(7), tensor(1), tensor(5), tensor(8), tensor(8), tensor(6), tensor(0), tensor(7), tensor(4), tensor(9), tensor(6), tensor(8), tensor(3), tensor(3), tensor(6), tensor(1), tensor(7), tensor(4), tensor(0), tensor(5), tensor(1), tensor(6), tensor(0), tensor(7), tensor(1), tensor(9), tensor(6), tensor(3), tensor(6), tensor(2), tensor(5), tensor(4), tensor(1), tensor(6), tensor(0), tensor(1), tensor(7), tensor(3), tensor(8), tensor(7), tensor(9), tensor(1), tensor(4), tensor(6), tensor(7), tensor(0), tensor(8), tensor(0), tensor(9), tensor(1), tensor(5), tensor(7), tensor(8), tensor(9), tensor(7), tensor(4), tensor(8), tensor(5), tensor(6), tensor(0), tensor(8), tensor(3), tensor(8), tensor(4), tensor(5), tensor(3), tensor(1), tensor(6), tensor(0), tensor(3), tensor(6), tensor(0), tensor(1), tensor(9), tensor(2), tensor(9), tensor(5), tensor(2), tensor(7), tensor(4), tensor(6), tensor(5), tensor(9), tensor(3), tensor(1), tensor(4), tensor(2), tensor(3), tensor(4), tensor(3), tensor(7), tensor(7), tensor(3), tensor(2), tensor(4), tensor(6), tensor(1), tensor(4), tensor(4), tensor(7), tensor(9), tensor(8), tensor(7), tensor(7), tensor(0), tensor(1), tensor(1), tensor(1), tensor(8), tensor(9), tensor(5), tensor(4), tensor(3), tensor(0), tensor(2), tensor(0), tensor(6), tensor(9), tensor(7), tensor(4), tensor(3), tensor(8), tensor(6), tensor(3), tensor(8), tensor(3), tensor(0), tensor(2), tensor(0), tensor(7), tensor(8), tensor(4), tensor(6), tensor(8), tensor(7), tensor(7), tensor(4), tensor(6), tensor(5), tensor(5), tensor(6), tensor(8), tensor(1), tensor(7), tensor(2), tensor(6), tensor(6), tensor(7), tensor(6), tensor(0), tensor(9), tensor(1), tensor(1), tensor(0), tensor(8), tensor(7), tensor(1), tensor(2), tensor(1), tensor(2), tensor(2), tensor(0), tensor(0), tensor(9), tensor(8), tensor(3), tensor(4), tensor(0), tensor(7), tensor(4), tensor(6), tensor(2), tensor(8), tensor(1), tensor(3), tensor(1), tensor(6), tensor(7), tensor(9), tensor(0), tensor(9), tensor(4), tensor(7), tensor(5), tensor(5), tensor(6), tensor(6), tensor(8), tensor(5), tensor(9), tensor(2), tensor(8), tensor(0), tensor(2), tensor(2), tensor(2), tensor(3), tensor(1), tensor(0), tensor(4), tensor(9), tensor(4), tensor(8), tensor(8), tensor(6), tensor(6), tensor(5), tensor(4), tensor(9), tensor(1), tensor(1), tensor(5), tensor(5), tensor(2), tensor(8), tensor(7), tensor(9), tensor(2), tensor(5), tensor(7), tensor(6), tensor(9), tensor(7), tensor(9), tensor(0), tensor(5), tensor(6), tensor(7), tensor(1), tensor(2), tensor(8), tensor(3), tensor(1), tensor(3), tensor(1), tensor(6), tensor(4), tensor(6), tensor(5), tensor(8), tensor(7), tensor(1), tensor(0), tensor(6), tensor(3), tensor(9), tensor(8), tensor(4), tensor(8), tensor(3), tensor(2), tensor(1), tensor(4), tensor(1), tensor(4), tensor(9), tensor(2), tensor(8), tensor(4), tensor(8), tensor(8), tensor(4), tensor(9), tensor(8), tensor(4), tensor(4), tensor(9), tensor(3), tensor(0), tensor(7), tensor(9), tensor(9), tensor(5), tensor(1), tensor(1), tensor(4), tensor(0), tensor(2), tensor(9), tensor(6), tensor(4), tensor(8), tensor(8), tensor(1), tensor(2), tensor(0), tensor(8), tensor(0), tensor(2), tensor(6), tensor(8), tensor(9), tensor(5), tensor(0), tensor(7), tensor(7), tensor(8), tensor(4), tensor(1), tensor(3), tensor(7), tensor(0), tensor(1), tensor(6), tensor(8), tensor(0), tensor(6), tensor(9), tensor(2), tensor(9), tensor(4), tensor(1), tensor(7), tensor(2), tensor(3), tensor(9), tensor(0), tensor(3), tensor(9), tensor(4), tensor(4), tensor(9), tensor(8), tensor(5), tensor(6), tensor(4), tensor(2), tensor(9), tensor(4), tensor(2), tensor(8), tensor(1), tensor(6), tensor(5), tensor(2), tensor(1), tensor(4), tensor(2), tensor(8), tensor(8), tensor(9), tensor(9), tensor(9), tensor(6), tensor(1), tensor(7), tensor(6), tensor(4), tensor(8), tensor(9), tensor(3), tensor(1), tensor(7), tensor(4), tensor(1), tensor(2), tensor(1), tensor(9), tensor(4), tensor(2), tensor(3), tensor(9), tensor(9), tensor(1), tensor(3), tensor(7), tensor(7), tensor(6), tensor(8), tensor(0), tensor(2), tensor(2), tensor(0), tensor(9), tensor(2), tensor(3), tensor(8), tensor(6), tensor(1), tensor(3), tensor(9), tensor(6), tensor(7), tensor(6), tensor(9), tensor(9), tensor(5), tensor(6), tensor(4), tensor(5), tensor(2), tensor(7), tensor(8), tensor(9), tensor(6), tensor(6), tensor(6), tensor(2), tensor(1), tensor(0), tensor(0), tensor(7), tensor(9), tensor(0), tensor(4), tensor(6), tensor(3), tensor(7), tensor(7), tensor(1), tensor(8), tensor(1), tensor(9), tensor(1), tensor(2), tensor(4), tensor(2), tensor(9), tensor(7), tensor(4), tensor(9), tensor(9), tensor(0), tensor(6), tensor(4), tensor(6), tensor(3), tensor(9), tensor(3), tensor(4), tensor(0), tensor(7), tensor(3), tensor(1), tensor(9), tensor(5), tensor(5), tensor(7), tensor(1), tensor(4), tensor(5), tensor(6), tensor(3), tensor(9), tensor(4), tensor(6), tensor(0), tensor(3), tensor(1), tensor(0), tensor(5), tensor(9), tensor(8), tensor(9), tensor(7), tensor(5), tensor(3), tensor(5), tensor(4), tensor(8), tensor(9), tensor(7), tensor(7), tensor(1), tensor(8), tensor(7), tensor(9), tensor(2), tensor(2), tensor(1), tensor(8), tensor(2), tensor(3), tensor(2), tensor(7), tensor(4), tensor(1), tensor(3), tensor(9), tensor(4), tensor(0), tensor(2), tensor(1), tensor(7), tensor(5), tensor(6), tensor(7), tensor(0), tensor(2), tensor(0), tensor(0), tensor(6), tensor(2), tensor(1), tensor(1), tensor(9), tensor(4), tensor(2), tensor(9), tensor(0), tensor(6), tensor(9), tensor(5), tensor(5), tensor(5), tensor(0), tensor(9), tensor(2), tensor(9), tensor(2), tensor(9), tensor(6), tensor(3), tensor(6), tensor(2), tensor(6), tensor(9), tensor(6), tensor(3), tensor(4), tensor(3), tensor(5), tensor(9), tensor(7), tensor(0), tensor(8), tensor(8), tensor(1), tensor(6), tensor(5), tensor(1), tensor(6), tensor(6), tensor(2), tensor(7), tensor(8), tensor(3), tensor(9), tensor(1), tensor(8), tensor(5), tensor(0), tensor(8), tensor(6), tensor(5), tensor(2), tensor(6), tensor(6), tensor(1), tensor(3), tensor(5), tensor(5), tensor(4), tensor(4), tensor(5), tensor(1), tensor(9), tensor(2), tensor(9), tensor(8), tensor(2), tensor(6), tensor(0), tensor(4), tensor(4), tensor(4), tensor(8), tensor(8), tensor(2), tensor(2), tensor(7), tensor(3), tensor(2), tensor(1), tensor(1), tensor(5), tensor(5), tensor(2), tensor(6), tensor(6), tensor(3), tensor(8), tensor(5), tensor(2), tensor(6), tensor(8), tensor(4), tensor(6), tensor(7), tensor(0), tensor(1), tensor(9), tensor(4), tensor(3), tensor(3), tensor(3), tensor(1), tensor(8), tensor(4), tensor(6), tensor(7), tensor(4), tensor(6), tensor(7), tensor(3), tensor(4), tensor(5), tensor(9), tensor(4), tensor(0), tensor(5), tensor(6), tensor(6), tensor(1), tensor(7), tensor(8), tensor(6), tensor(1), tensor(7), tensor(3), tensor(8), tensor(4), tensor(4), tensor(3), tensor(2), tensor(7), tensor(2), tensor(4), tensor(9), tensor(8), tensor(2), tensor(4), tensor(5), tensor(8), tensor(8), tensor(4), tensor(8), tensor(9), tensor(6), tensor(8), tensor(4), tensor(3), tensor(2), tensor(7), tensor(5), tensor(1), tensor(1), tensor(1), tensor(8), tensor(6), tensor(5), tensor(4), tensor(0), tensor(6), tensor(8), tensor(4), tensor(9), tensor(6), tensor(2), tensor(0), tensor(8), tensor(5), tensor(8), tensor(9), tensor(7), tensor(9), tensor(8), tensor(3), tensor(1), tensor(1), tensor(6), tensor(1), tensor(5), tensor(6), tensor(2), tensor(3), tensor(6), tensor(4), tensor(0), tensor(2), tensor(2), tensor(1), tensor(0), tensor(1), tensor(0), tensor(5), tensor(9), tensor(9), tensor(8), tensor(6), tensor(8), tensor(1), tensor(0), tensor(9), tensor(2), tensor(6), tensor(6), tensor(3), tensor(7), tensor(1), tensor(5), tensor(8), tensor(5), tensor(7), tensor(5), tensor(4), tensor(5), tensor(3), tensor(8), tensor(0), tensor(1), tensor(7), tensor(9), tensor(8), tensor(2), tensor(5), tensor(7), tensor(2), tensor(9), tensor(4), tensor(0), tensor(7), tensor(7), tensor(5), tensor(8), tensor(4), tensor(5), tensor(9), tensor(2), tensor(1), tensor(0), tensor(1), tensor(2), tensor(5), tensor(1), tensor(4), tensor(3), tensor(8), tensor(3), tensor(6), tensor(3), tensor(5), tensor(8), tensor(3), tensor(9), tensor(6), tensor(4), tensor(6), tensor(3), tensor(1), tensor(0), tensor(7), tensor(1), tensor(9), tensor(5), tensor(5), tensor(5), tensor(5), tensor(4), tensor(0), tensor(2), tensor(1), tensor(1), tensor(7), tensor(3), tensor(1), tensor(5), tensor(8), tensor(6), tensor(7), tensor(5), tensor(0), tensor(5), tensor(6), tensor(3), tensor(8), tensor(8), tensor(6), tensor(0), tensor(6), tensor(1), tensor(3), tensor(8), tensor(1), tensor(4), tensor(6), tensor(6), tensor(6), tensor(3), tensor(4), tensor(1), tensor(9), tensor(3), tensor(1), tensor(3), tensor(8), tensor(3), tensor(5), tensor(6), tensor(2), tensor(2), tensor(1), tensor(7), tensor(0), tensor(1), tensor(2), tensor(1), tensor(0), tensor(6), tensor(2), tensor(7), tensor(9), tensor(0), tensor(1), tensor(3), tensor(7), tensor(9), tensor(7), tensor(0), tensor(6), tensor(1), tensor(0), tensor(3), tensor(6), tensor(0), tensor(1), tensor(5), tensor(4), tensor(2), tensor(2), tensor(3), tensor(2), tensor(0), tensor(0), tensor(3), tensor(7), tensor(2), tensor(0), tensor(8), tensor(1), tensor(9), tensor(2), tensor(7), tensor(4), tensor(3), tensor(7), tensor(3), tensor(9), tensor(8), tensor(5), tensor(3), tensor(2), tensor(1), tensor(3), tensor(0), tensor(1), tensor(5), tensor(3), tensor(7), tensor(8), tensor(9), tensor(7), tensor(9), tensor(8), tensor(7), tensor(5), tensor(3), tensor(9), tensor(7), tensor(5), tensor(0), tensor(5), tensor(0), tensor(2), tensor(2), tensor(2), tensor(7), tensor(3), tensor(6), tensor(8), tensor(3), tensor(3), tensor(4), tensor(2), tensor(3), tensor(5), tensor(1), tensor(1), tensor(6), tensor(9), tensor(7), tensor(4), tensor(4), tensor(8), tensor(1), tensor(4), tensor(7), tensor(1), tensor(3), tensor(1), tensor(7), tensor(1), tensor(8), tensor(2), tensor(1), tensor(6), tensor(2), tensor(1), tensor(3), tensor(8), tensor(8), tensor(8), tensor(5), tensor(3), tensor(4), tensor(1), tensor(6), tensor(6), tensor(8), tensor(0), tensor(0), tensor(6), tensor(9), tensor(9), tensor(1), tensor(6), tensor(3), tensor(8), tensor(5), tensor(3), tensor(6), tensor(1), tensor(4), tensor(6), tensor(3), tensor(6), tensor(8), tensor(6), tensor(5), tensor(2), tensor(1), tensor(8), tensor(9), tensor(2), tensor(3), tensor(8), tensor(4), tensor(2), tensor(5), tensor(7), tensor(2), tensor(2), tensor(6), tensor(3), tensor(0), tensor(2), tensor(9), tensor(3), tensor(8), tensor(8), tensor(7), tensor(2), tensor(4), tensor(6), tensor(6), tensor(3), tensor(8), tensor(8), tensor(0), tensor(5), tensor(9), tensor(5), tensor(6), tensor(1), tensor(1), tensor(4), tensor(7), tensor(0), tensor(1), tensor(5), tensor(0), tensor(7), tensor(4), tensor(1), tensor(5), tensor(5), tensor(9), tensor(8), tensor(3), tensor(4), tensor(1), tensor(3), tensor(7), tensor(9), tensor(2), tensor(0), tensor(1), tensor(8), tensor(0), tensor(3), tensor(5), tensor(8), tensor(1), tensor(3), tensor(9), tensor(1), tensor(5), tensor(3), tensor(2), tensor(5), tensor(7), tensor(9), tensor(1), tensor(0), tensor(3), tensor(3), tensor(9), tensor(7), tensor(2), tensor(1), tensor(4), tensor(8), tensor(7), tensor(5), tensor(1), tensor(9), tensor(0), tensor(4), tensor(7), tensor(8), tensor(6), tensor(3), tensor(3), tensor(9), tensor(4), tensor(5), tensor(2), tensor(8), tensor(0), tensor(4), tensor(3), tensor(9), tensor(9), tensor(8), tensor(3), tensor(4), tensor(9), tensor(9), tensor(1), tensor(1), tensor(9), tensor(3), tensor(1), tensor(0), tensor(8), tensor(6), tensor(4), tensor(4), tensor(6), tensor(4), tensor(0), tensor(1), tensor(7), tensor(6), tensor(1), tensor(3), tensor(0), tensor(6), tensor(2), tensor(0), tensor(6), tensor(5), tensor(7), tensor(3), tensor(0), tensor(4), tensor(7), tensor(3), tensor(3), tensor(7), tensor(2), tensor(9), tensor(9), tensor(6), tensor(4), tensor(3), tensor(2), tensor(0), tensor(5), tensor(0), tensor(5), tensor(8), tensor(4), tensor(3), tensor(1), tensor(1), tensor(4), tensor(1), tensor(9), tensor(7), tensor(6), tensor(3), tensor(1), tensor(5), tensor(7), tensor(9), tensor(3), tensor(0), tensor(0), tensor(5), tensor(5), tensor(3), tensor(2), tensor(7), tensor(2), tensor(3), tensor(8), tensor(4), tensor(2), tensor(3), tensor(9), tensor(1), tensor(8), tensor(5), tensor(3), tensor(2), tensor(1), tensor(3), tensor(0), tensor(5), tensor(5), tensor(7), tensor(1), tensor(1), tensor(6), tensor(1), tensor(4), tensor(0), tensor(1), tensor(9), tensor(3), tensor(8), tensor(7), tensor(2), tensor(0), tensor(6), tensor(2), tensor(6), tensor(7), tensor(3), tensor(8), tensor(1), tensor(3), tensor(5), tensor(7), tensor(7), tensor(3), tensor(1), tensor(2), tensor(0), tensor(0), tensor(2), tensor(9), tensor(0), tensor(5), tensor(3), tensor(2), tensor(7), tensor(2), tensor(2), tensor(3), tensor(7), tensor(6), tensor(1), tensor(4), tensor(4), tensor(4), tensor(6), tensor(9), tensor(4), tensor(2), tensor(8), tensor(1), tensor(4), tensor(4), tensor(3), tensor(0), tensor(2), tensor(2), tensor(3), tensor(2), tensor(6), tensor(9), tensor(1), tensor(4), tensor(9), tensor(1), tensor(1), tensor(1), tensor(4), tensor(5), tensor(4), tensor(6), tensor(1), tensor(8), tensor(7), tensor(4), tensor(0), tensor(5), tensor(0), tensor(6), tensor(7), tensor(3), tensor(2), tensor(0), tensor(3), tensor(5), tensor(7), tensor(0), tensor(2), tensor(1), tensor(3), tensor(0), tensor(1), tensor(9), tensor(8), tensor(1), tensor(9), tensor(6), tensor(3), tensor(7), tensor(5), tensor(8), tensor(8), tensor(0), tensor(5), tensor(1), tensor(2), tensor(8), tensor(7), tensor(4), tensor(8), tensor(3), tensor(6), tensor(9), tensor(5), tensor(5), tensor(9), tensor(1), tensor(9), tensor(8), tensor(9), tensor(3), tensor(4), tensor(6), tensor(1), tensor(7), tensor(9), tensor(7), tensor(0), tensor(3), tensor(0), tensor(2), tensor(3), tensor(8), tensor(2), tensor(1), tensor(0), tensor(0), tensor(4), tensor(6), tensor(1), tensor(0), tensor(3), tensor(3), tensor(7), tensor(4), tensor(2), tensor(9), tensor(3), tensor(0), tensor(8), tensor(9), tensor(4), tensor(2), tensor(7), tensor(8), tensor(9), tensor(5), tensor(7), tensor(1), tensor(6), tensor(4), tensor(0), tensor(1), tensor(7), tensor(6), tensor(7), tensor(1), tensor(3), tensor(1), tensor(2), tensor(9), tensor(7), tensor(2), tensor(2), tensor(3), tensor(4), tensor(6), tensor(2), tensor(5), tensor(3), tensor(1), tensor(0), tensor(2), tensor(8), tensor(4), tensor(1), tensor(8), tensor(4), tensor(1), tensor(2), tensor(5), tensor(4), tensor(8), tensor(2), tensor(0), tensor(2), tensor(6), tensor(7), tensor(2), tensor(4), tensor(5), tensor(9), tensor(7), tensor(2), tensor(2), tensor(2), tensor(8), tensor(7), tensor(1), tensor(8), tensor(5), tensor(2), tensor(1), tensor(4), tensor(6), tensor(3), tensor(6), tensor(2), tensor(6), tensor(3), tensor(0), tensor(3), tensor(7), tensor(3), tensor(0), tensor(6), tensor(1), tensor(2), tensor(6), tensor(7), tensor(9), tensor(7), tensor(2), tensor(0), tensor(8), tensor(0), tensor(1), tensor(9), tensor(5), tensor(6), tensor(6), tensor(2), tensor(9), tensor(3), tensor(2), tensor(0), tensor(9), tensor(5), tensor(3), tensor(4), tensor(7), tensor(9), tensor(0), tensor(2), tensor(8), tensor(0), tensor(9), tensor(1), tensor(1), tensor(0), tensor(6), tensor(3), tensor(8), tensor(8), tensor(1), tensor(1), tensor(8), tensor(6), tensor(6), tensor(4), tensor(4), tensor(3), tensor(7), tensor(1), tensor(2), tensor(1), tensor(0), tensor(7), tensor(4), tensor(7), tensor(1), tensor(5), tensor(7), tensor(3), tensor(4), tensor(1), tensor(2), tensor(4), tensor(1), tensor(2), tensor(3), tensor(1), tensor(9), tensor(8), tensor(9), tensor(3), tensor(9), tensor(1), tensor(7), tensor(8), tensor(9), tensor(9), tensor(5), tensor(9), tensor(7), tensor(5), tensor(6), tensor(6), tensor(1), tensor(2), tensor(3), tensor(8), tensor(1), tensor(1), tensor(3), tensor(6), tensor(8), tensor(5), tensor(8), tensor(6), tensor(7), tensor(0), tensor(6), tensor(2), tensor(7), tensor(8), tensor(6), tensor(5), tensor(8), tensor(1), tensor(7), tensor(2), tensor(7), tensor(4), tensor(1), tensor(7), tensor(6), tensor(8), tensor(2), tensor(4), tensor(4), tensor(1), tensor(1), tensor(9), tensor(5), tensor(9), tensor(7), tensor(0), tensor(9), tensor(6), tensor(1), tensor(4), tensor(3), tensor(8), tensor(7), tensor(3), tensor(9), tensor(9), tensor(4), tensor(7), tensor(1), tensor(7), tensor(6), tensor(9), tensor(8), tensor(4), tensor(4), tensor(2), tensor(7), tensor(0), tensor(3), tensor(7), tensor(8), tensor(0), tensor(7), tensor(9), tensor(7), tensor(8), tensor(1), tensor(1), tensor(0), tensor(6), tensor(9), tensor(2), tensor(4), tensor(5), tensor(7), tensor(3), tensor(3), tensor(8), tensor(2), tensor(6), tensor(1), tensor(1), tensor(7), tensor(2), tensor(7), tensor(0), tensor(0), tensor(8), tensor(0), tensor(2), tensor(5), tensor(4), tensor(1), tensor(3), tensor(7), tensor(0), tensor(8), tensor(6), tensor(9), tensor(3), tensor(4), tensor(1), tensor(6), tensor(4), tensor(1), tensor(7), tensor(9), tensor(9), tensor(1), tensor(5), tensor(8), tensor(2), tensor(5), tensor(1), tensor(0), tensor(7), tensor(5), tensor(6), tensor(2), tensor(2), tensor(9), tensor(9), tensor(5), tensor(9), tensor(9), tensor(9), tensor(3), tensor(2), tensor(5), tensor(8), tensor(5), tensor(2), tensor(5), tensor(3), tensor(7), tensor(2), tensor(0), tensor(3), tensor(1), tensor(3), tensor(9), tensor(7), tensor(0), tensor(1), tensor(0), tensor(7), tensor(9), tensor(9), tensor(5), tensor(6), tensor(9), tensor(2), tensor(4), tensor(3), tensor(8), tensor(3), tensor(7), tensor(1), tensor(2), tensor(8), tensor(2), tensor(1), tensor(5), tensor(9), tensor(3), tensor(7), tensor(4), tensor(8), tensor(4), tensor(0), tensor(8), tensor(7), tensor(0), tensor(9), tensor(7), tensor(1), tensor(3), tensor(1), tensor(9), tensor(7), tensor(1), tensor(0), tensor(9), tensor(0), tensor(1), tensor(5), tensor(9), tensor(1), tensor(7), tensor(2), tensor(4), tensor(3), tensor(9), tensor(5), tensor(4), tensor(8), tensor(3), tensor(9), tensor(0), tensor(8), tensor(5), tensor(9), tensor(1), tensor(7), tensor(7), tensor(4), tensor(6), tensor(0), tensor(1), tensor(2), tensor(4), tensor(9), tensor(3), tensor(0), tensor(6), tensor(5), tensor(0), tensor(9), tensor(7), tensor(6), tensor(5), tensor(3), tensor(1), tensor(9), tensor(9), tensor(1), tensor(7), tensor(6), tensor(0), tensor(0), tensor(1), tensor(0), tensor(3), tensor(4), tensor(4), tensor(6), tensor(1), tensor(2), tensor(1), tensor(2), tensor(2), tensor(3), tensor(7), tensor(9), tensor(0), tensor(6), tensor(6), tensor(6), tensor(4), tensor(2), tensor(5), tensor(3), tensor(2), tensor(2), tensor(3), tensor(0), tensor(6), tensor(2), tensor(3), tensor(3), tensor(5), tensor(3), tensor(5), tensor(3), tensor(5), tensor(3), tensor(2), tensor(1), tensor(2), tensor(5), tensor(5), tensor(0), tensor(7), tensor(9), tensor(5), tensor(3), tensor(7), tensor(7), tensor(6), tensor(2), tensor(6), tensor(8), tensor(5), tensor(9), tensor(1), tensor(5), tensor(1), tensor(0), tensor(5), tensor(0), tensor(1), tensor(2), tensor(3), tensor(8), tensor(6), tensor(7), tensor(1), tensor(0), tensor(9), tensor(6), tensor(2), tensor(5), tensor(5), tensor(1), tensor(2), tensor(8), tensor(6), tensor(3), tensor(6), tensor(6), tensor(2), tensor(4), tensor(8), tensor(4), tensor(1), tensor(0), tensor(3), tensor(1), tensor(7), tensor(0), tensor(9), tensor(0), tensor(4), tensor(8), tensor(6), tensor(6), tensor(6), tensor(0), tensor(0), tensor(3), tensor(9), tensor(0), tensor(8), tensor(5), tensor(0), tensor(9), tensor(6), tensor(1), tensor(4), tensor(1), tensor(5), tensor(8), tensor(2), tensor(0), tensor(2), tensor(5), tensor(3), tensor(7), tensor(2), tensor(0), tensor(2), tensor(6), tensor(6), tensor(0), tensor(5), tensor(0), tensor(2), tensor(0), tensor(4), tensor(6), tensor(4), tensor(2), tensor(1), tensor(7), tensor(0), tensor(5), tensor(7), tensor(2), tensor(0), tensor(6), tensor(9), tensor(8), tensor(8), tensor(8), tensor(0), tensor(7), tensor(4), tensor(8), tensor(4), tensor(2), tensor(1), tensor(3), tensor(7), tensor(1), tensor(3), tensor(1), tensor(6), tensor(9), tensor(7), tensor(6), tensor(9), tensor(3), tensor(0), tensor(4), tensor(8), tensor(1), tensor(8), tensor(3), tensor(1), tensor(8), tensor(8), tensor(6), tensor(1), tensor(4), tensor(7), tensor(0), tensor(4), tensor(3), tensor(5), tensor(0), tensor(3), tensor(8), tensor(2), tensor(4), tensor(6), tensor(6), tensor(7), tensor(5), tensor(6), tensor(0), tensor(0), tensor(7), tensor(1), tensor(8), tensor(0), tensor(5), tensor(0), tensor(9), tensor(8), tensor(1), tensor(7), tensor(5), tensor(2), tensor(1), tensor(6), tensor(6), tensor(1), tensor(3), tensor(4), tensor(4), tensor(4), tensor(7), tensor(1), tensor(6), tensor(2), tensor(9), tensor(7), tensor(0), tensor(0), tensor(1), tensor(4), tensor(6), tensor(7), tensor(9), tensor(8), tensor(0), tensor(6), tensor(7), tensor(6), tensor(8), tensor(3), tensor(2), tensor(0), tensor(9), tensor(2), tensor(4), tensor(8), tensor(1), tensor(5), tensor(9), tensor(1), tensor(2), tensor(9), tensor(5), tensor(5), tensor(6), tensor(8), tensor(0), tensor(5), tensor(9), tensor(0), tensor(0), tensor(5), tensor(1), tensor(6), tensor(5), tensor(2), tensor(4), tensor(8), tensor(0), tensor(8), tensor(3), tensor(4), tensor(3), tensor(3), tensor(5), tensor(3), tensor(8), tensor(2), tensor(7), tensor(9), tensor(4), tensor(9), tensor(7), tensor(8), tensor(6), tensor(2), tensor(6), tensor(1), tensor(8), tensor(9), tensor(9), tensor(7), tensor(9), tensor(7), tensor(0), tensor(7), tensor(8), tensor(3), tensor(7), tensor(9), tensor(9), tensor(8), tensor(2), tensor(5), tensor(8), tensor(3), tensor(8), tensor(3), tensor(6), tensor(5), tensor(6), tensor(8), tensor(8), tensor(3), tensor(2), tensor(6), tensor(6), tensor(3), tensor(8), tensor(5), tensor(7), tensor(8), tensor(2), tensor(4), tensor(9), tensor(7), tensor(4), tensor(8), tensor(0), tensor(9), tensor(8), tensor(1), tensor(4), tensor(8), tensor(2), tensor(7), tensor(9), tensor(6), tensor(6), tensor(0), tensor(9), tensor(1), tensor(6), tensor(2), tensor(9), tensor(4), tensor(5), tensor(0), tensor(4), tensor(7), tensor(6), tensor(6), tensor(3), tensor(0), tensor(4), tensor(8), tensor(7), tensor(8), tensor(7), tensor(2), tensor(1), tensor(6), tensor(1), tensor(2), tensor(1), tensor(8), tensor(9), tensor(2), tensor(8), tensor(4), tensor(9), tensor(1), tensor(2), tensor(2), tensor(1), tensor(9), tensor(3), tensor(9), tensor(6), tensor(0), tensor(6), tensor(0), tensor(8), tensor(7), tensor(2), tensor(5), tensor(9), tensor(3), tensor(1), tensor(2), tensor(1), tensor(3), tensor(3), tensor(8), tensor(5), tensor(6), tensor(2), tensor(9), tensor(3), tensor(5), tensor(3), tensor(0), tensor(2), tensor(6), tensor(1), tensor(6), tensor(7), tensor(2), tensor(6), tensor(0), tensor(9), tensor(2), tensor(0), tensor(4), tensor(5), tensor(3), tensor(5), tensor(9), tensor(1), tensor(0), tensor(1), tensor(7), tensor(5), tensor(4), tensor(2), tensor(2), tensor(6), tensor(3), tensor(8), tensor(3), tensor(3), tensor(3), tensor(8), tensor(3), tensor(1), tensor(6), tensor(7), tensor(8), tensor(8), tensor(8), tensor(4), tensor(3), tensor(7), tensor(5), tensor(1), tensor(4), tensor(7), tensor(0), tensor(2), tensor(0), tensor(5), tensor(3), tensor(2), tensor(2), tensor(2), tensor(6), tensor(2), tensor(5), tensor(8), tensor(8), tensor(9), tensor(8), tensor(1), tensor(0), tensor(5), tensor(1), tensor(4), tensor(9), tensor(3), tensor(0), tensor(8), tensor(2), tensor(9), tensor(4), tensor(5), tensor(1), tensor(3), tensor(8), tensor(1), tensor(0), tensor(4), tensor(2), tensor(4), tensor(0), tensor(9), tensor(5), tensor(4), tensor(8), tensor(7), tensor(7), tensor(4), tensor(9), tensor(6), tensor(6), tensor(8), tensor(0), tensor(7), tensor(7), tensor(6), tensor(9), tensor(1), tensor(0), tensor(2), tensor(3), tensor(0), tensor(3), tensor(3), tensor(0), tensor(5), tensor(4), tensor(4), tensor(1), tensor(6), tensor(6), tensor(9), tensor(6), tensor(1), tensor(1), tensor(1), tensor(8), tensor(0), tensor(9), tensor(8), tensor(5), tensor(8), tensor(0), tensor(1), tensor(3), tensor(5), tensor(5), tensor(5), tensor(0), tensor(1), tensor(8), tensor(9), tensor(3), tensor(0), tensor(5), tensor(7), tensor(5), tensor(8), tensor(1), tensor(5), tensor(5), tensor(3), tensor(1), tensor(0), tensor(6), tensor(7), tensor(0), tensor(6), tensor(5), tensor(2), tensor(4), tensor(1), tensor(8), tensor(5), tensor(6), tensor(4), tensor(4), tensor(2), tensor(8), tensor(9), tensor(9), tensor(1), tensor(2), tensor(8), tensor(6), tensor(7), tensor(1), tensor(3), tensor(9), tensor(3), tensor(0), tensor(0), tensor(0), tensor(5), tensor(9), tensor(4), tensor(0), tensor(1), tensor(7), tensor(6), tensor(0), tensor(4), tensor(9), tensor(3), tensor(6), tensor(2), tensor(0), tensor(8), tensor(8), tensor(3), tensor(5), tensor(1), tensor(3), tensor(7), tensor(4), tensor(0), tensor(8), tensor(8), tensor(1), tensor(4), tensor(0), tensor(4), tensor(5), tensor(6), tensor(7), tensor(5), tensor(2), tensor(6), tensor(3), tensor(4), tensor(9), tensor(0), tensor(1), tensor(7), tensor(8), tensor(1), tensor(5), tensor(2), tensor(4), tensor(3), tensor(5), tensor(7), tensor(1), tensor(6), tensor(5), tensor(6), tensor(8), tensor(8), tensor(9), tensor(6), tensor(8), tensor(4), tensor(6), tensor(4), tensor(3), tensor(5), tensor(4), tensor(1), tensor(3), tensor(9), tensor(4), tensor(9), tensor(1), tensor(7), tensor(9), tensor(3), tensor(9), tensor(2), tensor(7), tensor(0), tensor(8), tensor(4), tensor(7), tensor(9), tensor(4), tensor(0), tensor(4), tensor(9), tensor(8), tensor(0), tensor(6), tensor(1), tensor(0), tensor(2), tensor(1), tensor(6), tensor(8), tensor(3), tensor(6), tensor(6), tensor(0), tensor(1), tensor(2), tensor(2), tensor(2), tensor(8), tensor(0), tensor(9), tensor(0), tensor(8), tensor(2), tensor(5), tensor(8), tensor(9), tensor(7), tensor(7), tensor(0), tensor(9), tensor(6), tensor(3), tensor(1), tensor(0), tensor(6), tensor(7), tensor(1), tensor(8), tensor(7), tensor(1), tensor(0), tensor(8), tensor(4), tensor(8), tensor(4), tensor(0), tensor(9), tensor(1), tensor(0), tensor(1), tensor(1), tensor(0), tensor(7), tensor(7), tensor(2), tensor(8), tensor(8), tensor(4), tensor(6), tensor(5), tensor(5), tensor(1), tensor(0), tensor(9), tensor(4), tensor(1), tensor(6), tensor(2), tensor(7), tensor(1), tensor(4), tensor(7), tensor(9), tensor(3), tensor(1), tensor(0), tensor(2), tensor(3), tensor(9), tensor(5), tensor(2), tensor(1), tensor(7), tensor(8), tensor(6), tensor(3), tensor(4), tensor(9), tensor(1), tensor(2), tensor(5), tensor(1), tensor(6), tensor(6), tensor(7), tensor(9), tensor(5), tensor(3), tensor(3), tensor(1), tensor(8), tensor(7), tensor(1), tensor(7), tensor(8), tensor(2), tensor(7), tensor(9), tensor(1), tensor(2), tensor(0), tensor(8), tensor(0), tensor(4), tensor(0), tensor(8), tensor(9), tensor(8), tensor(6), tensor(7), tensor(8), tensor(6), tensor(0), tensor(2), tensor(0), tensor(6), tensor(9), tensor(3), tensor(6), tensor(9), tensor(8), tensor(2), tensor(2), tensor(2), tensor(6), tensor(5), tensor(1), tensor(1), tensor(0), tensor(3), tensor(6), tensor(3), tensor(5), tensor(3), tensor(5), tensor(0), tensor(3), tensor(4), tensor(3), tensor(7), tensor(8), tensor(7), tensor(6), tensor(1), tensor(3), tensor(3), tensor(1), tensor(0), tensor(4), tensor(7), tensor(9), tensor(4), tensor(4), tensor(2), tensor(1), tensor(7), tensor(3), tensor(9), tensor(9), tensor(4), tensor(1), tensor(3), tensor(4), tensor(7), tensor(7), tensor(4), tensor(7), tensor(7), tensor(3), tensor(2), tensor(9), tensor(0), tensor(6), tensor(7), tensor(7), tensor(1), tensor(5), tensor(1), tensor(0), tensor(0), tensor(0), tensor(6), tensor(3), tensor(2), tensor(7), tensor(7), tensor(8), tensor(4), tensor(8), tensor(5), tensor(2), tensor(0), tensor(3), tensor(6), tensor(4), tensor(2), tensor(1), tensor(0), tensor(3), tensor(0), tensor(6), tensor(0), tensor(7), tensor(6), tensor(6), tensor(4), tensor(5), tensor(1), tensor(2), tensor(9), tensor(8), tensor(7), tensor(2), tensor(4), tensor(6), tensor(8), tensor(3), tensor(1), tensor(6), tensor(9), tensor(0), tensor(6), tensor(1), tensor(2), tensor(2), tensor(4), tensor(2), tensor(8), tensor(5), tensor(3), tensor(1), tensor(4), tensor(1), tensor(1), tensor(2), tensor(5), tensor(6), tensor(0), tensor(9), tensor(3), tensor(2), tensor(4), tensor(3), tensor(9), tensor(7), tensor(0), tensor(5), tensor(4), tensor(6), tensor(3), tensor(7), tensor(2), tensor(3), tensor(1), tensor(6), tensor(0), tensor(0), tensor(8), tensor(1), tensor(3), tensor(4), tensor(9), tensor(9), tensor(2), tensor(6), tensor(1), tensor(3), tensor(2), tensor(1), tensor(2), tensor(4), tensor(7), tensor(1), tensor(2), tensor(4), tensor(4), tensor(7), tensor(1), tensor(6), tensor(2), tensor(2), tensor(5), tensor(8), tensor(9), tensor(6), tensor(1), tensor(9), tensor(2), tensor(5), tensor(9), tensor(9), tensor(8), tensor(3), tensor(1), tensor(8), tensor(1), tensor(8), tensor(7), tensor(9), tensor(2), tensor(0), tensor(5), tensor(7), tensor(8), tensor(1), tensor(3), tensor(3), tensor(5), tensor(6), tensor(0), tensor(9), tensor(7), tensor(9), tensor(6), tensor(2), tensor(4), tensor(0), tensor(1), tensor(2), tensor(5), tensor(5), tensor(6), tensor(5), tensor(2), tensor(4), tensor(7), tensor(3), tensor(7), tensor(0), tensor(4), tensor(5), tensor(3), tensor(3), tensor(0), tensor(6), tensor(7), tensor(7), tensor(2), tensor(0), tensor(7), tensor(1), tensor(2), tensor(8), tensor(6), tensor(9), tensor(9), tensor(1), tensor(8), tensor(0), tensor(2), tensor(6), tensor(5), tensor(6), tensor(2), tensor(6), tensor(2), tensor(0), tensor(4), tensor(1), tensor(3), tensor(9), tensor(2), tensor(1), tensor(4), tensor(8), tensor(8), tensor(8), tensor(7), tensor(4), tensor(1), tensor(8), tensor(6), tensor(0), tensor(4), tensor(4), tensor(7), tensor(4), tensor(9), tensor(0), tensor(4), tensor(2), tensor(9), tensor(8), tensor(3), tensor(7), tensor(8), tensor(4), tensor(4), tensor(5), tensor(3), tensor(9), tensor(8), tensor(3), tensor(6), tensor(7), tensor(9), tensor(2), tensor(2), tensor(8), tensor(5), tensor(0), tensor(8), tensor(1), tensor(6), tensor(8), tensor(7), tensor(7), tensor(1), tensor(5), tensor(9), tensor(5), tensor(2), tensor(6), tensor(8), tensor(6), tensor(8), tensor(4), tensor(7), tensor(8), tensor(7), tensor(2), tensor(0), tensor(0), tensor(5), tensor(8), tensor(3), tensor(3), tensor(3), tensor(1), tensor(5), tensor(8), tensor(7), tensor(0), tensor(4), tensor(4), tensor(8), tensor(3), tensor(7), tensor(6), tensor(0), tensor(8), tensor(4), tensor(4), tensor(8), tensor(9), tensor(5), tensor(1), tensor(0), tensor(5), tensor(1), tensor(5), tensor(3), tensor(7), tensor(8), tensor(6), tensor(6), tensor(6), tensor(9), tensor(0), tensor(7), tensor(6), tensor(6), tensor(8), tensor(3), tensor(6), tensor(8), tensor(9), tensor(7), tensor(9), tensor(5), tensor(9), tensor(3), tensor(1), tensor(1), tensor(9), tensor(9), tensor(8), tensor(7), tensor(1), tensor(1), tensor(2), tensor(3), tensor(8), tensor(1), tensor(2), tensor(2), tensor(0), tensor(0), tensor(5), tensor(2), tensor(3), tensor(6), tensor(5), tensor(5), tensor(9), tensor(6), tensor(5), tensor(7), tensor(1), tensor(5), tensor(1), tensor(1), tensor(9), tensor(9), tensor(2), tensor(4), tensor(1), tensor(1), tensor(9), tensor(8), tensor(8), tensor(3), tensor(3), tensor(9), tensor(1), tensor(3), tensor(1), tensor(6), tensor(3), tensor(3), tensor(9), tensor(9), tensor(0), tensor(0), tensor(8), tensor(4), tensor(0), tensor(5), tensor(4), tensor(3), tensor(8), tensor(7), tensor(1), tensor(0), tensor(2), tensor(9), tensor(1), tensor(0), tensor(7), tensor(8), tensor(1), tensor(4), tensor(0), tensor(8), tensor(8), tensor(5), tensor(3), tensor(1), tensor(0), tensor(9), tensor(5), tensor(1), tensor(2), tensor(0), tensor(1), tensor(3), tensor(0), tensor(8), tensor(8), tensor(7), tensor(2), tensor(2), tensor(0), tensor(2), tensor(4), tensor(7), tensor(8), tensor(7), tensor(1), tensor(0), tensor(8), tensor(7), tensor(7), tensor(2), tensor(4), tensor(2), tensor(0), tensor(3), tensor(7), tensor(7), tensor(1), tensor(4), tensor(1), tensor(5), tensor(0), tensor(7), tensor(5), tensor(3), tensor(0), tensor(2), tensor(6), tensor(0), tensor(1), tensor(8), tensor(3), tensor(2), tensor(6), tensor(7), tensor(6), tensor(8), tensor(8), tensor(5), tensor(6), tensor(4), tensor(4), tensor(2), tensor(4), tensor(8), tensor(0), tensor(1), tensor(1), tensor(4), tensor(9), tensor(2), tensor(9), tensor(2), tensor(9), tensor(2), tensor(2), tensor(6), tensor(9), tensor(1), tensor(1), tensor(1), tensor(3), tensor(4), tensor(2), tensor(9), tensor(0), tensor(0), tensor(4), tensor(7), tensor(2), tensor(6), tensor(1), tensor(0), tensor(6), tensor(6), tensor(4), tensor(5), tensor(5), tensor(9), tensor(1), tensor(7), tensor(1), tensor(2), tensor(3), tensor(6), tensor(9), tensor(5), tensor(1), tensor(5), tensor(9), tensor(5), tensor(3), tensor(6), tensor(1), tensor(6), tensor(2), tensor(9), tensor(5), tensor(0), tensor(1), tensor(7), tensor(4), tensor(6), tensor(2), tensor(7), tensor(4), tensor(6), tensor(5), tensor(8), tensor(5), tensor(5), tensor(5), tensor(9), tensor(7), tensor(6), tensor(2), tensor(0), tensor(8), tensor(0), tensor(7), tensor(5), tensor(4), tensor(8), tensor(8), tensor(0), tensor(4), tensor(9), tensor(3), tensor(1), tensor(9), tensor(8), tensor(8), tensor(2), tensor(4), tensor(2), tensor(5), tensor(8), tensor(9), tensor(2), tensor(9), tensor(5), tensor(2), tensor(8), tensor(1), tensor(8), tensor(5), tensor(1), tensor(3), tensor(5), tensor(6), tensor(1), tensor(2), tensor(7), tensor(7), tensor(3), tensor(9), tensor(7), tensor(0), tensor(0), tensor(7), tensor(6), tensor(0), tensor(4), tensor(7), tensor(0), tensor(6), tensor(9), tensor(6), tensor(3), tensor(7), tensor(5), tensor(9), tensor(0), tensor(9), tensor(1), tensor(3), tensor(7), tensor(5), tensor(9), tensor(8), tensor(9), tensor(9), tensor(5), tensor(7), tensor(0), tensor(4), tensor(4), tensor(1), tensor(0), tensor(0), tensor(8), tensor(3), tensor(0), tensor(8), tensor(7), tensor(3), tensor(4), tensor(8), tensor(6), tensor(2), tensor(9), tensor(3), tensor(0), tensor(4), tensor(6), tensor(4), tensor(8), tensor(6), tensor(6), tensor(6), tensor(5), tensor(7), tensor(3), tensor(2), tensor(2), tensor(9), tensor(9), tensor(1), tensor(6), tensor(9), tensor(7), tensor(3), tensor(9), tensor(7), tensor(6), tensor(2), tensor(1), tensor(4), tensor(2), tensor(8), tensor(4), tensor(6), tensor(5), tensor(4), tensor(9), tensor(9), tensor(3), tensor(2), tensor(3), tensor(1), tensor(6), tensor(0), tensor(3), tensor(2), tensor(0), tensor(5), tensor(7), tensor(0), tensor(8), tensor(3), tensor(0), tensor(9), tensor(2), tensor(1), tensor(4), tensor(2), tensor(9), tensor(4), tensor(0), tensor(1), tensor(4), tensor(7), tensor(0), tensor(5), tensor(1), tensor(8), tensor(6), tensor(0), tensor(3), tensor(5), tensor(3), tensor(3), tensor(3), tensor(0), tensor(7), tensor(0), tensor(8), tensor(0), tensor(1), tensor(7), tensor(4), tensor(3), tensor(3), tensor(9), tensor(1), tensor(7), tensor(7), tensor(1), tensor(4), tensor(4), tensor(9), tensor(4), tensor(0), tensor(1), tensor(2), tensor(3), tensor(2), tensor(7), tensor(1), tensor(4), tensor(1), tensor(6), tensor(1), tensor(3), tensor(6), tensor(9), tensor(2), tensor(8), tensor(4), tensor(3), tensor(2), tensor(5), tensor(2), tensor(2), tensor(7), tensor(0), tensor(4), tensor(2), tensor(1), tensor(0), tensor(2), tensor(4), tensor(1), tensor(5), tensor(8), tensor(1), tensor(9), tensor(7), tensor(2), tensor(0), tensor(5), tensor(0), tensor(0), tensor(4), tensor(5), tensor(7), tensor(8), tensor(7), tensor(7), tensor(0), tensor(3), tensor(2), tensor(4), tensor(1), tensor(2), tensor(2), tensor(4), tensor(3), tensor(1), tensor(3), tensor(2), tensor(6), tensor(6), tensor(6), tensor(7), tensor(1), tensor(2), tensor(2), tensor(9), tensor(6), tensor(7), tensor(6), tensor(1), tensor(6), tensor(5), tensor(4), tensor(9), tensor(6), tensor(3), tensor(3), tensor(1), tensor(2), tensor(2), tensor(5), tensor(6), tensor(8), tensor(4), tensor(4), tensor(8), tensor(5), tensor(9), tensor(3), tensor(7), tensor(6), tensor(8), tensor(7), tensor(4), tensor(8), tensor(8), tensor(3), tensor(2), tensor(7), tensor(1), tensor(7), tensor(1), tensor(0), tensor(1), tensor(2), tensor(5), tensor(8), tensor(3), tensor(7), tensor(9), tensor(7), tensor(6), tensor(9), tensor(8), tensor(3), tensor(1), tensor(1), tensor(6), tensor(4), tensor(9), tensor(4), tensor(5), tensor(5), tensor(4), tensor(5), tensor(7), tensor(6), tensor(3), tensor(3), tensor(6), tensor(0), tensor(9), tensor(2), tensor(9), tensor(2), tensor(6), tensor(4), tensor(7), tensor(4), tensor(3), tensor(4), tensor(5), tensor(0), tensor(4), tensor(1), tensor(4), tensor(5), tensor(3), tensor(4), tensor(0), tensor(2), tensor(4), tensor(3), tensor(7), tensor(5), tensor(3), tensor(1), tensor(0), tensor(0), tensor(1), tensor(9), tensor(6), tensor(5), tensor(7), tensor(1), tensor(3), tensor(1), tensor(4), tensor(4), tensor(9), tensor(4), tensor(5), tensor(8), tensor(1), tensor(7), tensor(1), tensor(4), tensor(9), tensor(1), tensor(3), tensor(5), tensor(9), tensor(1), tensor(1), tensor(6), tensor(7), tensor(8), tensor(1), tensor(2), tensor(6), tensor(9), tensor(9), tensor(0), tensor(8), tensor(1), tensor(3), tensor(8), tensor(4), tensor(7), tensor(3), tensor(0), tensor(3), tensor(7), tensor(1), tensor(1), tensor(7), tensor(0), tensor(1), tensor(1), tensor(6), tensor(5), tensor(4), tensor(5), tensor(9), tensor(2), tensor(6), tensor(3), tensor(1), tensor(1), tensor(9), tensor(7), tensor(7), tensor(4), tensor(5), tensor(4), tensor(4), tensor(7), tensor(3), tensor(3), tensor(1), tensor(8), tensor(0), tensor(2), tensor(6), tensor(3), tensor(4), tensor(8), tensor(9), tensor(6), tensor(3), tensor(0), tensor(5), tensor(7), tensor(6), tensor(8), tensor(0), tensor(1), tensor(1), tensor(7), tensor(5), tensor(6), tensor(3), tensor(4), tensor(8), tensor(6), tensor(7), tensor(4), tensor(2), tensor(6), tensor(5), tensor(1), tensor(7), tensor(1), tensor(9), tensor(4), tensor(3), tensor(8), tensor(0), tensor(4), tensor(9), tensor(4), tensor(9), tensor(6), tensor(0), tensor(9), tensor(0), tensor(3), tensor(0), tensor(4), tensor(7), tensor(5), tensor(0), tensor(4), tensor(0), tensor(3), tensor(9), tensor(7), tensor(5), tensor(2), tensor(3), tensor(0), tensor(6), tensor(1), tensor(7), tensor(3), tensor(5), tensor(1), tensor(8), tensor(6), tensor(0), tensor(5), tensor(7), tensor(2), tensor(5), tensor(5), tensor(4), tensor(8), tensor(2), tensor(3), tensor(7), tensor(5), tensor(7), tensor(6), tensor(7), tensor(0), tensor(3), tensor(2), tensor(5), tensor(9), tensor(4), tensor(1), tensor(8), tensor(6), tensor(3), tensor(4), tensor(4), tensor(3), tensor(4), tensor(9), tensor(4), tensor(7), tensor(4), tensor(3), tensor(3), tensor(3), tensor(1), tensor(8), tensor(5), tensor(0), tensor(9), tensor(4), tensor(3), tensor(6), tensor(0), tensor(7), tensor(6), tensor(8), tensor(7), tensor(4), tensor(2)]\n"
          ]
        }
      ]
    },
    {
      "cell_type": "code",
      "source": [
        "from sklearn.metrics import confusion_matrix\n",
        "classes = ('0',\n",
        "           '1',\n",
        "           '2',\n",
        "           '3',\n",
        "           '4',\n",
        "           '5',\n",
        "           '6',\n",
        "           '7',\n",
        "           '8',\n",
        "           '9'\n",
        "           )\n",
        "\n",
        "cf_matrix = confusion_matrix(y_true, y_pred)\n",
        "print(cf_matrix)"
      ],
      "metadata": {
        "colab": {
          "base_uri": "https://localhost:8080/"
        },
        "id": "_EfvI8FRnDBN",
        "outputId": "26059589-7e45-46b1-daf8-edbbf0c69b86"
      },
      "execution_count": null,
      "outputs": [
        {
          "output_type": "stream",
          "name": "stdout",
          "text": [
            "[[ 968    0    0    0    0    2    6    1    2    1]\n",
            " [   0 1106    6    3    0    2    3    1   14    0]\n",
            " [  12    0  970   11    4    4    9   12   10    0]\n",
            " [   0    0   17  951    0   18    0   14    5    5]\n",
            " [   2    1    2    0  919    4   13    3    5   33]\n",
            " [   4    3    0   15    1  839    9    5   12    4]\n",
            " [  10    3    3    1    2    8  930    0    1    0]\n",
            " [   1    9   34    0    0    2    0  965    0   17]\n",
            " [   7    1   11    7    2   32    5   13  891    5]\n",
            " [   5    5    6   12   31   27    1   10    6  906]]\n"
          ]
        }
      ]
    },
    {
      "cell_type": "code",
      "source": [
        "from sklearn.metrics import multilabel_confusion_matrix\n",
        "classes = ('0',\n",
        "           '1',\n",
        "           '2',\n",
        "           '3',\n",
        "           '4',\n",
        "           '5',\n",
        "           '6',\n",
        "           '7',\n",
        "           '8',\n",
        "           '9'\n",
        "           )\n",
        "\n",
        "cf_matrix = multilabel_confusion_matrix(y_true, y_pred)\n",
        "print(cf_matrix)"
      ],
      "metadata": {
        "colab": {
          "base_uri": "https://localhost:8080/"
        },
        "id": "uFGiF1c9lfAa",
        "outputId": "ac04acc4-d56a-457a-b75c-b354f1bd571a"
      },
      "execution_count": null,
      "outputs": [
        {
          "output_type": "stream",
          "name": "stdout",
          "text": [
            "[[[8979   41]\n",
            "  [  12  968]]\n",
            "\n",
            " [[8843   22]\n",
            "  [  29 1106]]\n",
            "\n",
            " [[8889   79]\n",
            "  [  62  970]]\n",
            "\n",
            " [[8941   49]\n",
            "  [  59  951]]\n",
            "\n",
            " [[8978   40]\n",
            "  [  63  919]]\n",
            "\n",
            " [[9009   99]\n",
            "  [  53  839]]\n",
            "\n",
            " [[8996   46]\n",
            "  [  28  930]]\n",
            "\n",
            " [[8913   59]\n",
            "  [  63  965]]\n",
            "\n",
            " [[8971   55]\n",
            "  [  83  891]]\n",
            "\n",
            " [[8926   65]\n",
            "  [ 103  906]]]\n"
          ]
        }
      ]
    },
    {
      "cell_type": "code",
      "source": [
        "## for mulitclass only, \n",
        "# print(\"precision_score:\", precision_score(y_true, y_pred, average='micro'))\n",
        "# print(\"recall_score:\", recall_score(y_true, y_pred, average='micro'))"
      ],
      "metadata": {
        "id": "q-mVrt4nn1VT"
      },
      "execution_count": null,
      "outputs": []
    },
    {
      "cell_type": "markdown",
      "source": [
        ""
      ],
      "metadata": {
        "id": "nppZ7G0QoE4L"
      }
    },
    {
      "cell_type": "code",
      "source": [
        "from sklearn.metrics import precision_score, recall_score, f1_score, roc_curve, roc_auc_score\n",
        "\n",
        "plt.style.use('seaborn')\n",
        "plt.plot([0,1], [0,1], '--')\n",
        "#Binary mode for each class\n",
        "for i in range(10):\n",
        "  y_true_temp=y_true.copy()\n",
        "  y_pred_temp=y_pred.copy()\n",
        "  for j in range(len(y_true)):\n",
        "    if y_true_temp[j]==i:\n",
        "      y_true_temp[j]= torch.tensor(0)\n",
        "    else :\n",
        "      y_true_temp[j]=torch.tensor(1)\n",
        "    if y_pred_temp[j]==i:\n",
        "      y_pred_temp[j]= torch.tensor(0)\n",
        "    else :\n",
        "      y_pred_temp[j]=torch.tensor(1)  \n",
        "    \n",
        "  fpr, tpr, thresholds = roc_curve(y_true_temp, y_pred_temp)\n",
        "  roc_auc = roc_auc_score(y_true_temp, y_pred_temp)\n",
        "  plt.plot(fpr, tpr, label=\"number:\"+str(i)+\"  auc_score:\"+str(f'{float(roc_auc):.3f}'))\n",
        "  # print(\"precision_score_for_number\"+str(i)+\":\"+str(precision_score(y_true_temp, y_pred_temp)))\n",
        "  # print(\"recall_score_for_number\"+str(i)+\":\"+str(recall_score(y_true_temp, y_pred_temp)))\n",
        "  # print(\"f1_score_for_number\"+str(i)+\":\"+str(f1_score(y_true_temp, y_pred_temp)))\n",
        "  # print(\"###########################################################\")\n",
        "plt.legend(loc='lower right')\n"
      ],
      "metadata": {
        "colab": {
          "base_uri": "https://localhost:8080/",
          "height": 364
        },
        "id": "IdGUdfzOkU0S",
        "outputId": "0ce87aba-5b45-49dd-fac2-df4576f822df"
      },
      "execution_count": null,
      "outputs": [
        {
          "output_type": "execute_result",
          "data": {
            "text/plain": [
              "<matplotlib.legend.Legend at 0x7f4b8463a590>"
            ]
          },
          "metadata": {},
          "execution_count": 86
        },
        {
          "output_type": "display_data",
          "data": {
            "text/plain": [
              "<Figure size 576x396 with 1 Axes>"
            ],
            "image/png": "[encoded data removed]"
          },
          "metadata": {}
        }
      ]
    },
    {
      "cell_type": "code",
      "source": [
        "actual=[0,0,1,1,1,1,0,0]\n",
        "predic=[0.1,0.8,0.1,0.8,1,1,0,0] # this should be probability hai\n",
        "fpr, tpr, threshold = roc_curve(actual, predic)\n",
        "auc_score = roc_auc_score(actual, predic)\n",
        "#print(confusion_matrix(actual, predic))\n",
        "print(auc_score)\n",
        "plt.plot([0,1], [0,1], ls='--')\n",
        "plt.plot(fpr, tpr)\n",
        "plt.xlabel('false positive rate')\n",
        "plt.ylabel('true positive rate')"
      ],
      "metadata": {
        "colab": {
          "base_uri": "https://localhost:8080/",
          "height": 396
        },
        "id": "Vuuf74ym77F1",
        "outputId": "07dddbec-9c14-499f-c10d-def23cbfc6da"
      },
      "execution_count": null,
      "outputs": [
        {
          "output_type": "stream",
          "name": "stdout",
          "text": [
            "0.875\n"
          ]
        },
        {
          "output_type": "execute_result",
          "data": {
            "text/plain": [
              "Text(0, 0.5, 'true positive rate')"
            ]
          },
          "metadata": {},
          "execution_count": 122
        },
        {
          "output_type": "display_data",
          "data": {
            "text/plain": [
              "<Figure size 576x396 with 1 Axes>"
            ],
            "image/png": "[encoded data removed]"
          },
          "metadata": {}
        }
      ]
    }
  ]
}