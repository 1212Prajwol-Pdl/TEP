{
  "nbformat": 4,
  "nbformat_minor": 0,
  "metadata": {
    "colab": {
      "name": "tune_test.ipynb",
      "provenance": [],
      "collapsed_sections": [],
      "authorship_tag": "ABX9TyOGpY69WFaPu+0gAZS+rLBI",
      "include_colab_link": true
    },
    "kernelspec": {
      "name": "python3",
      "display_name": "Python 3"
    },
    "language_info": {
      "name": "python"
    },
    "accelerator": "GPU"
  },
  "cells": [
    {
      "cell_type": "markdown",
      "metadata": {
        "id": "view-in-github",
        "colab_type": "text"
      },
      "source": [
        "<a href=\"https://colab.research.google.com/github/phantom-balance/TEP/blob/master/tune_test.ipynb\" target=\"_parent\"><img src=\"https://colab.research.google.com/assets/colab-badge.svg\" alt=\"Open In Colab\"/></a>"
      ]
    },
    {
      "cell_type": "code",
      "source": [
        "from IPython.display import YouTubeVideo \n",
        "from IPython.display import Image\n",
        "YouTubeVideo('dQw4w9WgXcQ')"
      ],
      "metadata": {
        "id": "NX3eXpUIkti9"
      },
      "execution_count": null,
      "outputs": []
    },
    {
      "cell_type": "code",
      "execution_count": null,
      "metadata": {
        "id": "DJfKS47Op-M-",
        "colab": {
          "base_uri": "https://localhost:8080/"
        },
        "outputId": "37e4b58e-5f61-43b0-bbb8-b09a5d35da22"
      },
      "outputs": [
        {
          "output_type": "stream",
          "name": "stdout",
          "text": [
            "Cloning into 'TEP'...\n",
            "remote: Enumerating objects: 692, done.\u001b[K\n",
            "remote: Counting objects: 100% (43/43), done.\u001b[K\n",
            "remote: Compressing objects: 100% (4/4), done.\u001b[K\n",
            "remote: Total 692 (delta 40), reused 41 (delta 39), pack-reused 649\u001b[K\n",
            "Receiving objects: 100% (692/692), 90.86 MiB | 11.55 MiB/s, done.\n",
            "Resolving deltas: 100% (339/339), done.\n",
            "/content/TEP\n"
          ]
        }
      ],
      "source": [
        "!git clone https://github.com/phantom-balance/TEP.git\n",
        "%cd TEP"
      ]
    },
    {
      "cell_type": "code",
      "source": [
        "!python sample_data.py"
      ],
      "metadata": {
        "id": "fLtYr0v-PM29"
      },
      "execution_count": null,
      "outputs": []
    },
    {
      "cell_type": "code",
      "source": [
        "from sample_LSTM import train\n",
        "train_loss_list, valid_loss_list = train()"
      ],
      "metadata": {
        "id": "WCe8ljwNqG6B",
        "colab": {
          "base_uri": "https://localhost:8080/"
        },
        "outputId": "6ff19d66-65f0-4d23-facc-df5fa3449ae1"
      },
      "execution_count": null,
      "outputs": [
        {
          "output_type": "stream",
          "name": "stdout",
          "text": [
            "seq_length:5\n",
            "learning_rate:0.001\n",
            "batch_size:30\n",
            "Epoch no: 0\n",
            "__Saving Checkpoint__\n",
            "Epoch no: 2\n",
            "__Saving Checkpoint__\n",
            "Epoch no: 4\n",
            "__Saving Checkpoint__\n",
            "Epoch no: 6\n",
            "__Saving Checkpoint__\n",
            "Epoch no: 8\n",
            "__Saving Checkpoint__\n",
            "Epoch no: 10\n",
            "__Saving Checkpoint__\n",
            "Epoch no: 12\n",
            "__Saving Checkpoint__\n",
            "Epoch no: 14\n",
            "__Saving Checkpoint__\n",
            "Epoch no: 16\n",
            "__Saving Checkpoint__\n",
            "Epoch no: 18\n",
            "__Saving Checkpoint__\n",
            "Epoch no: 20\n",
            "__Saving Checkpoint__\n",
            "Epoch no: 22\n",
            "__Saving Checkpoint__\n",
            "Epoch no: 24\n",
            "__Saving Checkpoint__\n",
            "Epoch no: 26\n",
            "__Saving Checkpoint__\n",
            "Epoch no: 28\n",
            "__Saving Checkpoint__\n"
          ]
        }
      ]
    },
    {
      "cell_type": "code",
      "source": [
        "# Visualize learning (training loss)\n",
        "import seaborn as sns\n",
        "train_loss = [float(loss) for loss in train_loss_list] \n",
        "loss_indices = [i for i,l in enumerate(train_loss)] \n",
        "plt = sns.lineplot(loss_indices, train_loss, label='Train')\n",
        "\n",
        "valid_loss = [float(loss) for loss in valid_loss_list] \n",
        "loss_indices = [2*i for i,l in enumerate(valid_loss)] \n",
        "plt = sns.lineplot(loss_indices, valid_loss, label='Valid')\n",
        "plt"
      ],
      "metadata": {
        "colab": {
          "base_uri": "https://localhost:8080/",
          "height": 372
        },
        "id": "W1siKHTFIacp",
        "outputId": "a19fbc48-9fe8-4bfb-e971-609ddb31fa46"
      },
      "execution_count": null,
      "outputs": [
        {
          "output_type": "stream",
          "name": "stderr",
          "text": [
            "/usr/local/lib/python3.7/dist-packages/seaborn/_decorators.py:43: FutureWarning: Pass the following variables as keyword args: x, y. From version 0.12, the only valid positional argument will be `data`, and passing other arguments without an explicit keyword will result in an error or misinterpretation.\n",
            "  FutureWarning\n",
            "/usr/local/lib/python3.7/dist-packages/seaborn/_decorators.py:43: FutureWarning: Pass the following variables as keyword args: x, y. From version 0.12, the only valid positional argument will be `data`, and passing other arguments without an explicit keyword will result in an error or misinterpretation.\n",
            "  FutureWarning\n"
          ]
        },
        {
          "output_type": "execute_result",
          "data": {
            "text/plain": [
              "<matplotlib.axes._subplots.AxesSubplot at 0x7f30924bb950>"
            ]
          },
          "metadata": {},
          "execution_count": 8
        },
        {
          "output_type": "display_data",
          "data": {
            "text/plain": [
              "<Figure size 432x288 with 1 Axes>"
            ],
            "image/png": "[encoded data removed]"
          },
          "metadata": {
            "needs_background": "light"
          }
        }
      ]
    },
    {
      "cell_type": "markdown",
      "source": [
        "example plot"
      ],
      "metadata": {
        "id": "Qp6O59vrM7Gh"
      }
    },
    {
      "cell_type": "code",
      "source": [
        "list1=[8,7,6,6.5,6,5,5.2,4,3,2,1.5]\n",
        "list2=[8,7.5,5.5,6.2,7.5,8]"
      ],
      "metadata": {
        "id": "EkM1daPJl5Yq"
      },
      "execution_count": null,
      "outputs": []
    },
    {
      "cell_type": "code",
      "source": [
        "# Visualizing\n",
        "import seaborn as sns\n",
        "import matplotlib.pyplot as plts\n",
        "train_loss = [float(loss) for loss in list1] \n",
        "loss_indices = [i for i,l in enumerate(train_loss)] \n",
        "plt = sns.lineplot(loss_indices, train_loss, label='train')\n",
        "valid_loss = [float(loss) for loss in list2] \n",
        "loss_indices = [2*i for i,l in enumerate(valid_loss)] \n",
        "plt = sns.lineplot(loss_indices, valid_loss, label='valid')\n",
        "plt = plts.axvline(4, color='r', ls='--')\n",
        "plt"
      ],
      "metadata": {
        "colab": {
          "base_uri": "https://localhost:8080/",
          "height": 372
        },
        "id": "T7R9JF2Yl50k",
        "outputId": "8c557450-e9db-4d71-cc8f-08a07d18d610"
      },
      "execution_count": null,
      "outputs": [
        {
          "output_type": "stream",
          "name": "stderr",
          "text": [
            "/usr/local/lib/python3.7/dist-packages/seaborn/_decorators.py:43: FutureWarning: Pass the following variables as keyword args: x, y. From version 0.12, the only valid positional argument will be `data`, and passing other arguments without an explicit keyword will result in an error or misinterpretation.\n",
            "  FutureWarning\n",
            "/usr/local/lib/python3.7/dist-packages/seaborn/_decorators.py:43: FutureWarning: Pass the following variables as keyword args: x, y. From version 0.12, the only valid positional argument will be `data`, and passing other arguments without an explicit keyword will result in an error or misinterpretation.\n",
            "  FutureWarning\n"
          ]
        },
        {
          "output_type": "execute_result",
          "data": {
            "text/plain": [
              "<matplotlib.lines.Line2D at 0x7f30917129d0>"
            ]
          },
          "metadata": {},
          "execution_count": 10
        },
        {
          "output_type": "display_data",
          "data": {
            "text/plain": [
              "<Figure size 432x288 with 1 Axes>"
            ],
            "image/png": "[encoded data removed]"
          },
          "metadata": {
            "needs_background": "light"
          }
        }
      ]
    }
  ]
}